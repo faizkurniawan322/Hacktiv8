{
 "cells": [
  {
   "attachments": {},
   "cell_type": "markdown",
   "metadata": {},
   "source": [
    "# 1. Perkenalan \n",
    "\n",
    "1.1 \\\n",
    "Nama : Faiz Kurniawan \\\n",
    "Batch : RMT 018 \\\n",
    "\\\n",
    "1.2 \\\n",
    "Latar Belakang\n",
    "<p style='text-align: justify;'> Covid-19 adalah penyakit menular yang disebabkan oleh virus SARS-CoV-2. Kebanyakan korban terjangkit akan mengalami gangguan pernafasan, dan akan sembuh dengan sendirinya tanpa penanganan intensif. Namun beberapa korban terjangkit yang memiliki penyakit bawaan seperti gangguan pernafasan, diabetes, atau kanker memiliki kemungkinan besar untuk mengalami sebuah komplikasi yang bisa berujung pada kematian. Cara terbaik mencegah dan menangani Covid-19 adalah dengan mengetahui bagaimana virus menyebar dan melindungi diri dari korban terjangkit lainnya, dan juga melakukan isolasi untuk mencegah terjadinya persebaran lebih lanjut.\n",
    " </p>\n",
    "\n",
    "\n",
    "\n",
    "1.3 \\\n",
    "Problem Statement\n",
    "<p style='text-align: justify;'> Berdasarkan latar belakang yang ada, peneliti ingin mengetahui data lebih lanjut mengenai Covid-19 di berbagai negara. Data-data seperti jumlah terjangkit, jumlah meninggal, dan persentase jumlah meninggal. Dengan adanya data tersebut, peneliti akan lebih mudah untuk menentukan negara mana saja yang efektif melakukan pencegahan covid, dan juga meminimalisir jumlah korban meninggal. </p>\n",
    "\n",
    "\n",
    "\n",
    "\n"
   ]
  },
  {
   "attachments": {},
   "cell_type": "markdown",
   "metadata": {},
   "source": [
    "# 2. Import Pustaka "
   ]
  },
  {
   "cell_type": "code",
   "execution_count": 2460,
   "metadata": {},
   "outputs": [],
   "source": [
    "import pandas as pd"
   ]
  },
  {
   "attachments": {},
   "cell_type": "markdown",
   "metadata": {},
   "source": [
    "# 3. Data Loading"
   ]
  },
  {
   "cell_type": "code",
   "execution_count": 2461,
   "metadata": {},
   "outputs": [
    {
     "data": {
      "text/html": [
       "<div>\n",
       "<style scoped>\n",
       "    .dataframe tbody tr th:only-of-type {\n",
       "        vertical-align: middle;\n",
       "    }\n",
       "\n",
       "    .dataframe tbody tr th {\n",
       "        vertical-align: top;\n",
       "    }\n",
       "\n",
       "    .dataframe thead th {\n",
       "        text-align: right;\n",
       "    }\n",
       "</style>\n",
       "<table border=\"1\" class=\"dataframe\">\n",
       "  <thead>\n",
       "    <tr style=\"text-align: right;\">\n",
       "      <th></th>\n",
       "      <th>province_state</th>\n",
       "      <th>country_region</th>\n",
       "      <th>date</th>\n",
       "      <th>confirmed</th>\n",
       "      <th>deaths</th>\n",
       "      <th>recovered</th>\n",
       "      <th>active</th>\n",
       "    </tr>\n",
       "  </thead>\n",
       "  <tbody>\n",
       "    <tr>\n",
       "      <th>0</th>\n",
       "      <td>Florida</td>\n",
       "      <td>US</td>\n",
       "      <td>2021-04-07</td>\n",
       "      <td>5240.0</td>\n",
       "      <td>136.0</td>\n",
       "      <td>NaN</td>\n",
       "      <td>NaN</td>\n",
       "    </tr>\n",
       "    <tr>\n",
       "      <th>1</th>\n",
       "      <td>Florida</td>\n",
       "      <td>US</td>\n",
       "      <td>2021-04-07</td>\n",
       "      <td>2697.0</td>\n",
       "      <td>45.0</td>\n",
       "      <td>NaN</td>\n",
       "      <td>NaN</td>\n",
       "    </tr>\n",
       "    <tr>\n",
       "      <th>2</th>\n",
       "      <td>Florida</td>\n",
       "      <td>US</td>\n",
       "      <td>2021-04-07</td>\n",
       "      <td>39322.0</td>\n",
       "      <td>732.0</td>\n",
       "      <td>NaN</td>\n",
       "      <td>NaN</td>\n",
       "    </tr>\n",
       "    <tr>\n",
       "      <th>3</th>\n",
       "      <td>Florida</td>\n",
       "      <td>US</td>\n",
       "      <td>2021-04-07</td>\n",
       "      <td>3268.0</td>\n",
       "      <td>55.0</td>\n",
       "      <td>NaN</td>\n",
       "      <td>NaN</td>\n",
       "    </tr>\n",
       "    <tr>\n",
       "      <th>4</th>\n",
       "      <td>Georgia</td>\n",
       "      <td>US</td>\n",
       "      <td>2021-04-07</td>\n",
       "      <td>2261.0</td>\n",
       "      <td>68.0</td>\n",
       "      <td>NaN</td>\n",
       "      <td>NaN</td>\n",
       "    </tr>\n",
       "    <tr>\n",
       "      <th>...</th>\n",
       "      <td>...</td>\n",
       "      <td>...</td>\n",
       "      <td>...</td>\n",
       "      <td>...</td>\n",
       "      <td>...</td>\n",
       "      <td>...</td>\n",
       "      <td>...</td>\n",
       "    </tr>\n",
       "    <tr>\n",
       "      <th>4131547</th>\n",
       "      <td>Louisiana</td>\n",
       "      <td>US</td>\n",
       "      <td>2020-05-17</td>\n",
       "      <td>84.0</td>\n",
       "      <td>2.0</td>\n",
       "      <td>0.0</td>\n",
       "      <td>82.0</td>\n",
       "    </tr>\n",
       "    <tr>\n",
       "      <th>4131548</th>\n",
       "      <td>Iowa</td>\n",
       "      <td>US</td>\n",
       "      <td>2020-05-17</td>\n",
       "      <td>18.0</td>\n",
       "      <td>0.0</td>\n",
       "      <td>0.0</td>\n",
       "      <td>18.0</td>\n",
       "    </tr>\n",
       "    <tr>\n",
       "      <th>4131549</th>\n",
       "      <td>Alabama</td>\n",
       "      <td>US</td>\n",
       "      <td>2020-05-17</td>\n",
       "      <td>34.0</td>\n",
       "      <td>1.0</td>\n",
       "      <td>0.0</td>\n",
       "      <td>33.0</td>\n",
       "    </tr>\n",
       "    <tr>\n",
       "      <th>4131550</th>\n",
       "      <td>Texas</td>\n",
       "      <td>US</td>\n",
       "      <td>2020-05-17</td>\n",
       "      <td>18.0</td>\n",
       "      <td>0.0</td>\n",
       "      <td>0.0</td>\n",
       "      <td>18.0</td>\n",
       "    </tr>\n",
       "    <tr>\n",
       "      <th>4131551</th>\n",
       "      <td>Iowa</td>\n",
       "      <td>US</td>\n",
       "      <td>2020-05-17</td>\n",
       "      <td>2215.0</td>\n",
       "      <td>16.0</td>\n",
       "      <td>0.0</td>\n",
       "      <td>2199.0</td>\n",
       "    </tr>\n",
       "  </tbody>\n",
       "</table>\n",
       "<p>4131552 rows × 7 columns</p>\n",
       "</div>"
      ],
      "text/plain": [
       "        province_state country_region        date  confirmed  deaths  \\\n",
       "0              Florida             US  2021-04-07     5240.0   136.0   \n",
       "1              Florida             US  2021-04-07     2697.0    45.0   \n",
       "2              Florida             US  2021-04-07    39322.0   732.0   \n",
       "3              Florida             US  2021-04-07     3268.0    55.0   \n",
       "4              Georgia             US  2021-04-07     2261.0    68.0   \n",
       "...                ...            ...         ...        ...     ...   \n",
       "4131547      Louisiana             US  2020-05-17       84.0     2.0   \n",
       "4131548           Iowa             US  2020-05-17       18.0     0.0   \n",
       "4131549        Alabama             US  2020-05-17       34.0     1.0   \n",
       "4131550          Texas             US  2020-05-17       18.0     0.0   \n",
       "4131551           Iowa             US  2020-05-17     2215.0    16.0   \n",
       "\n",
       "         recovered  active  \n",
       "0              NaN     NaN  \n",
       "1              NaN     NaN  \n",
       "2              NaN     NaN  \n",
       "3              NaN     NaN  \n",
       "4              NaN     NaN  \n",
       "...            ...     ...  \n",
       "4131547        0.0    82.0  \n",
       "4131548        0.0    18.0  \n",
       "4131549        0.0    33.0  \n",
       "4131550        0.0    18.0  \n",
       "4131551        0.0  2199.0  \n",
       "\n",
       "[4131552 rows x 7 columns]"
      ]
     },
     "execution_count": 2461,
     "metadata": {},
     "output_type": "execute_result"
    }
   ],
   "source": [
    "# SELECT province_state, country_region, date, confirmed, deaths, recovered, active FROM `bigquery-public-data.covid19_jhu_csse.summary`\n",
    "# Import dataset ke variable df\n",
    "df = pd.read_csv(\"h8dsft_P0GC1_faiz_kurniawan.csv\")\n",
    "df"
   ]
  },
  {
   "cell_type": "code",
   "execution_count": 2462,
   "metadata": {},
   "outputs": [
    {
     "name": "stdout",
     "output_type": "stream",
     "text": [
      "<class 'pandas.core.frame.DataFrame'>\n",
      "RangeIndex: 4131552 entries, 0 to 4131551\n",
      "Data columns (total 7 columns):\n",
      " #   Column          Dtype  \n",
      "---  ------          -----  \n",
      " 0   province_state  object \n",
      " 1   country_region  object \n",
      " 2   date            object \n",
      " 3   confirmed       float64\n",
      " 4   deaths          float64\n",
      " 5   recovered       float64\n",
      " 6   active          float64\n",
      "dtypes: float64(4), object(3)\n",
      "memory usage: 220.6+ MB\n"
     ]
    }
   ],
   "source": [
    "# Menampilkan info dari dataset\n",
    "df.info()"
   ]
  },
  {
   "cell_type": "code",
   "execution_count": 2463,
   "metadata": {},
   "outputs": [
    {
     "data": {
      "text/html": [
       "<div>\n",
       "<style scoped>\n",
       "    .dataframe tbody tr th:only-of-type {\n",
       "        vertical-align: middle;\n",
       "    }\n",
       "\n",
       "    .dataframe tbody tr th {\n",
       "        vertical-align: top;\n",
       "    }\n",
       "\n",
       "    .dataframe thead th {\n",
       "        text-align: right;\n",
       "    }\n",
       "</style>\n",
       "<table border=\"1\" class=\"dataframe\">\n",
       "  <thead>\n",
       "    <tr style=\"text-align: right;\">\n",
       "      <th></th>\n",
       "      <th>confirmed</th>\n",
       "      <th>deaths</th>\n",
       "      <th>recovered</th>\n",
       "      <th>active</th>\n",
       "    </tr>\n",
       "  </thead>\n",
       "  <tbody>\n",
       "    <tr>\n",
       "      <th>count</th>\n",
       "      <td>4.131533e+06</td>\n",
       "      <td>4.131110e+06</td>\n",
       "      <td>1.435591e+06</td>\n",
       "      <td>1.427512e+06</td>\n",
       "    </tr>\n",
       "    <tr>\n",
       "      <th>mean</th>\n",
       "      <td>7.123718e+04</td>\n",
       "      <td>1.004514e+03</td>\n",
       "      <td>1.636175e+04</td>\n",
       "      <td>6.556527e+03</td>\n",
       "    </tr>\n",
       "    <tr>\n",
       "      <th>std</th>\n",
       "      <td>5.642347e+05</td>\n",
       "      <td>6.253519e+03</td>\n",
       "      <td>1.341763e+05</td>\n",
       "      <td>9.286123e+04</td>\n",
       "    </tr>\n",
       "    <tr>\n",
       "      <th>min</th>\n",
       "      <td>-3.028440e+05</td>\n",
       "      <td>-1.780000e+02</td>\n",
       "      <td>-8.544050e+05</td>\n",
       "      <td>-6.298082e+06</td>\n",
       "    </tr>\n",
       "    <tr>\n",
       "      <th>25%</th>\n",
       "      <td>7.610000e+02</td>\n",
       "      <td>1.000000e+01</td>\n",
       "      <td>0.000000e+00</td>\n",
       "      <td>5.500000e+01</td>\n",
       "    </tr>\n",
       "    <tr>\n",
       "      <th>50%</th>\n",
       "      <td>3.578000e+03</td>\n",
       "      <td>5.600000e+01</td>\n",
       "      <td>0.000000e+00</td>\n",
       "      <td>4.710000e+02</td>\n",
       "    </tr>\n",
       "    <tr>\n",
       "      <th>75%</th>\n",
       "      <td>1.546200e+04</td>\n",
       "      <td>2.160000e+02</td>\n",
       "      <td>0.000000e+00</td>\n",
       "      <td>2.248000e+03</td>\n",
       "    </tr>\n",
       "    <tr>\n",
       "      <th>max</th>\n",
       "      <td>3.849501e+07</td>\n",
       "      <td>6.246410e+05</td>\n",
       "      <td>6.399531e+06</td>\n",
       "      <td>1.087776e+07</td>\n",
       "    </tr>\n",
       "  </tbody>\n",
       "</table>\n",
       "</div>"
      ],
      "text/plain": [
       "          confirmed        deaths     recovered        active\n",
       "count  4.131533e+06  4.131110e+06  1.435591e+06  1.427512e+06\n",
       "mean   7.123718e+04  1.004514e+03  1.636175e+04  6.556527e+03\n",
       "std    5.642347e+05  6.253519e+03  1.341763e+05  9.286123e+04\n",
       "min   -3.028440e+05 -1.780000e+02 -8.544050e+05 -6.298082e+06\n",
       "25%    7.610000e+02  1.000000e+01  0.000000e+00  5.500000e+01\n",
       "50%    3.578000e+03  5.600000e+01  0.000000e+00  4.710000e+02\n",
       "75%    1.546200e+04  2.160000e+02  0.000000e+00  2.248000e+03\n",
       "max    3.849501e+07  6.246410e+05  6.399531e+06  1.087776e+07"
      ]
     },
     "execution_count": 2463,
     "metadata": {},
     "output_type": "execute_result"
    }
   ],
   "source": [
    "# Menampilkan deskripsi dari dataset\n",
    "df.describe()"
   ]
  },
  {
   "cell_type": "code",
   "execution_count": 2464,
   "metadata": {},
   "outputs": [
    {
     "data": {
      "text/html": [
       "<div>\n",
       "<style scoped>\n",
       "    .dataframe tbody tr th:only-of-type {\n",
       "        vertical-align: middle;\n",
       "    }\n",
       "\n",
       "    .dataframe tbody tr th {\n",
       "        vertical-align: top;\n",
       "    }\n",
       "\n",
       "    .dataframe thead th {\n",
       "        text-align: right;\n",
       "    }\n",
       "</style>\n",
       "<table border=\"1\" class=\"dataframe\">\n",
       "  <thead>\n",
       "    <tr style=\"text-align: right;\">\n",
       "      <th></th>\n",
       "      <th>province_state</th>\n",
       "      <th>country_region</th>\n",
       "      <th>date</th>\n",
       "      <th>confirmed</th>\n",
       "      <th>deaths</th>\n",
       "      <th>recovered</th>\n",
       "      <th>active</th>\n",
       "    </tr>\n",
       "  </thead>\n",
       "  <tbody>\n",
       "    <tr>\n",
       "      <th>0</th>\n",
       "      <td>Florida</td>\n",
       "      <td>US</td>\n",
       "      <td>2021-04-07</td>\n",
       "      <td>5240.0</td>\n",
       "      <td>136.0</td>\n",
       "      <td>NaN</td>\n",
       "      <td>NaN</td>\n",
       "    </tr>\n",
       "    <tr>\n",
       "      <th>1</th>\n",
       "      <td>Florida</td>\n",
       "      <td>US</td>\n",
       "      <td>2021-04-07</td>\n",
       "      <td>2697.0</td>\n",
       "      <td>45.0</td>\n",
       "      <td>NaN</td>\n",
       "      <td>NaN</td>\n",
       "    </tr>\n",
       "    <tr>\n",
       "      <th>2</th>\n",
       "      <td>Florida</td>\n",
       "      <td>US</td>\n",
       "      <td>2021-04-07</td>\n",
       "      <td>39322.0</td>\n",
       "      <td>732.0</td>\n",
       "      <td>NaN</td>\n",
       "      <td>NaN</td>\n",
       "    </tr>\n",
       "    <tr>\n",
       "      <th>3</th>\n",
       "      <td>Florida</td>\n",
       "      <td>US</td>\n",
       "      <td>2021-04-07</td>\n",
       "      <td>3268.0</td>\n",
       "      <td>55.0</td>\n",
       "      <td>NaN</td>\n",
       "      <td>NaN</td>\n",
       "    </tr>\n",
       "    <tr>\n",
       "      <th>4</th>\n",
       "      <td>Georgia</td>\n",
       "      <td>US</td>\n",
       "      <td>2021-04-07</td>\n",
       "      <td>2261.0</td>\n",
       "      <td>68.0</td>\n",
       "      <td>NaN</td>\n",
       "      <td>NaN</td>\n",
       "    </tr>\n",
       "  </tbody>\n",
       "</table>\n",
       "</div>"
      ],
      "text/plain": [
       "  province_state country_region        date  confirmed  deaths  recovered  \\\n",
       "0        Florida             US  2021-04-07     5240.0   136.0        NaN   \n",
       "1        Florida             US  2021-04-07     2697.0    45.0        NaN   \n",
       "2        Florida             US  2021-04-07    39322.0   732.0        NaN   \n",
       "3        Florida             US  2021-04-07     3268.0    55.0        NaN   \n",
       "4        Georgia             US  2021-04-07     2261.0    68.0        NaN   \n",
       "\n",
       "   active  \n",
       "0     NaN  \n",
       "1     NaN  \n",
       "2     NaN  \n",
       "3     NaN  \n",
       "4     NaN  "
      ]
     },
     "execution_count": 2464,
     "metadata": {},
     "output_type": "execute_result"
    }
   ],
   "source": [
    "# Menampilkan 5 data teratas dari dataset\n",
    "df.head()"
   ]
  },
  {
   "cell_type": "code",
   "execution_count": 2465,
   "metadata": {},
   "outputs": [
    {
     "data": {
      "text/html": [
       "<div>\n",
       "<style scoped>\n",
       "    .dataframe tbody tr th:only-of-type {\n",
       "        vertical-align: middle;\n",
       "    }\n",
       "\n",
       "    .dataframe tbody tr th {\n",
       "        vertical-align: top;\n",
       "    }\n",
       "\n",
       "    .dataframe thead th {\n",
       "        text-align: right;\n",
       "    }\n",
       "</style>\n",
       "<table border=\"1\" class=\"dataframe\">\n",
       "  <thead>\n",
       "    <tr style=\"text-align: right;\">\n",
       "      <th></th>\n",
       "      <th>province_state</th>\n",
       "      <th>country_region</th>\n",
       "      <th>date</th>\n",
       "      <th>confirmed</th>\n",
       "      <th>deaths</th>\n",
       "      <th>recovered</th>\n",
       "      <th>active</th>\n",
       "    </tr>\n",
       "  </thead>\n",
       "  <tbody>\n",
       "    <tr>\n",
       "      <th>4131547</th>\n",
       "      <td>Louisiana</td>\n",
       "      <td>US</td>\n",
       "      <td>2020-05-17</td>\n",
       "      <td>84.0</td>\n",
       "      <td>2.0</td>\n",
       "      <td>0.0</td>\n",
       "      <td>82.0</td>\n",
       "    </tr>\n",
       "    <tr>\n",
       "      <th>4131548</th>\n",
       "      <td>Iowa</td>\n",
       "      <td>US</td>\n",
       "      <td>2020-05-17</td>\n",
       "      <td>18.0</td>\n",
       "      <td>0.0</td>\n",
       "      <td>0.0</td>\n",
       "      <td>18.0</td>\n",
       "    </tr>\n",
       "    <tr>\n",
       "      <th>4131549</th>\n",
       "      <td>Alabama</td>\n",
       "      <td>US</td>\n",
       "      <td>2020-05-17</td>\n",
       "      <td>34.0</td>\n",
       "      <td>1.0</td>\n",
       "      <td>0.0</td>\n",
       "      <td>33.0</td>\n",
       "    </tr>\n",
       "    <tr>\n",
       "      <th>4131550</th>\n",
       "      <td>Texas</td>\n",
       "      <td>US</td>\n",
       "      <td>2020-05-17</td>\n",
       "      <td>18.0</td>\n",
       "      <td>0.0</td>\n",
       "      <td>0.0</td>\n",
       "      <td>18.0</td>\n",
       "    </tr>\n",
       "    <tr>\n",
       "      <th>4131551</th>\n",
       "      <td>Iowa</td>\n",
       "      <td>US</td>\n",
       "      <td>2020-05-17</td>\n",
       "      <td>2215.0</td>\n",
       "      <td>16.0</td>\n",
       "      <td>0.0</td>\n",
       "      <td>2199.0</td>\n",
       "    </tr>\n",
       "  </tbody>\n",
       "</table>\n",
       "</div>"
      ],
      "text/plain": [
       "        province_state country_region        date  confirmed  deaths  \\\n",
       "4131547      Louisiana             US  2020-05-17       84.0     2.0   \n",
       "4131548           Iowa             US  2020-05-17       18.0     0.0   \n",
       "4131549        Alabama             US  2020-05-17       34.0     1.0   \n",
       "4131550          Texas             US  2020-05-17       18.0     0.0   \n",
       "4131551           Iowa             US  2020-05-17     2215.0    16.0   \n",
       "\n",
       "         recovered  active  \n",
       "4131547        0.0    82.0  \n",
       "4131548        0.0    18.0  \n",
       "4131549        0.0    33.0  \n",
       "4131550        0.0    18.0  \n",
       "4131551        0.0  2199.0  "
      ]
     },
     "execution_count": 2465,
     "metadata": {},
     "output_type": "execute_result"
    }
   ],
   "source": [
    "# Menampilkan 5 data terbawah dari dataset\n",
    "df.tail()"
   ]
  },
  {
   "cell_type": "code",
   "execution_count": 2466,
   "metadata": {},
   "outputs": [
    {
     "data": {
      "text/html": [
       "<div>\n",
       "<style scoped>\n",
       "    .dataframe tbody tr th:only-of-type {\n",
       "        vertical-align: middle;\n",
       "    }\n",
       "\n",
       "    .dataframe tbody tr th {\n",
       "        vertical-align: top;\n",
       "    }\n",
       "\n",
       "    .dataframe thead th {\n",
       "        text-align: right;\n",
       "    }\n",
       "</style>\n",
       "<table border=\"1\" class=\"dataframe\">\n",
       "  <thead>\n",
       "    <tr style=\"text-align: right;\">\n",
       "      <th></th>\n",
       "      <th>province_state</th>\n",
       "      <th>country_region</th>\n",
       "      <th>date</th>\n",
       "      <th>confirmed</th>\n",
       "      <th>deaths</th>\n",
       "      <th>recovered</th>\n",
       "      <th>active</th>\n",
       "    </tr>\n",
       "  </thead>\n",
       "  <tbody>\n",
       "    <tr>\n",
       "      <th>1784203</th>\n",
       "      <td>West Virginia</td>\n",
       "      <td>US</td>\n",
       "      <td>2022-06-14</td>\n",
       "      <td>22831.0</td>\n",
       "      <td>350.0</td>\n",
       "      <td>NaN</td>\n",
       "      <td>NaN</td>\n",
       "    </tr>\n",
       "  </tbody>\n",
       "</table>\n",
       "</div>"
      ],
      "text/plain": [
       "        province_state country_region        date  confirmed  deaths  \\\n",
       "1784203  West Virginia             US  2022-06-14    22831.0   350.0   \n",
       "\n",
       "         recovered  active  \n",
       "1784203        NaN     NaN  "
      ]
     },
     "execution_count": 2466,
     "metadata": {},
     "output_type": "execute_result"
    }
   ],
   "source": [
    "# Menampilkan data acak dari dataset\n",
    "df.sample()"
   ]
  },
  {
   "cell_type": "code",
   "execution_count": 2467,
   "metadata": {},
   "outputs": [
    {
     "data": {
      "text/plain": [
       "province_state     185984\n",
       "country_region          1\n",
       "date                    0\n",
       "confirmed              19\n",
       "deaths                442\n",
       "recovered         2695961\n",
       "active            2704040\n",
       "dtype: int64"
      ]
     },
     "execution_count": 2467,
     "metadata": {},
     "output_type": "execute_result"
    }
   ],
   "source": [
    "# Menampilkan jumlah data kosong masing-masing kolom dari dataset \n",
    "df.isnull().sum()"
   ]
  },
  {
   "attachments": {},
   "cell_type": "markdown",
   "metadata": {},
   "source": [
    "# 4. Data Cleaning"
   ]
  },
  {
   "cell_type": "code",
   "execution_count": 2468,
   "metadata": {},
   "outputs": [
    {
     "name": "stderr",
     "output_type": "stream",
     "text": [
      "C:\\Users\\kaboe\\AppData\\Local\\Temp\\ipykernel_18440\\1614836381.py:3: FutureWarning: The default value of numeric_only in DataFrameGroupBy.sum is deprecated. In a future version, numeric_only will default to False. Either specify numeric_only or select only columns which should be valid for the function.\n",
      "  df = df.groupby(by='country_region').sum()\n"
     ]
    },
    {
     "data": {
      "text/html": [
       "<div>\n",
       "<style scoped>\n",
       "    .dataframe tbody tr th:only-of-type {\n",
       "        vertical-align: middle;\n",
       "    }\n",
       "\n",
       "    .dataframe tbody tr th {\n",
       "        vertical-align: top;\n",
       "    }\n",
       "\n",
       "    .dataframe thead th {\n",
       "        text-align: right;\n",
       "    }\n",
       "</style>\n",
       "<table border=\"1\" class=\"dataframe\">\n",
       "  <thead>\n",
       "    <tr style=\"text-align: right;\">\n",
       "      <th></th>\n",
       "      <th>confirmed</th>\n",
       "      <th>deaths</th>\n",
       "      <th>recovered</th>\n",
       "      <th>active</th>\n",
       "    </tr>\n",
       "    <tr>\n",
       "      <th>country_region</th>\n",
       "      <th></th>\n",
       "      <th></th>\n",
       "      <th></th>\n",
       "      <th></th>\n",
       "    </tr>\n",
       "  </thead>\n",
       "  <tbody>\n",
       "    <tr>\n",
       "      <th>Azerbaijan</th>\n",
       "      <td>1.0</td>\n",
       "      <td>0.0</td>\n",
       "      <td>0.0</td>\n",
       "      <td>0.0</td>\n",
       "    </tr>\n",
       "    <tr>\n",
       "      <th>Afghanistan</th>\n",
       "      <td>123035440.0</td>\n",
       "      <td>5159337.0</td>\n",
       "      <td>18289621.0</td>\n",
       "      <td>5585812.0</td>\n",
       "    </tr>\n",
       "    <tr>\n",
       "      <th>Albania</th>\n",
       "      <td>174475186.0</td>\n",
       "      <td>2366644.0</td>\n",
       "      <td>22652652.0</td>\n",
       "      <td>5460191.0</td>\n",
       "    </tr>\n",
       "    <tr>\n",
       "      <th>Algeria</th>\n",
       "      <td>173784296.0</td>\n",
       "      <td>4674202.0</td>\n",
       "      <td>25670233.0</td>\n",
       "      <td>10646044.0</td>\n",
       "    </tr>\n",
       "    <tr>\n",
       "      <th>Andorra</th>\n",
       "      <td>22967561.0</td>\n",
       "      <td>121745.0</td>\n",
       "      <td>3085649.0</td>\n",
       "      <td>196668.0</td>\n",
       "    </tr>\n",
       "    <tr>\n",
       "      <th>...</th>\n",
       "      <td>...</td>\n",
       "      <td>...</td>\n",
       "      <td>...</td>\n",
       "      <td>...</td>\n",
       "    </tr>\n",
       "    <tr>\n",
       "      <th>Winter Olympics 2022</th>\n",
       "      <td>193377.0</td>\n",
       "      <td>0.0</td>\n",
       "      <td>0.0</td>\n",
       "      <td>0.0</td>\n",
       "    </tr>\n",
       "    <tr>\n",
       "      <th>Yemen</th>\n",
       "      <td>7487425.0</td>\n",
       "      <td>1444498.0</td>\n",
       "      <td>774885.0</td>\n",
       "      <td>324218.0</td>\n",
       "    </tr>\n",
       "    <tr>\n",
       "      <th>Zambia</th>\n",
       "      <td>184648034.0</td>\n",
       "      <td>2497957.0</td>\n",
       "      <td>21852796.0</td>\n",
       "      <td>1478591.0</td>\n",
       "    </tr>\n",
       "    <tr>\n",
       "      <th>Zimbabwe</th>\n",
       "      <td>131686285.0</td>\n",
       "      <td>3273837.0</td>\n",
       "      <td>8779035.0</td>\n",
       "      <td>1571595.0</td>\n",
       "    </tr>\n",
       "    <tr>\n",
       "      <th>occupied Palestinian territory</th>\n",
       "      <td>25.0</td>\n",
       "      <td>0.0</td>\n",
       "      <td>0.0</td>\n",
       "      <td>0.0</td>\n",
       "    </tr>\n",
       "  </tbody>\n",
       "</table>\n",
       "<p>252 rows × 4 columns</p>\n",
       "</div>"
      ],
      "text/plain": [
       "                                  confirmed     deaths   recovered      active\n",
       "country_region                                                                \n",
       " Azerbaijan                             1.0        0.0         0.0         0.0\n",
       "Afghanistan                     123035440.0  5159337.0  18289621.0   5585812.0\n",
       "Albania                         174475186.0  2366644.0  22652652.0   5460191.0\n",
       "Algeria                         173784296.0  4674202.0  25670233.0  10646044.0\n",
       "Andorra                          22967561.0   121745.0   3085649.0    196668.0\n",
       "...                                     ...        ...         ...         ...\n",
       "Winter Olympics 2022               193377.0        0.0         0.0         0.0\n",
       "Yemen                             7487425.0  1444498.0    774885.0    324218.0\n",
       "Zambia                          184648034.0  2497957.0  21852796.0   1478591.0\n",
       "Zimbabwe                        131686285.0  3273837.0   8779035.0   1571595.0\n",
       "occupied Palestinian territory         25.0        0.0         0.0         0.0\n",
       "\n",
       "[252 rows x 4 columns]"
      ]
     },
     "execution_count": 2468,
     "metadata": {},
     "output_type": "execute_result"
    }
   ],
   "source": [
    "# Grouping kolom country_region untuk mendapatkan data total alih-alih harian\n",
    "# Penjumlahan value confirmed dan deaths\n",
    "df = df.groupby(by='country_region').sum()\n",
    "df"
   ]
  },
  {
   "cell_type": "code",
   "execution_count": 2469,
   "metadata": {},
   "outputs": [
    {
     "data": {
      "text/html": [
       "<div>\n",
       "<style scoped>\n",
       "    .dataframe tbody tr th:only-of-type {\n",
       "        vertical-align: middle;\n",
       "    }\n",
       "\n",
       "    .dataframe tbody tr th {\n",
       "        vertical-align: top;\n",
       "    }\n",
       "\n",
       "    .dataframe thead th {\n",
       "        text-align: right;\n",
       "    }\n",
       "</style>\n",
       "<table border=\"1\" class=\"dataframe\">\n",
       "  <thead>\n",
       "    <tr style=\"text-align: right;\">\n",
       "      <th></th>\n",
       "      <th>confirmed</th>\n",
       "      <th>deaths</th>\n",
       "      <th>recovered</th>\n",
       "      <th>active</th>\n",
       "      <th>Persen</th>\n",
       "    </tr>\n",
       "    <tr>\n",
       "      <th>country_region</th>\n",
       "      <th></th>\n",
       "      <th></th>\n",
       "      <th></th>\n",
       "      <th></th>\n",
       "      <th></th>\n",
       "    </tr>\n",
       "  </thead>\n",
       "  <tbody>\n",
       "    <tr>\n",
       "      <th>Azerbaijan</th>\n",
       "      <td>1.0</td>\n",
       "      <td>0.0</td>\n",
       "      <td>0.0</td>\n",
       "      <td>0.0</td>\n",
       "      <td>0.000000</td>\n",
       "    </tr>\n",
       "    <tr>\n",
       "      <th>Afghanistan</th>\n",
       "      <td>123035440.0</td>\n",
       "      <td>5159337.0</td>\n",
       "      <td>18289621.0</td>\n",
       "      <td>5585812.0</td>\n",
       "      <td>4.193375</td>\n",
       "    </tr>\n",
       "    <tr>\n",
       "      <th>Albania</th>\n",
       "      <td>174475186.0</td>\n",
       "      <td>2366644.0</td>\n",
       "      <td>22652652.0</td>\n",
       "      <td>5460191.0</td>\n",
       "      <td>1.356436</td>\n",
       "    </tr>\n",
       "    <tr>\n",
       "      <th>Algeria</th>\n",
       "      <td>173784296.0</td>\n",
       "      <td>4674202.0</td>\n",
       "      <td>25670233.0</td>\n",
       "      <td>10646044.0</td>\n",
       "      <td>2.689657</td>\n",
       "    </tr>\n",
       "    <tr>\n",
       "      <th>Andorra</th>\n",
       "      <td>22967561.0</td>\n",
       "      <td>121745.0</td>\n",
       "      <td>3085649.0</td>\n",
       "      <td>196668.0</td>\n",
       "      <td>0.530074</td>\n",
       "    </tr>\n",
       "    <tr>\n",
       "      <th>...</th>\n",
       "      <td>...</td>\n",
       "      <td>...</td>\n",
       "      <td>...</td>\n",
       "      <td>...</td>\n",
       "      <td>...</td>\n",
       "    </tr>\n",
       "    <tr>\n",
       "      <th>Winter Olympics 2022</th>\n",
       "      <td>193377.0</td>\n",
       "      <td>0.0</td>\n",
       "      <td>0.0</td>\n",
       "      <td>0.0</td>\n",
       "      <td>0.000000</td>\n",
       "    </tr>\n",
       "    <tr>\n",
       "      <th>Yemen</th>\n",
       "      <td>7487425.0</td>\n",
       "      <td>1444498.0</td>\n",
       "      <td>774885.0</td>\n",
       "      <td>324218.0</td>\n",
       "      <td>19.292320</td>\n",
       "    </tr>\n",
       "    <tr>\n",
       "      <th>Zambia</th>\n",
       "      <td>184648034.0</td>\n",
       "      <td>2497957.0</td>\n",
       "      <td>21852796.0</td>\n",
       "      <td>1478591.0</td>\n",
       "      <td>1.352821</td>\n",
       "    </tr>\n",
       "    <tr>\n",
       "      <th>Zimbabwe</th>\n",
       "      <td>131686285.0</td>\n",
       "      <td>3273837.0</td>\n",
       "      <td>8779035.0</td>\n",
       "      <td>1571595.0</td>\n",
       "      <td>2.486088</td>\n",
       "    </tr>\n",
       "    <tr>\n",
       "      <th>occupied Palestinian territory</th>\n",
       "      <td>25.0</td>\n",
       "      <td>0.0</td>\n",
       "      <td>0.0</td>\n",
       "      <td>0.0</td>\n",
       "      <td>0.000000</td>\n",
       "    </tr>\n",
       "  </tbody>\n",
       "</table>\n",
       "<p>252 rows × 5 columns</p>\n",
       "</div>"
      ],
      "text/plain": [
       "                                  confirmed     deaths   recovered  \\\n",
       "country_region                                                       \n",
       " Azerbaijan                             1.0        0.0         0.0   \n",
       "Afghanistan                     123035440.0  5159337.0  18289621.0   \n",
       "Albania                         174475186.0  2366644.0  22652652.0   \n",
       "Algeria                         173784296.0  4674202.0  25670233.0   \n",
       "Andorra                          22967561.0   121745.0   3085649.0   \n",
       "...                                     ...        ...         ...   \n",
       "Winter Olympics 2022               193377.0        0.0         0.0   \n",
       "Yemen                             7487425.0  1444498.0    774885.0   \n",
       "Zambia                          184648034.0  2497957.0  21852796.0   \n",
       "Zimbabwe                        131686285.0  3273837.0   8779035.0   \n",
       "occupied Palestinian territory         25.0        0.0         0.0   \n",
       "\n",
       "                                    active     Persen  \n",
       "country_region                                         \n",
       " Azerbaijan                            0.0   0.000000  \n",
       "Afghanistan                      5585812.0   4.193375  \n",
       "Albania                          5460191.0   1.356436  \n",
       "Algeria                         10646044.0   2.689657  \n",
       "Andorra                           196668.0   0.530074  \n",
       "...                                    ...        ...  \n",
       "Winter Olympics 2022                   0.0   0.000000  \n",
       "Yemen                             324218.0  19.292320  \n",
       "Zambia                           1478591.0   1.352821  \n",
       "Zimbabwe                         1571595.0   2.486088  \n",
       "occupied Palestinian territory         0.0   0.000000  \n",
       "\n",
       "[252 rows x 5 columns]"
      ]
     },
     "execution_count": 2469,
     "metadata": {},
     "output_type": "execute_result"
    }
   ],
   "source": [
    "# Pembuatan kolom baru yakni persentase meninggal\n",
    "df['Persen'] = df['deaths'] / df['confirmed'] * 100\n",
    "df"
   ]
  },
  {
   "cell_type": "code",
   "execution_count": 2470,
   "metadata": {},
   "outputs": [
    {
     "data": {
      "text/html": [
       "<div>\n",
       "<style scoped>\n",
       "    .dataframe tbody tr th:only-of-type {\n",
       "        vertical-align: middle;\n",
       "    }\n",
       "\n",
       "    .dataframe tbody tr th {\n",
       "        vertical-align: top;\n",
       "    }\n",
       "\n",
       "    .dataframe thead th {\n",
       "        text-align: right;\n",
       "    }\n",
       "</style>\n",
       "<table border=\"1\" class=\"dataframe\">\n",
       "  <thead>\n",
       "    <tr style=\"text-align: right;\">\n",
       "      <th></th>\n",
       "      <th>confirmed</th>\n",
       "      <th>deaths</th>\n",
       "      <th>recovered</th>\n",
       "      <th>active</th>\n",
       "      <th>Persen</th>\n",
       "    </tr>\n",
       "    <tr>\n",
       "      <th>country_region</th>\n",
       "      <th></th>\n",
       "      <th></th>\n",
       "      <th></th>\n",
       "      <th></th>\n",
       "      <th></th>\n",
       "    </tr>\n",
       "  </thead>\n",
       "  <tbody>\n",
       "    <tr>\n",
       "      <th>Azerbaijan</th>\n",
       "      <td>1.0</td>\n",
       "      <td>0.0</td>\n",
       "      <td>0.0</td>\n",
       "      <td>0.0</td>\n",
       "      <td>0.000000</td>\n",
       "    </tr>\n",
       "    <tr>\n",
       "      <th>Afghanistan</th>\n",
       "      <td>123035440.0</td>\n",
       "      <td>5159337.0</td>\n",
       "      <td>18289621.0</td>\n",
       "      <td>5585812.0</td>\n",
       "      <td>4.193375</td>\n",
       "    </tr>\n",
       "    <tr>\n",
       "      <th>Albania</th>\n",
       "      <td>174475186.0</td>\n",
       "      <td>2366644.0</td>\n",
       "      <td>22652652.0</td>\n",
       "      <td>5460191.0</td>\n",
       "      <td>1.356436</td>\n",
       "    </tr>\n",
       "    <tr>\n",
       "      <th>Algeria</th>\n",
       "      <td>173784296.0</td>\n",
       "      <td>4674202.0</td>\n",
       "      <td>25670233.0</td>\n",
       "      <td>10646044.0</td>\n",
       "      <td>2.689657</td>\n",
       "    </tr>\n",
       "    <tr>\n",
       "      <th>Andorra</th>\n",
       "      <td>22967561.0</td>\n",
       "      <td>121745.0</td>\n",
       "      <td>3085649.0</td>\n",
       "      <td>196668.0</td>\n",
       "      <td>0.530074</td>\n",
       "    </tr>\n",
       "    <tr>\n",
       "      <th>...</th>\n",
       "      <td>...</td>\n",
       "      <td>...</td>\n",
       "      <td>...</td>\n",
       "      <td>...</td>\n",
       "      <td>...</td>\n",
       "    </tr>\n",
       "    <tr>\n",
       "      <th>Winter Olympics 2022</th>\n",
       "      <td>193377.0</td>\n",
       "      <td>0.0</td>\n",
       "      <td>0.0</td>\n",
       "      <td>0.0</td>\n",
       "      <td>0.000000</td>\n",
       "    </tr>\n",
       "    <tr>\n",
       "      <th>Yemen</th>\n",
       "      <td>7487425.0</td>\n",
       "      <td>1444498.0</td>\n",
       "      <td>774885.0</td>\n",
       "      <td>324218.0</td>\n",
       "      <td>19.292320</td>\n",
       "    </tr>\n",
       "    <tr>\n",
       "      <th>Zambia</th>\n",
       "      <td>184648034.0</td>\n",
       "      <td>2497957.0</td>\n",
       "      <td>21852796.0</td>\n",
       "      <td>1478591.0</td>\n",
       "      <td>1.352821</td>\n",
       "    </tr>\n",
       "    <tr>\n",
       "      <th>Zimbabwe</th>\n",
       "      <td>131686285.0</td>\n",
       "      <td>3273837.0</td>\n",
       "      <td>8779035.0</td>\n",
       "      <td>1571595.0</td>\n",
       "      <td>2.486088</td>\n",
       "    </tr>\n",
       "    <tr>\n",
       "      <th>occupied Palestinian territory</th>\n",
       "      <td>25.0</td>\n",
       "      <td>0.0</td>\n",
       "      <td>0.0</td>\n",
       "      <td>0.0</td>\n",
       "      <td>0.000000</td>\n",
       "    </tr>\n",
       "  </tbody>\n",
       "</table>\n",
       "<p>251 rows × 5 columns</p>\n",
       "</div>"
      ],
      "text/plain": [
       "                                  confirmed     deaths   recovered  \\\n",
       "country_region                                                       \n",
       " Azerbaijan                             1.0        0.0         0.0   \n",
       "Afghanistan                     123035440.0  5159337.0  18289621.0   \n",
       "Albania                         174475186.0  2366644.0  22652652.0   \n",
       "Algeria                         173784296.0  4674202.0  25670233.0   \n",
       "Andorra                          22967561.0   121745.0   3085649.0   \n",
       "...                                     ...        ...         ...   \n",
       "Winter Olympics 2022               193377.0        0.0         0.0   \n",
       "Yemen                             7487425.0  1444498.0    774885.0   \n",
       "Zambia                          184648034.0  2497957.0  21852796.0   \n",
       "Zimbabwe                        131686285.0  3273837.0   8779035.0   \n",
       "occupied Palestinian territory         25.0        0.0         0.0   \n",
       "\n",
       "                                    active     Persen  \n",
       "country_region                                         \n",
       " Azerbaijan                            0.0   0.000000  \n",
       "Afghanistan                      5585812.0   4.193375  \n",
       "Albania                          5460191.0   1.356436  \n",
       "Algeria                         10646044.0   2.689657  \n",
       "Andorra                           196668.0   0.530074  \n",
       "...                                    ...        ...  \n",
       "Winter Olympics 2022                   0.0   0.000000  \n",
       "Yemen                             324218.0  19.292320  \n",
       "Zambia                           1478591.0   1.352821  \n",
       "Zimbabwe                         1571595.0   2.486088  \n",
       "occupied Palestinian territory         0.0   0.000000  \n",
       "\n",
       "[251 rows x 5 columns]"
      ]
     },
     "execution_count": 2470,
     "metadata": {},
     "output_type": "execute_result"
    }
   ],
   "source": [
    "# Pencarian dan penghapusan data yang salah dimana deaths lebih banyak dari confirmed untuk menghindari invalid data\n",
    "df = df[df['deaths'] < df['confirmed']]\n",
    "df"
   ]
  },
  {
   "cell_type": "code",
   "execution_count": 2471,
   "metadata": {},
   "outputs": [
    {
     "name": "stderr",
     "output_type": "stream",
     "text": [
      "C:\\Users\\kaboe\\AppData\\Local\\Temp\\ipykernel_18440\\2277749693.py:3: SettingWithCopyWarning: \n",
      "A value is trying to be set on a copy of a slice from a DataFrame\n",
      "\n",
      "See the caveats in the documentation: https://pandas.pydata.org/pandas-docs/stable/user_guide/indexing.html#returning-a-view-versus-a-copy\n",
      "  df.rename(columns={\"confirmed\" : \"Terjangkit\", \"deaths\": \"Meninggal\"}, inplace=True)\n"
     ]
    },
    {
     "data": {
      "text/html": [
       "<div>\n",
       "<style scoped>\n",
       "    .dataframe tbody tr th:only-of-type {\n",
       "        vertical-align: middle;\n",
       "    }\n",
       "\n",
       "    .dataframe tbody tr th {\n",
       "        vertical-align: top;\n",
       "    }\n",
       "\n",
       "    .dataframe thead th {\n",
       "        text-align: right;\n",
       "    }\n",
       "</style>\n",
       "<table border=\"1\" class=\"dataframe\">\n",
       "  <thead>\n",
       "    <tr style=\"text-align: right;\">\n",
       "      <th></th>\n",
       "      <th>Terjangkit</th>\n",
       "      <th>Meninggal</th>\n",
       "      <th>recovered</th>\n",
       "      <th>active</th>\n",
       "      <th>Persen</th>\n",
       "    </tr>\n",
       "    <tr>\n",
       "      <th>Negara</th>\n",
       "      <th></th>\n",
       "      <th></th>\n",
       "      <th></th>\n",
       "      <th></th>\n",
       "      <th></th>\n",
       "    </tr>\n",
       "  </thead>\n",
       "  <tbody>\n",
       "    <tr>\n",
       "      <th>Azerbaijan</th>\n",
       "      <td>1.0</td>\n",
       "      <td>0.0</td>\n",
       "      <td>0.0</td>\n",
       "      <td>0.0</td>\n",
       "      <td>0.000000</td>\n",
       "    </tr>\n",
       "    <tr>\n",
       "      <th>Afghanistan</th>\n",
       "      <td>123035440.0</td>\n",
       "      <td>5159337.0</td>\n",
       "      <td>18289621.0</td>\n",
       "      <td>5585812.0</td>\n",
       "      <td>4.193375</td>\n",
       "    </tr>\n",
       "    <tr>\n",
       "      <th>Albania</th>\n",
       "      <td>174475186.0</td>\n",
       "      <td>2366644.0</td>\n",
       "      <td>22652652.0</td>\n",
       "      <td>5460191.0</td>\n",
       "      <td>1.356436</td>\n",
       "    </tr>\n",
       "    <tr>\n",
       "      <th>Algeria</th>\n",
       "      <td>173784296.0</td>\n",
       "      <td>4674202.0</td>\n",
       "      <td>25670233.0</td>\n",
       "      <td>10646044.0</td>\n",
       "      <td>2.689657</td>\n",
       "    </tr>\n",
       "    <tr>\n",
       "      <th>Andorra</th>\n",
       "      <td>22967561.0</td>\n",
       "      <td>121745.0</td>\n",
       "      <td>3085649.0</td>\n",
       "      <td>196668.0</td>\n",
       "      <td>0.530074</td>\n",
       "    </tr>\n",
       "    <tr>\n",
       "      <th>...</th>\n",
       "      <td>...</td>\n",
       "      <td>...</td>\n",
       "      <td>...</td>\n",
       "      <td>...</td>\n",
       "      <td>...</td>\n",
       "    </tr>\n",
       "    <tr>\n",
       "      <th>Winter Olympics 2022</th>\n",
       "      <td>193377.0</td>\n",
       "      <td>0.0</td>\n",
       "      <td>0.0</td>\n",
       "      <td>0.0</td>\n",
       "      <td>0.000000</td>\n",
       "    </tr>\n",
       "    <tr>\n",
       "      <th>Yemen</th>\n",
       "      <td>7487425.0</td>\n",
       "      <td>1444498.0</td>\n",
       "      <td>774885.0</td>\n",
       "      <td>324218.0</td>\n",
       "      <td>19.292320</td>\n",
       "    </tr>\n",
       "    <tr>\n",
       "      <th>Zambia</th>\n",
       "      <td>184648034.0</td>\n",
       "      <td>2497957.0</td>\n",
       "      <td>21852796.0</td>\n",
       "      <td>1478591.0</td>\n",
       "      <td>1.352821</td>\n",
       "    </tr>\n",
       "    <tr>\n",
       "      <th>Zimbabwe</th>\n",
       "      <td>131686285.0</td>\n",
       "      <td>3273837.0</td>\n",
       "      <td>8779035.0</td>\n",
       "      <td>1571595.0</td>\n",
       "      <td>2.486088</td>\n",
       "    </tr>\n",
       "    <tr>\n",
       "      <th>occupied Palestinian territory</th>\n",
       "      <td>25.0</td>\n",
       "      <td>0.0</td>\n",
       "      <td>0.0</td>\n",
       "      <td>0.0</td>\n",
       "      <td>0.000000</td>\n",
       "    </tr>\n",
       "  </tbody>\n",
       "</table>\n",
       "<p>251 rows × 5 columns</p>\n",
       "</div>"
      ],
      "text/plain": [
       "                                 Terjangkit  Meninggal   recovered  \\\n",
       "Negara                                                               \n",
       " Azerbaijan                             1.0        0.0         0.0   \n",
       "Afghanistan                     123035440.0  5159337.0  18289621.0   \n",
       "Albania                         174475186.0  2366644.0  22652652.0   \n",
       "Algeria                         173784296.0  4674202.0  25670233.0   \n",
       "Andorra                          22967561.0   121745.0   3085649.0   \n",
       "...                                     ...        ...         ...   \n",
       "Winter Olympics 2022               193377.0        0.0         0.0   \n",
       "Yemen                             7487425.0  1444498.0    774885.0   \n",
       "Zambia                          184648034.0  2497957.0  21852796.0   \n",
       "Zimbabwe                        131686285.0  3273837.0   8779035.0   \n",
       "occupied Palestinian territory         25.0        0.0         0.0   \n",
       "\n",
       "                                    active     Persen  \n",
       "Negara                                                 \n",
       " Azerbaijan                            0.0   0.000000  \n",
       "Afghanistan                      5585812.0   4.193375  \n",
       "Albania                          5460191.0   1.356436  \n",
       "Algeria                         10646044.0   2.689657  \n",
       "Andorra                           196668.0   0.530074  \n",
       "...                                    ...        ...  \n",
       "Winter Olympics 2022                   0.0   0.000000  \n",
       "Yemen                             324218.0  19.292320  \n",
       "Zambia                           1478591.0   1.352821  \n",
       "Zimbabwe                         1571595.0   2.486088  \n",
       "occupied Palestinian territory         0.0   0.000000  \n",
       "\n",
       "[251 rows x 5 columns]"
      ]
     },
     "execution_count": 2471,
     "metadata": {},
     "output_type": "execute_result"
    }
   ],
   "source": [
    "# Penggantian nama kolom dan axis menjadi Bahasa Indonesia\n",
    "df.rename_axis(\"Negara\", inplace=True)\n",
    "df.rename(columns={\"confirmed\" : \"Terjangkit\", \"deaths\": \"Meninggal\"}, inplace=True)\n",
    "\n",
    "df"
   ]
  },
  {
   "attachments": {},
   "cell_type": "markdown",
   "metadata": {},
   "source": [
    "# 5. Eksplorasi Data"
   ]
  },
  {
   "cell_type": "code",
   "execution_count": 2472,
   "metadata": {},
   "outputs": [
    {
     "name": "stdout",
     "output_type": "stream",
     "text": [
      "Jumlah korban terjangkit di semua negara adalah :  294318757046\n",
      "Jumlah korban meninggal di semua negara adalah :  4149754548\n",
      "Persentase jumlah korban meninggal di semua negara adalah :  1.41\n"
     ]
    }
   ],
   "source": [
    "# Pembuatan variabel baru yang menampilkan jumlah korban terjangkit di semua negara\n",
    "total_confirmed = int(df['Terjangkit'].sum())\n",
    "print('Jumlah korban terjangkit di semua negara adalah : ', total_confirmed)\n",
    "\n",
    "# Pembuatan variabel baru yang menampilkan jumlah korban meninggal di semua negara\n",
    "total_deaths =int(df['Meninggal'].sum())\n",
    "print('Jumlah korban meninggal di semua negara adalah : ', total_deaths)\n",
    "\n",
    "# Pembuatan variabel baru yang menampilkan persentase jumlah korban meninggal di semua negara\n",
    "total_deaths_percentage =float(total_deaths / total_confirmed * 100)\n",
    "\n",
    "# Manipulasi variabel agar hanya menampilkan 2 angka di belakang koma\n",
    "total_deaths_percentage = round(total_deaths_percentage, 2)\n",
    "print('Persentase jumlah korban meninggal di semua negara adalah : ', total_deaths_percentage)"
   ]
  },
  {
   "cell_type": "code",
   "execution_count": 2473,
   "metadata": {},
   "outputs": [
    {
     "data": {
      "text/plain": [
       "Negara\n",
       "US         5.032048e+10\n",
       "India      2.765461e+10\n",
       "Brazil     1.995663e+10\n",
       "France     1.479110e+10\n",
       "Germany    1.248247e+10\n",
       "Name: Terjangkit, dtype: float64"
      ]
     },
     "execution_count": 2473,
     "metadata": {},
     "output_type": "execute_result"
    }
   ],
   "source": [
    "# Pembuatan variabel baru yang menampilkan 5 negara dengan jumlah korban terjangkit terbesar\n",
    "highest_confirmed = df.sort_values(['Terjangkit'], ascending=False).head()\n",
    "highest_confirmed['Terjangkit']"
   ]
  },
  {
   "cell_type": "code",
   "execution_count": 2474,
   "metadata": {},
   "outputs": [
    {
     "data": {
      "text/plain": [
       "Negara\n",
       " Azerbaijan        1.0\n",
       "Channel Islands    1.0\n",
       "East Timor         1.0\n",
       "Ivory Coast        1.0\n",
       "North Ireland      1.0\n",
       "Name: Terjangkit, dtype: float64"
      ]
     },
     "execution_count": 2474,
     "metadata": {},
     "output_type": "execute_result"
    }
   ],
   "source": [
    "# Pembuatan variabel baru yang menampilkan 5 negara dengan jumlah korban terjangkit terkecil\n",
    "lowest_confirmed = df.sort_values(['Terjangkit'], ascending=True).head()\n",
    "lowest_confirmed['Terjangkit']"
   ]
  },
  {
   "cell_type": "code",
   "execution_count": 2475,
   "metadata": {},
   "outputs": [
    {
     "data": {
      "text/plain": [
       "Negara\n",
       "US        676883202.0\n",
       "Brazil    464970772.0\n",
       "India     347387853.0\n",
       "Mexico    230099369.0\n",
       "Russia    208182958.0\n",
       "Name: Meninggal, dtype: float64"
      ]
     },
     "execution_count": 2475,
     "metadata": {},
     "output_type": "execute_result"
    }
   ],
   "source": [
    "# Pembuatan variabel baru yang menampilkan 5 negara dengan jumlah korban meninggal terbesar\n",
    "highest_deaths = df.sort_values(['Meninggal'], ascending=False).head()\n",
    "highest_deaths['Meninggal']"
   ]
  },
  {
   "cell_type": "code",
   "execution_count": 2476,
   "metadata": {},
   "outputs": [
    {
     "data": {
      "text/plain": [
       "Negara\n",
       " Azerbaijan    0.0\n",
       "Macao SAR      0.0\n",
       "Jersey         0.0\n",
       "Ivory Coast    0.0\n",
       "Holy See       0.0\n",
       "Name: Meninggal, dtype: float64"
      ]
     },
     "execution_count": 2476,
     "metadata": {},
     "output_type": "execute_result"
    }
   ],
   "source": [
    "# Pembuatan variabel baru yang menampilkan 5 negara dengan jumlah korban meninggal terkecil\n",
    "lowest_deaths = df.sort_values(['Meninggal'], ascending=True).head()\n",
    "lowest_deaths['Meninggal']"
   ]
  },
  {
   "cell_type": "code",
   "execution_count": 2477,
   "metadata": {},
   "outputs": [
    {
     "data": {
      "text/plain": [
       "Negara\n",
       "MS Zaandam        22.203245\n",
       "Yemen             19.292320\n",
       "Western Sahara     8.779829\n",
       "Sudan              7.400601\n",
       "Mexico             6.220936\n",
       "Name: Persen, dtype: float64"
      ]
     },
     "execution_count": 2477,
     "metadata": {},
     "output_type": "execute_result"
    }
   ],
   "source": [
    "# Pembuatan variabel baru yang menampilkan 5 negara dengan persentase meninggal terbesar\n",
    "highest_percentage = df.sort_values(['Persen'], ascending=False).head()\n",
    "highest_percentage['Persen']"
   ]
  },
  {
   "cell_type": "code",
   "execution_count": 2478,
   "metadata": {},
   "outputs": [
    {
     "data": {
      "text/plain": [
       "Negara\n",
       " Azerbaijan    0.0\n",
       "Macao SAR      0.0\n",
       "Jersey         0.0\n",
       "Ivory Coast    0.0\n",
       "Holy See       0.0\n",
       "Name: Persen, dtype: float64"
      ]
     },
     "execution_count": 2478,
     "metadata": {},
     "output_type": "execute_result"
    }
   ],
   "source": [
    "# Pembuatan variabel baru yang menampilkan 5 negara dengan persentase meninggal terkecil\n",
    "lowest_percentage = df.sort_values(['Persen'], ascending=True).head()\n",
    "lowest_percentage['Persen']"
   ]
  },
  {
   "cell_type": "code",
   "execution_count": 2479,
   "metadata": {},
   "outputs": [],
   "source": [
    "# Import matplotlib\n",
    "%matplotlib inline"
   ]
  },
  {
   "cell_type": "code",
   "execution_count": 2480,
   "metadata": {},
   "outputs": [
    {
     "data": {
      "text/plain": [
       "<AxesSubplot: title={'center': '5 negara  paling banyak terjangkit'}, xlabel='Negara'>"
      ]
     },
     "execution_count": 2480,
     "metadata": {},
     "output_type": "execute_result"
    },
    {
     "data": {
      "image/png": "[encoded data removed]",
      "text/plain": [
       "<Figure size 640x480 with 1 Axes>"
      ]
     },
     "metadata": {},
     "output_type": "display_data"
    }
   ],
   "source": [
    "# Visualisasi 5 negara dengan jumlah korban terjangkit terbesar\n",
    "highest_confirmed['Terjangkit'].plot(title= '5 negara  paling banyak terjangkit', kind='bar')\n"
   ]
  },
  {
   "cell_type": "code",
   "execution_count": 2481,
   "metadata": {},
   "outputs": [
    {
     "data": {
      "text/plain": [
       "<AxesSubplot: title={'center': '5 negara paling sedikit terjangkit'}, xlabel='Negara'>"
      ]
     },
     "execution_count": 2481,
     "metadata": {},
     "output_type": "execute_result"
    },
    {
     "data": {
      "image/png": "[encoded data removed]",
      "text/plain": [
       "<Figure size 640x480 with 1 Axes>"
      ]
     },
     "metadata": {},
     "output_type": "display_data"
    }
   ],
   "source": [
    "# Visualisasi 5 negara dengan jumlah korban terjangkit terkecil\n",
    "lowest_confirmed['Terjangkit'].plot(title='5 negara paling sedikit terjangkit', kind='bar')"
   ]
  },
  {
   "cell_type": "code",
   "execution_count": 2482,
   "metadata": {},
   "outputs": [
    {
     "data": {
      "text/plain": [
       "<AxesSubplot: title={'center': '5 negara paling banyak meninggal'}, xlabel='Negara'>"
      ]
     },
     "execution_count": 2482,
     "metadata": {},
     "output_type": "execute_result"
    },
    {
     "data": {
      "image/png": "[encoded data removed]",
      "text/plain": [
       "<Figure size 640x480 with 1 Axes>"
      ]
     },
     "metadata": {},
     "output_type": "display_data"
    }
   ],
   "source": [
    "# Visualisasi 5 negara dengan jumlah korban meninggal terbesar\n",
    "highest_deaths['Meninggal'].plot(title='5 negara paling banyak meninggal', kind='bar')"
   ]
  },
  {
   "cell_type": "code",
   "execution_count": 2483,
   "metadata": {},
   "outputs": [
    {
     "data": {
      "text/plain": [
       "<AxesSubplot: title={'center': '5 negara paling sedikit meninggal'}, xlabel='Negara'>"
      ]
     },
     "execution_count": 2483,
     "metadata": {},
     "output_type": "execute_result"
    },
    {
     "data": {
      "image/png": "[encoded data removed]",
      "text/plain": [
       "<Figure size 640x480 with 1 Axes>"
      ]
     },
     "metadata": {},
     "output_type": "display_data"
    }
   ],
   "source": [
    "# Visualisasi 5 negara dengan jumlah korban meninggal terkecil\n",
    "lowest_deaths['Meninggal'].plot(title= '5 negara paling sedikit meninggal', kind='bar')"
   ]
  },
  {
   "cell_type": "code",
   "execution_count": 2484,
   "metadata": {},
   "outputs": [
    {
     "data": {
      "text/plain": [
       "<AxesSubplot: title={'center': '5 negara paling banyak persentase meninggal'}, xlabel='Negara'>"
      ]
     },
     "execution_count": 2484,
     "metadata": {},
     "output_type": "execute_result"
    },
    {
     "data": {
      "image/png": "[encoded data removed]",
      "text/plain": [
       "<Figure size 640x480 with 1 Axes>"
      ]
     },
     "metadata": {},
     "output_type": "display_data"
    }
   ],
   "source": [
    "# Visualisasi 5 negara dengan persentase meninggal terbesar\n",
    "highest_percentage['Persen'].plot(title='5 negara paling banyak persentase meninggal', kind='bar')"
   ]
  },
  {
   "cell_type": "code",
   "execution_count": 2485,
   "metadata": {},
   "outputs": [
    {
     "data": {
      "text/plain": [
       "<AxesSubplot: title={'center': '5 negara paling sedikit persentase meninggal'}, xlabel='Negara'>"
      ]
     },
     "execution_count": 2485,
     "metadata": {},
     "output_type": "execute_result"
    },
    {
     "data": {
      "image/png": "[encoded data removed]",
      "text/plain": [
       "<Figure size 640x480 with 1 Axes>"
      ]
     },
     "metadata": {},
     "output_type": "display_data"
    }
   ],
   "source": [
    "# Visualisasi 5 negara dengan persentase meninggal terkecil\n",
    "lowest_percentage['Persen'].plot(title='5 negara paling sedikit persentase meninggal', kind='bar')"
   ]
  },
  {
   "attachments": {},
   "cell_type": "markdown",
   "metadata": {},
   "source": [
    "# 6. Pengambilan Kesimpulan\n",
    "\n",
    "Berdasarkan data yang ada, maka bisa disimpulkan bahwa :"
   ]
  },
  {
   "attachments": {},
   "cell_type": "markdown",
   "metadata": {},
   "source": [
    "1 . Jumlah korban terjangkit di semua negara adalah :"
   ]
  },
  {
   "cell_type": "code",
   "execution_count": 2486,
   "metadata": {},
   "outputs": [
    {
     "data": {
      "text/plain": [
       "294318757046"
      ]
     },
     "execution_count": 2486,
     "metadata": {},
     "output_type": "execute_result"
    }
   ],
   "source": [
    "total_confirmed"
   ]
  },
  {
   "attachments": {},
   "cell_type": "markdown",
   "metadata": {},
   "source": [
    "2 . Jumlah korban meninggal di semua negara adalah :"
   ]
  },
  {
   "cell_type": "code",
   "execution_count": 2487,
   "metadata": {},
   "outputs": [
    {
     "data": {
      "text/plain": [
       "4149754548"
      ]
     },
     "execution_count": 2487,
     "metadata": {},
     "output_type": "execute_result"
    }
   ],
   "source": [
    "total_deaths"
   ]
  },
  {
   "attachments": {},
   "cell_type": "markdown",
   "metadata": {},
   "source": [
    "3 . Persentase jumlah korban meninggal di semua negara adalah :"
   ]
  },
  {
   "cell_type": "code",
   "execution_count": 2488,
   "metadata": {},
   "outputs": [
    {
     "data": {
      "text/plain": [
       "1.41"
      ]
     },
     "execution_count": 2488,
     "metadata": {},
     "output_type": "execute_result"
    }
   ],
   "source": [
    "total_deaths_percentage"
   ]
  },
  {
   "attachments": {},
   "cell_type": "markdown",
   "metadata": {},
   "source": [
    "4 . 5 Negara dengan jumlah terjangkit terbesar adalah :"
   ]
  },
  {
   "cell_type": "code",
   "execution_count": 2489,
   "metadata": {},
   "outputs": [
    {
     "data": {
      "text/plain": [
       "Index(['US', 'India', 'Brazil', 'France', 'Germany'], dtype='object', name='Negara')"
      ]
     },
     "execution_count": 2489,
     "metadata": {},
     "output_type": "execute_result"
    }
   ],
   "source": [
    "highest_confirmed.index"
   ]
  },
  {
   "attachments": {},
   "cell_type": "markdown",
   "metadata": {},
   "source": [
    "5 . 5 negara dengan jumlah terjangkit terkecil adalah :"
   ]
  },
  {
   "cell_type": "code",
   "execution_count": 2490,
   "metadata": {},
   "outputs": [
    {
     "data": {
      "text/plain": [
       "Index([' Azerbaijan', 'Channel Islands', 'East Timor', 'Ivory Coast',\n",
       "       'North Ireland'],\n",
       "      dtype='object', name='Negara')"
      ]
     },
     "execution_count": 2490,
     "metadata": {},
     "output_type": "execute_result"
    }
   ],
   "source": [
    "lowest_confirmed.index"
   ]
  },
  {
   "attachments": {},
   "cell_type": "markdown",
   "metadata": {},
   "source": [
    "6 . 5 negara dengan jumlah kematian terbesar adalah :"
   ]
  },
  {
   "cell_type": "code",
   "execution_count": 2491,
   "metadata": {},
   "outputs": [
    {
     "data": {
      "text/plain": [
       "Index(['US', 'Brazil', 'India', 'Mexico', 'Russia'], dtype='object', name='Negara')"
      ]
     },
     "execution_count": 2491,
     "metadata": {},
     "output_type": "execute_result"
    }
   ],
   "source": [
    "highest_deaths.index"
   ]
  },
  {
   "attachments": {},
   "cell_type": "markdown",
   "metadata": {},
   "source": [
    "7 . 5 negara dengan jumlah kematian terkecil adalah :"
   ]
  },
  {
   "cell_type": "code",
   "execution_count": 2492,
   "metadata": {},
   "outputs": [
    {
     "data": {
      "text/plain": [
       "Index([' Azerbaijan', 'Macao SAR', 'Jersey', 'Ivory Coast', 'Holy See'], dtype='object', name='Negara')"
      ]
     },
     "execution_count": 2492,
     "metadata": {},
     "output_type": "execute_result"
    }
   ],
   "source": [
    "lowest_deaths.index"
   ]
  },
  {
   "attachments": {},
   "cell_type": "markdown",
   "metadata": {},
   "source": [
    "8 . 5 Negara dengan persentase meninggal terbesar adalah :"
   ]
  },
  {
   "cell_type": "code",
   "execution_count": 2493,
   "metadata": {},
   "outputs": [
    {
     "data": {
      "text/plain": [
       "Index(['MS Zaandam', 'Yemen', 'Western Sahara', 'Sudan', 'Mexico'], dtype='object', name='Negara')"
      ]
     },
     "execution_count": 2493,
     "metadata": {},
     "output_type": "execute_result"
    }
   ],
   "source": [
    "highest_percentage.index"
   ]
  },
  {
   "attachments": {},
   "cell_type": "markdown",
   "metadata": {},
   "source": [
    "9 . 5 Negara dengan persentase meninggal terkecil adalah :"
   ]
  },
  {
   "cell_type": "code",
   "execution_count": 2494,
   "metadata": {},
   "outputs": [
    {
     "data": {
      "text/plain": [
       "Index([' Azerbaijan', 'Macao SAR', 'Jersey', 'Ivory Coast', 'Holy See'], dtype='object', name='Negara')"
      ]
     },
     "execution_count": 2494,
     "metadata": {},
     "output_type": "execute_result"
    }
   ],
   "source": [
    "lowest_percentage.index"
   ]
  }
 ],
 "metadata": {
  "kernelspec": {
   "display_name": "Hacktiv8",
   "language": "python",
   "name": "python3"
  },
  "language_info": {
   "codemirror_mode": {
    "name": "ipython",
    "version": 3
   },
   "file_extension": ".py",
   "mimetype": "text/x-python",
   "name": "python",
   "nbconvert_exporter": "python",
   "pygments_lexer": "ipython3",
   "version": "3.9.16"
  },
  "orig_nbformat": 4,
  "vscode": {
   "interpreter": {
    "hash": "9ff602f9eccff03ee989db4d72cf9c9243de1b315591902102c988001ce0060e"
   }
  }
 },
 "nbformat": 4,
 "nbformat_minor": 2
}

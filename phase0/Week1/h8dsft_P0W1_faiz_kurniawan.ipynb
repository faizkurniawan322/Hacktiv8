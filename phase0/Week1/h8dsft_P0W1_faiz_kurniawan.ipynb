{
 "cells": [
  {
   "attachments": {},
   "cell_type": "markdown",
   "metadata": {},
   "source": [
    "# 1. Perkenalan \n",
    "\n",
    "1.1 \\\n",
    "Nama : Faiz Kurniawan \\\n",
    "Batch : RMT 018 \\\n",
    "\\\n",
    "1.2 \\\n",
    "Latar Belakang\n",
    "<p style='text-align: justify;'> Covid-19 adalah penyakit menular yang disebabkan oleh virus SARS-CoV-2. Kebanyakan korban terjangkit akan mengalami gangguan pernafasan, dan akan sembuh dengan sendirinya tanpa penanganan intensif. Namun beberapa korban terjangkit yang memiliki penyakit bawaan seperti gangguan pernafasan, diabetes, atau kanker memiliki kemungkinan besar untuk mengalami sebuah komplikasi yang bisa berujung pada kematian. Cara terbaik mencegah dan menangani Covid-19 adalah dengan mengetahui bagaimana virus menyebar dan melindungi diri dari korban terjangkit lainnya, dan juga melakukan isolasi untuk mencegah terjadinya persebaran lebih lanjut.\n",
    " </p>\n",
    "\n",
    "\n",
    "\n",
    "1.3 \\\n",
    "Problem Statement\n",
    "<p style='text-align: justify;'> Berdasarkan latar belakang yang ada, peneliti ingin mengetahui data lebih lanjut mengenai Covid-19 di berbagai negara. Data-data seperti jumlah terjangkit, jumlah meninggal, dan persentase jumlah meninggal. Dengan adanya data tersebut, peneliti akan lebih mudah untuk menentukan negara mana saja yang efektif melakukan pencegahan covid, dan juga meminimalisir jumlah korban meninggal. </p>\n",
    "\n",
    "\n",
    "\n",
    "\n"
   ]
  },
  {
   "attachments": {},
   "cell_type": "markdown",
   "metadata": {},
   "source": [
    "# 2. Import Pustaka "
   ]
  },
  {
   "cell_type": "code",
   "execution_count": 1620,
   "metadata": {},
   "outputs": [],
   "source": [
    "import pandas as pd"
   ]
  },
  {
   "attachments": {},
   "cell_type": "markdown",
   "metadata": {},
   "source": [
    "# 3. Data Loading"
   ]
  },
  {
   "cell_type": "code",
   "execution_count": 1621,
   "metadata": {},
   "outputs": [
    {
     "data": {
      "text/html": [
       "<div>\n",
       "<style scoped>\n",
       "    .dataframe tbody tr th:only-of-type {\n",
       "        vertical-align: middle;\n",
       "    }\n",
       "\n",
       "    .dataframe tbody tr th {\n",
       "        vertical-align: top;\n",
       "    }\n",
       "\n",
       "    .dataframe thead th {\n",
       "        text-align: right;\n",
       "    }\n",
       "</style>\n",
       "<table border=\"1\" class=\"dataframe\">\n",
       "  <thead>\n",
       "    <tr style=\"text-align: right;\">\n",
       "      <th></th>\n",
       "      <th>country_region</th>\n",
       "      <th>confirmed</th>\n",
       "      <th>deaths</th>\n",
       "    </tr>\n",
       "  </thead>\n",
       "  <tbody>\n",
       "    <tr>\n",
       "      <th>0</th>\n",
       "      <td>US</td>\n",
       "      <td>6010</td>\n",
       "      <td>86</td>\n",
       "    </tr>\n",
       "    <tr>\n",
       "      <th>1</th>\n",
       "      <td>US</td>\n",
       "      <td>3870</td>\n",
       "      <td>93</td>\n",
       "    </tr>\n",
       "    <tr>\n",
       "      <th>2</th>\n",
       "      <td>US</td>\n",
       "      <td>2566</td>\n",
       "      <td>102</td>\n",
       "    </tr>\n",
       "    <tr>\n",
       "      <th>3</th>\n",
       "      <td>US</td>\n",
       "      <td>17250</td>\n",
       "      <td>294</td>\n",
       "    </tr>\n",
       "    <tr>\n",
       "      <th>4</th>\n",
       "      <td>US</td>\n",
       "      <td>3983</td>\n",
       "      <td>80</td>\n",
       "    </tr>\n",
       "    <tr>\n",
       "      <th>...</th>\n",
       "      <td>...</td>\n",
       "      <td>...</td>\n",
       "      <td>...</td>\n",
       "    </tr>\n",
       "    <tr>\n",
       "      <th>170378</th>\n",
       "      <td>Moldova</td>\n",
       "      <td>518793</td>\n",
       "      <td>11537</td>\n",
       "    </tr>\n",
       "    <tr>\n",
       "      <th>170379</th>\n",
       "      <td>Mongolia</td>\n",
       "      <td>925073</td>\n",
       "      <td>2179</td>\n",
       "    </tr>\n",
       "    <tr>\n",
       "      <th>170380</th>\n",
       "      <td>Namibia</td>\n",
       "      <td>166363</td>\n",
       "      <td>4038</td>\n",
       "    </tr>\n",
       "    <tr>\n",
       "      <th>170381</th>\n",
       "      <td>Nepal</td>\n",
       "      <td>979140</td>\n",
       "      <td>11952</td>\n",
       "    </tr>\n",
       "    <tr>\n",
       "      <th>170382</th>\n",
       "      <td>Netherlands</td>\n",
       "      <td>37034</td>\n",
       "      <td>213</td>\n",
       "    </tr>\n",
       "  </tbody>\n",
       "</table>\n",
       "<p>170383 rows × 3 columns</p>\n",
       "</div>"
      ],
      "text/plain": [
       "       country_region  confirmed  deaths\n",
       "0                  US       6010      86\n",
       "1                  US       3870      93\n",
       "2                  US       2566     102\n",
       "3                  US      17250     294\n",
       "4                  US       3983      80\n",
       "...               ...        ...     ...\n",
       "170378        Moldova     518793   11537\n",
       "170379       Mongolia     925073    2179\n",
       "170380        Namibia     166363    4038\n",
       "170381          Nepal     979140   11952\n",
       "170382    Netherlands      37034     213\n",
       "\n",
       "[170383 rows x 3 columns]"
      ]
     },
     "execution_count": 1621,
     "metadata": {},
     "output_type": "execute_result"
    }
   ],
   "source": [
    "# Import dataset ke variable df\n",
    "# Query yang digunakan di GCP adalah :\n",
    "# SELECT country_region, confirmed, deaths FROM `bigquery-public-data.covid19_jhu_csse.summary`\n",
    "df = pd.read_csv(\"h8dsft_P0GC1_faiz_kurniawan.csv\")\n",
    "df"
   ]
  },
  {
   "cell_type": "code",
   "execution_count": 1622,
   "metadata": {},
   "outputs": [
    {
     "name": "stdout",
     "output_type": "stream",
     "text": [
      "<class 'pandas.core.frame.DataFrame'>\n",
      "RangeIndex: 170383 entries, 0 to 170382\n",
      "Data columns (total 3 columns):\n",
      " #   Column          Non-Null Count   Dtype \n",
      "---  ------          --------------   ----- \n",
      " 0   country_region  170383 non-null  object\n",
      " 1   confirmed       170383 non-null  int64 \n",
      " 2   deaths          170383 non-null  int64 \n",
      "dtypes: int64(2), object(1)\n",
      "memory usage: 3.9+ MB\n"
     ]
    }
   ],
   "source": [
    "# Menampilkan info dari dataset\n",
    "df.info()"
   ]
  },
  {
   "cell_type": "code",
   "execution_count": 1623,
   "metadata": {},
   "outputs": [
    {
     "data": {
      "text/html": [
       "<div>\n",
       "<style scoped>\n",
       "    .dataframe tbody tr th:only-of-type {\n",
       "        vertical-align: middle;\n",
       "    }\n",
       "\n",
       "    .dataframe tbody tr th {\n",
       "        vertical-align: top;\n",
       "    }\n",
       "\n",
       "    .dataframe thead th {\n",
       "        text-align: right;\n",
       "    }\n",
       "</style>\n",
       "<table border=\"1\" class=\"dataframe\">\n",
       "  <thead>\n",
       "    <tr style=\"text-align: right;\">\n",
       "      <th></th>\n",
       "      <th>confirmed</th>\n",
       "      <th>deaths</th>\n",
       "    </tr>\n",
       "  </thead>\n",
       "  <tbody>\n",
       "    <tr>\n",
       "      <th>count</th>\n",
       "      <td>1.703830e+05</td>\n",
       "      <td>170383.000000</td>\n",
       "    </tr>\n",
       "    <tr>\n",
       "      <th>mean</th>\n",
       "      <td>1.236532e+05</td>\n",
       "      <td>1743.915344</td>\n",
       "    </tr>\n",
       "    <tr>\n",
       "      <th>std</th>\n",
       "      <td>7.534946e+05</td>\n",
       "      <td>8306.507247</td>\n",
       "    </tr>\n",
       "    <tr>\n",
       "      <th>min</th>\n",
       "      <td>0.000000e+00</td>\n",
       "      <td>34.000000</td>\n",
       "    </tr>\n",
       "    <tr>\n",
       "      <th>25%</th>\n",
       "      <td>4.525000e+03</td>\n",
       "      <td>75.000000</td>\n",
       "    </tr>\n",
       "    <tr>\n",
       "      <th>50%</th>\n",
       "      <td>1.100000e+04</td>\n",
       "      <td>161.000000</td>\n",
       "    </tr>\n",
       "    <tr>\n",
       "      <th>75%</th>\n",
       "      <td>4.327900e+04</td>\n",
       "      <td>607.000000</td>\n",
       "    </tr>\n",
       "    <tr>\n",
       "      <th>max</th>\n",
       "      <td>3.849501e+07</td>\n",
       "      <td>183898.000000</td>\n",
       "    </tr>\n",
       "  </tbody>\n",
       "</table>\n",
       "</div>"
      ],
      "text/plain": [
       "          confirmed         deaths\n",
       "count  1.703830e+05  170383.000000\n",
       "mean   1.236532e+05    1743.915344\n",
       "std    7.534946e+05    8306.507247\n",
       "min    0.000000e+00      34.000000\n",
       "25%    4.525000e+03      75.000000\n",
       "50%    1.100000e+04     161.000000\n",
       "75%    4.327900e+04     607.000000\n",
       "max    3.849501e+07  183898.000000"
      ]
     },
     "execution_count": 1623,
     "metadata": {},
     "output_type": "execute_result"
    }
   ],
   "source": [
    "# Menampilkan deskripsi dari dataset\n",
    "df.describe()"
   ]
  },
  {
   "cell_type": "code",
   "execution_count": 1624,
   "metadata": {},
   "outputs": [
    {
     "data": {
      "text/html": [
       "<div>\n",
       "<style scoped>\n",
       "    .dataframe tbody tr th:only-of-type {\n",
       "        vertical-align: middle;\n",
       "    }\n",
       "\n",
       "    .dataframe tbody tr th {\n",
       "        vertical-align: top;\n",
       "    }\n",
       "\n",
       "    .dataframe thead th {\n",
       "        text-align: right;\n",
       "    }\n",
       "</style>\n",
       "<table border=\"1\" class=\"dataframe\">\n",
       "  <thead>\n",
       "    <tr style=\"text-align: right;\">\n",
       "      <th></th>\n",
       "      <th>country_region</th>\n",
       "      <th>confirmed</th>\n",
       "      <th>deaths</th>\n",
       "    </tr>\n",
       "  </thead>\n",
       "  <tbody>\n",
       "    <tr>\n",
       "      <th>0</th>\n",
       "      <td>US</td>\n",
       "      <td>6010</td>\n",
       "      <td>86</td>\n",
       "    </tr>\n",
       "    <tr>\n",
       "      <th>1</th>\n",
       "      <td>US</td>\n",
       "      <td>3870</td>\n",
       "      <td>93</td>\n",
       "    </tr>\n",
       "    <tr>\n",
       "      <th>2</th>\n",
       "      <td>US</td>\n",
       "      <td>2566</td>\n",
       "      <td>102</td>\n",
       "    </tr>\n",
       "    <tr>\n",
       "      <th>3</th>\n",
       "      <td>US</td>\n",
       "      <td>17250</td>\n",
       "      <td>294</td>\n",
       "    </tr>\n",
       "    <tr>\n",
       "      <th>4</th>\n",
       "      <td>US</td>\n",
       "      <td>3983</td>\n",
       "      <td>80</td>\n",
       "    </tr>\n",
       "  </tbody>\n",
       "</table>\n",
       "</div>"
      ],
      "text/plain": [
       "  country_region  confirmed  deaths\n",
       "0             US       6010      86\n",
       "1             US       3870      93\n",
       "2             US       2566     102\n",
       "3             US      17250     294\n",
       "4             US       3983      80"
      ]
     },
     "execution_count": 1624,
     "metadata": {},
     "output_type": "execute_result"
    }
   ],
   "source": [
    "# Menampilkan 5 data teratas dari dataset\n",
    "df.head()"
   ]
  },
  {
   "cell_type": "code",
   "execution_count": 1625,
   "metadata": {},
   "outputs": [
    {
     "data": {
      "text/html": [
       "<div>\n",
       "<style scoped>\n",
       "    .dataframe tbody tr th:only-of-type {\n",
       "        vertical-align: middle;\n",
       "    }\n",
       "\n",
       "    .dataframe tbody tr th {\n",
       "        vertical-align: top;\n",
       "    }\n",
       "\n",
       "    .dataframe thead th {\n",
       "        text-align: right;\n",
       "    }\n",
       "</style>\n",
       "<table border=\"1\" class=\"dataframe\">\n",
       "  <thead>\n",
       "    <tr style=\"text-align: right;\">\n",
       "      <th></th>\n",
       "      <th>country_region</th>\n",
       "      <th>confirmed</th>\n",
       "      <th>deaths</th>\n",
       "    </tr>\n",
       "  </thead>\n",
       "  <tbody>\n",
       "    <tr>\n",
       "      <th>170378</th>\n",
       "      <td>Moldova</td>\n",
       "      <td>518793</td>\n",
       "      <td>11537</td>\n",
       "    </tr>\n",
       "    <tr>\n",
       "      <th>170379</th>\n",
       "      <td>Mongolia</td>\n",
       "      <td>925073</td>\n",
       "      <td>2179</td>\n",
       "    </tr>\n",
       "    <tr>\n",
       "      <th>170380</th>\n",
       "      <td>Namibia</td>\n",
       "      <td>166363</td>\n",
       "      <td>4038</td>\n",
       "    </tr>\n",
       "    <tr>\n",
       "      <th>170381</th>\n",
       "      <td>Nepal</td>\n",
       "      <td>979140</td>\n",
       "      <td>11952</td>\n",
       "    </tr>\n",
       "    <tr>\n",
       "      <th>170382</th>\n",
       "      <td>Netherlands</td>\n",
       "      <td>37034</td>\n",
       "      <td>213</td>\n",
       "    </tr>\n",
       "  </tbody>\n",
       "</table>\n",
       "</div>"
      ],
      "text/plain": [
       "       country_region  confirmed  deaths\n",
       "170378        Moldova     518793   11537\n",
       "170379       Mongolia     925073    2179\n",
       "170380        Namibia     166363    4038\n",
       "170381          Nepal     979140   11952\n",
       "170382    Netherlands      37034     213"
      ]
     },
     "execution_count": 1625,
     "metadata": {},
     "output_type": "execute_result"
    }
   ],
   "source": [
    "# Menampilkan 5 data terbawah dari dataset\n",
    "df.tail()"
   ]
  },
  {
   "cell_type": "code",
   "execution_count": 1626,
   "metadata": {},
   "outputs": [
    {
     "data": {
      "text/html": [
       "<div>\n",
       "<style scoped>\n",
       "    .dataframe tbody tr th:only-of-type {\n",
       "        vertical-align: middle;\n",
       "    }\n",
       "\n",
       "    .dataframe tbody tr th {\n",
       "        vertical-align: top;\n",
       "    }\n",
       "\n",
       "    .dataframe thead th {\n",
       "        text-align: right;\n",
       "    }\n",
       "</style>\n",
       "<table border=\"1\" class=\"dataframe\">\n",
       "  <thead>\n",
       "    <tr style=\"text-align: right;\">\n",
       "      <th></th>\n",
       "      <th>country_region</th>\n",
       "      <th>confirmed</th>\n",
       "      <th>deaths</th>\n",
       "    </tr>\n",
       "  </thead>\n",
       "  <tbody>\n",
       "    <tr>\n",
       "      <th>65625</th>\n",
       "      <td>US</td>\n",
       "      <td>2443</td>\n",
       "      <td>47</td>\n",
       "    </tr>\n",
       "  </tbody>\n",
       "</table>\n",
       "</div>"
      ],
      "text/plain": [
       "      country_region  confirmed  deaths\n",
       "65625             US       2443      47"
      ]
     },
     "execution_count": 1626,
     "metadata": {},
     "output_type": "execute_result"
    }
   ],
   "source": [
    "# Menampilkan data acak dari dataset\n",
    "df.sample()"
   ]
  },
  {
   "cell_type": "code",
   "execution_count": 1627,
   "metadata": {},
   "outputs": [
    {
     "data": {
      "text/plain": [
       "country_region    0\n",
       "confirmed         0\n",
       "deaths            0\n",
       "dtype: int64"
      ]
     },
     "execution_count": 1627,
     "metadata": {},
     "output_type": "execute_result"
    }
   ],
   "source": [
    "# Menampilkan jumlah data kosong masing-masing kolom dari dataset \n",
    "df.isnull().sum()"
   ]
  },
  {
   "attachments": {},
   "cell_type": "markdown",
   "metadata": {},
   "source": [
    "# 4. Data Cleaning"
   ]
  },
  {
   "cell_type": "code",
   "execution_count": 1628,
   "metadata": {},
   "outputs": [
    {
     "data": {
      "text/html": [
       "<div>\n",
       "<style scoped>\n",
       "    .dataframe tbody tr th:only-of-type {\n",
       "        vertical-align: middle;\n",
       "    }\n",
       "\n",
       "    .dataframe tbody tr th {\n",
       "        vertical-align: top;\n",
       "    }\n",
       "\n",
       "    .dataframe thead th {\n",
       "        text-align: right;\n",
       "    }\n",
       "</style>\n",
       "<table border=\"1\" class=\"dataframe\">\n",
       "  <thead>\n",
       "    <tr style=\"text-align: right;\">\n",
       "      <th></th>\n",
       "      <th>confirmed</th>\n",
       "      <th>deaths</th>\n",
       "    </tr>\n",
       "    <tr>\n",
       "      <th>country_region</th>\n",
       "      <th></th>\n",
       "      <th></th>\n",
       "    </tr>\n",
       "  </thead>\n",
       "  <tbody>\n",
       "    <tr>\n",
       "      <th>Afghanistan</th>\n",
       "      <td>8954049</td>\n",
       "      <td>378550</td>\n",
       "    </tr>\n",
       "    <tr>\n",
       "      <th>Albania</th>\n",
       "      <td>11658587</td>\n",
       "      <td>161143</td>\n",
       "    </tr>\n",
       "    <tr>\n",
       "      <th>Algeria</th>\n",
       "      <td>10694235</td>\n",
       "      <td>286727</td>\n",
       "    </tr>\n",
       "    <tr>\n",
       "      <th>Andorra</th>\n",
       "      <td>1702511</td>\n",
       "      <td>8534</td>\n",
       "    </tr>\n",
       "    <tr>\n",
       "      <th>Angola</th>\n",
       "      <td>5004997</td>\n",
       "      <td>100150</td>\n",
       "    </tr>\n",
       "    <tr>\n",
       "      <th>...</th>\n",
       "      <td>...</td>\n",
       "      <td>...</td>\n",
       "    </tr>\n",
       "    <tr>\n",
       "      <th>Vietnam</th>\n",
       "      <td>324589756</td>\n",
       "      <td>1604636</td>\n",
       "    </tr>\n",
       "    <tr>\n",
       "      <th>West Bank and Gaza</th>\n",
       "      <td>33776863</td>\n",
       "      <td>308106</td>\n",
       "    </tr>\n",
       "    <tr>\n",
       "      <th>Yemen</th>\n",
       "      <td>532976</td>\n",
       "      <td>100769</td>\n",
       "    </tr>\n",
       "    <tr>\n",
       "      <th>Zambia</th>\n",
       "      <td>13528551</td>\n",
       "      <td>182779</td>\n",
       "    </tr>\n",
       "    <tr>\n",
       "      <th>Zimbabwe</th>\n",
       "      <td>10411754</td>\n",
       "      <td>261957</td>\n",
       "    </tr>\n",
       "  </tbody>\n",
       "</table>\n",
       "<p>186 rows × 2 columns</p>\n",
       "</div>"
      ],
      "text/plain": [
       "                    confirmed   deaths\n",
       "country_region                        \n",
       "Afghanistan           8954049   378550\n",
       "Albania              11658587   161143\n",
       "Algeria              10694235   286727\n",
       "Andorra               1702511     8534\n",
       "Angola                5004997   100150\n",
       "...                       ...      ...\n",
       "Vietnam             324589756  1604636\n",
       "West Bank and Gaza   33776863   308106\n",
       "Yemen                  532976   100769\n",
       "Zambia               13528551   182779\n",
       "Zimbabwe             10411754   261957\n",
       "\n",
       "[186 rows x 2 columns]"
      ]
     },
     "execution_count": 1628,
     "metadata": {},
     "output_type": "execute_result"
    }
   ],
   "source": [
    "# Grouping kolom country_region untuk mendapatkan data total alih-alih harian\n",
    "# Penjumlahan value confirmed dan deaths\n",
    "df = df.groupby(by='country_region').sum()\n",
    "df"
   ]
  },
  {
   "cell_type": "code",
   "execution_count": 1629,
   "metadata": {},
   "outputs": [
    {
     "data": {
      "text/html": [
       "<div>\n",
       "<style scoped>\n",
       "    .dataframe tbody tr th:only-of-type {\n",
       "        vertical-align: middle;\n",
       "    }\n",
       "\n",
       "    .dataframe tbody tr th {\n",
       "        vertical-align: top;\n",
       "    }\n",
       "\n",
       "    .dataframe thead th {\n",
       "        text-align: right;\n",
       "    }\n",
       "</style>\n",
       "<table border=\"1\" class=\"dataframe\">\n",
       "  <thead>\n",
       "    <tr style=\"text-align: right;\">\n",
       "      <th></th>\n",
       "      <th>confirmed</th>\n",
       "      <th>deaths</th>\n",
       "      <th>Persen</th>\n",
       "    </tr>\n",
       "    <tr>\n",
       "      <th>country_region</th>\n",
       "      <th></th>\n",
       "      <th></th>\n",
       "      <th></th>\n",
       "    </tr>\n",
       "  </thead>\n",
       "  <tbody>\n",
       "    <tr>\n",
       "      <th>Afghanistan</th>\n",
       "      <td>8954049</td>\n",
       "      <td>378550</td>\n",
       "      <td>4.227696</td>\n",
       "    </tr>\n",
       "    <tr>\n",
       "      <th>Albania</th>\n",
       "      <td>11658587</td>\n",
       "      <td>161143</td>\n",
       "      <td>1.382183</td>\n",
       "    </tr>\n",
       "    <tr>\n",
       "      <th>Algeria</th>\n",
       "      <td>10694235</td>\n",
       "      <td>286727</td>\n",
       "      <td>2.681136</td>\n",
       "    </tr>\n",
       "    <tr>\n",
       "      <th>Andorra</th>\n",
       "      <td>1702511</td>\n",
       "      <td>8534</td>\n",
       "      <td>0.501260</td>\n",
       "    </tr>\n",
       "    <tr>\n",
       "      <th>Angola</th>\n",
       "      <td>5004997</td>\n",
       "      <td>100150</td>\n",
       "      <td>2.001000</td>\n",
       "    </tr>\n",
       "    <tr>\n",
       "      <th>...</th>\n",
       "      <td>...</td>\n",
       "      <td>...</td>\n",
       "      <td>...</td>\n",
       "    </tr>\n",
       "    <tr>\n",
       "      <th>Vietnam</th>\n",
       "      <td>324589756</td>\n",
       "      <td>1604636</td>\n",
       "      <td>0.494358</td>\n",
       "    </tr>\n",
       "    <tr>\n",
       "      <th>West Bank and Gaza</th>\n",
       "      <td>33776863</td>\n",
       "      <td>308106</td>\n",
       "      <td>0.912181</td>\n",
       "    </tr>\n",
       "    <tr>\n",
       "      <th>Yemen</th>\n",
       "      <td>532976</td>\n",
       "      <td>100769</td>\n",
       "      <td>18.906855</td>\n",
       "    </tr>\n",
       "    <tr>\n",
       "      <th>Zambia</th>\n",
       "      <td>13528551</td>\n",
       "      <td>182779</td>\n",
       "      <td>1.351061</td>\n",
       "    </tr>\n",
       "    <tr>\n",
       "      <th>Zimbabwe</th>\n",
       "      <td>10411754</td>\n",
       "      <td>261957</td>\n",
       "      <td>2.515974</td>\n",
       "    </tr>\n",
       "  </tbody>\n",
       "</table>\n",
       "<p>186 rows × 3 columns</p>\n",
       "</div>"
      ],
      "text/plain": [
       "                    confirmed   deaths     Persen\n",
       "country_region                                   \n",
       "Afghanistan           8954049   378550   4.227696\n",
       "Albania              11658587   161143   1.382183\n",
       "Algeria              10694235   286727   2.681136\n",
       "Andorra               1702511     8534   0.501260\n",
       "Angola                5004997   100150   2.001000\n",
       "...                       ...      ...        ...\n",
       "Vietnam             324589756  1604636   0.494358\n",
       "West Bank and Gaza   33776863   308106   0.912181\n",
       "Yemen                  532976   100769  18.906855\n",
       "Zambia               13528551   182779   1.351061\n",
       "Zimbabwe             10411754   261957   2.515974\n",
       "\n",
       "[186 rows x 3 columns]"
      ]
     },
     "execution_count": 1629,
     "metadata": {},
     "output_type": "execute_result"
    }
   ],
   "source": [
    "# Pembuatan kolom baru yakni persentase meninggal\n",
    "df['Persen'] = df['deaths'] / df['confirmed'] * 100\n",
    "df"
   ]
  },
  {
   "cell_type": "code",
   "execution_count": 1630,
   "metadata": {},
   "outputs": [
    {
     "data": {
      "text/html": [
       "<div>\n",
       "<style scoped>\n",
       "    .dataframe tbody tr th:only-of-type {\n",
       "        vertical-align: middle;\n",
       "    }\n",
       "\n",
       "    .dataframe tbody tr th {\n",
       "        vertical-align: top;\n",
       "    }\n",
       "\n",
       "    .dataframe thead th {\n",
       "        text-align: right;\n",
       "    }\n",
       "</style>\n",
       "<table border=\"1\" class=\"dataframe\">\n",
       "  <thead>\n",
       "    <tr style=\"text-align: right;\">\n",
       "      <th></th>\n",
       "      <th>confirmed</th>\n",
       "      <th>deaths</th>\n",
       "      <th>Persen</th>\n",
       "    </tr>\n",
       "    <tr>\n",
       "      <th>country_region</th>\n",
       "      <th></th>\n",
       "      <th></th>\n",
       "      <th></th>\n",
       "    </tr>\n",
       "  </thead>\n",
       "  <tbody>\n",
       "    <tr>\n",
       "      <th>Afghanistan</th>\n",
       "      <td>8954049</td>\n",
       "      <td>378550</td>\n",
       "      <td>4.227696</td>\n",
       "    </tr>\n",
       "    <tr>\n",
       "      <th>Albania</th>\n",
       "      <td>11658587</td>\n",
       "      <td>161143</td>\n",
       "      <td>1.382183</td>\n",
       "    </tr>\n",
       "    <tr>\n",
       "      <th>Algeria</th>\n",
       "      <td>10694235</td>\n",
       "      <td>286727</td>\n",
       "      <td>2.681136</td>\n",
       "    </tr>\n",
       "    <tr>\n",
       "      <th>Andorra</th>\n",
       "      <td>1702511</td>\n",
       "      <td>8534</td>\n",
       "      <td>0.501260</td>\n",
       "    </tr>\n",
       "    <tr>\n",
       "      <th>Angola</th>\n",
       "      <td>5004997</td>\n",
       "      <td>100150</td>\n",
       "      <td>2.001000</td>\n",
       "    </tr>\n",
       "    <tr>\n",
       "      <th>...</th>\n",
       "      <td>...</td>\n",
       "      <td>...</td>\n",
       "      <td>...</td>\n",
       "    </tr>\n",
       "    <tr>\n",
       "      <th>Vietnam</th>\n",
       "      <td>324589756</td>\n",
       "      <td>1604636</td>\n",
       "      <td>0.494358</td>\n",
       "    </tr>\n",
       "    <tr>\n",
       "      <th>West Bank and Gaza</th>\n",
       "      <td>33776863</td>\n",
       "      <td>308106</td>\n",
       "      <td>0.912181</td>\n",
       "    </tr>\n",
       "    <tr>\n",
       "      <th>Yemen</th>\n",
       "      <td>532976</td>\n",
       "      <td>100769</td>\n",
       "      <td>18.906855</td>\n",
       "    </tr>\n",
       "    <tr>\n",
       "      <th>Zambia</th>\n",
       "      <td>13528551</td>\n",
       "      <td>182779</td>\n",
       "      <td>1.351061</td>\n",
       "    </tr>\n",
       "    <tr>\n",
       "      <th>Zimbabwe</th>\n",
       "      <td>10411754</td>\n",
       "      <td>261957</td>\n",
       "      <td>2.515974</td>\n",
       "    </tr>\n",
       "  </tbody>\n",
       "</table>\n",
       "<p>186 rows × 3 columns</p>\n",
       "</div>"
      ],
      "text/plain": [
       "                    confirmed   deaths     Persen\n",
       "country_region                                   \n",
       "Afghanistan           8954049   378550   4.227696\n",
       "Albania              11658587   161143   1.382183\n",
       "Algeria              10694235   286727   2.681136\n",
       "Andorra               1702511     8534   0.501260\n",
       "Angola                5004997   100150   2.001000\n",
       "...                       ...      ...        ...\n",
       "Vietnam             324589756  1604636   0.494358\n",
       "West Bank and Gaza   33776863   308106   0.912181\n",
       "Yemen                  532976   100769  18.906855\n",
       "Zambia               13528551   182779   1.351061\n",
       "Zimbabwe             10411754   261957   2.515974\n",
       "\n",
       "[186 rows x 3 columns]"
      ]
     },
     "execution_count": 1630,
     "metadata": {},
     "output_type": "execute_result"
    }
   ],
   "source": [
    "# Pencarian dan penghapusan data yang salah dimana deaths lebih banyak dari confirmed untuk menghindari invalid data\n",
    "df = df[df['deaths'] < df['confirmed']]\n",
    "df"
   ]
  },
  {
   "cell_type": "code",
   "execution_count": 1631,
   "metadata": {},
   "outputs": [
    {
     "data": {
      "text/html": [
       "<div>\n",
       "<style scoped>\n",
       "    .dataframe tbody tr th:only-of-type {\n",
       "        vertical-align: middle;\n",
       "    }\n",
       "\n",
       "    .dataframe tbody tr th {\n",
       "        vertical-align: top;\n",
       "    }\n",
       "\n",
       "    .dataframe thead th {\n",
       "        text-align: right;\n",
       "    }\n",
       "</style>\n",
       "<table border=\"1\" class=\"dataframe\">\n",
       "  <thead>\n",
       "    <tr style=\"text-align: right;\">\n",
       "      <th></th>\n",
       "      <th>Terjangkit</th>\n",
       "      <th>Meninggal</th>\n",
       "      <th>Persen</th>\n",
       "    </tr>\n",
       "    <tr>\n",
       "      <th>Negara</th>\n",
       "      <th></th>\n",
       "      <th></th>\n",
       "      <th></th>\n",
       "    </tr>\n",
       "  </thead>\n",
       "  <tbody>\n",
       "    <tr>\n",
       "      <th>Afghanistan</th>\n",
       "      <td>8954049</td>\n",
       "      <td>378550</td>\n",
       "      <td>4.227696</td>\n",
       "    </tr>\n",
       "    <tr>\n",
       "      <th>Albania</th>\n",
       "      <td>11658587</td>\n",
       "      <td>161143</td>\n",
       "      <td>1.382183</td>\n",
       "    </tr>\n",
       "    <tr>\n",
       "      <th>Algeria</th>\n",
       "      <td>10694235</td>\n",
       "      <td>286727</td>\n",
       "      <td>2.681136</td>\n",
       "    </tr>\n",
       "    <tr>\n",
       "      <th>Andorra</th>\n",
       "      <td>1702511</td>\n",
       "      <td>8534</td>\n",
       "      <td>0.501260</td>\n",
       "    </tr>\n",
       "    <tr>\n",
       "      <th>Angola</th>\n",
       "      <td>5004997</td>\n",
       "      <td>100150</td>\n",
       "      <td>2.001000</td>\n",
       "    </tr>\n",
       "    <tr>\n",
       "      <th>...</th>\n",
       "      <td>...</td>\n",
       "      <td>...</td>\n",
       "      <td>...</td>\n",
       "    </tr>\n",
       "    <tr>\n",
       "      <th>Vietnam</th>\n",
       "      <td>324589756</td>\n",
       "      <td>1604636</td>\n",
       "      <td>0.494358</td>\n",
       "    </tr>\n",
       "    <tr>\n",
       "      <th>West Bank and Gaza</th>\n",
       "      <td>33776863</td>\n",
       "      <td>308106</td>\n",
       "      <td>0.912181</td>\n",
       "    </tr>\n",
       "    <tr>\n",
       "      <th>Yemen</th>\n",
       "      <td>532976</td>\n",
       "      <td>100769</td>\n",
       "      <td>18.906855</td>\n",
       "    </tr>\n",
       "    <tr>\n",
       "      <th>Zambia</th>\n",
       "      <td>13528551</td>\n",
       "      <td>182779</td>\n",
       "      <td>1.351061</td>\n",
       "    </tr>\n",
       "    <tr>\n",
       "      <th>Zimbabwe</th>\n",
       "      <td>10411754</td>\n",
       "      <td>261957</td>\n",
       "      <td>2.515974</td>\n",
       "    </tr>\n",
       "  </tbody>\n",
       "</table>\n",
       "<p>186 rows × 3 columns</p>\n",
       "</div>"
      ],
      "text/plain": [
       "                    Terjangkit  Meninggal     Persen\n",
       "Negara                                              \n",
       "Afghanistan            8954049     378550   4.227696\n",
       "Albania               11658587     161143   1.382183\n",
       "Algeria               10694235     286727   2.681136\n",
       "Andorra                1702511       8534   0.501260\n",
       "Angola                 5004997     100150   2.001000\n",
       "...                        ...        ...        ...\n",
       "Vietnam              324589756    1604636   0.494358\n",
       "West Bank and Gaza    33776863     308106   0.912181\n",
       "Yemen                   532976     100769  18.906855\n",
       "Zambia                13528551     182779   1.351061\n",
       "Zimbabwe              10411754     261957   2.515974\n",
       "\n",
       "[186 rows x 3 columns]"
      ]
     },
     "execution_count": 1631,
     "metadata": {},
     "output_type": "execute_result"
    }
   ],
   "source": [
    "# Penggantian nama kolom dan axis menjadi Bahasa Indonesia\n",
    "df.rename_axis(\"Negara\", inplace=True)\n",
    "df.rename(columns={\"confirmed\" : \"Terjangkit\", \"deaths\": \"Meninggal\"}, inplace=True)\n",
    "\n",
    "df"
   ]
  },
  {
   "attachments": {},
   "cell_type": "markdown",
   "metadata": {},
   "source": [
    "# 5. Eksplorasi Data"
   ]
  },
  {
   "cell_type": "code",
   "execution_count": 1632,
   "metadata": {},
   "outputs": [
    {
     "name": "stdout",
     "output_type": "stream",
     "text": [
      "Jumlah korban terjangkit di semua negara adalah :  21068411289\n",
      "Jumlah korban meninggal di semua negara adalah :  297133528\n",
      "Persentase jumlah korban meninggal di semua negara adalah :  1.41\n"
     ]
    }
   ],
   "source": [
    "# Pembuatan variabel baru yang menampilkan jumlah korban terjangkit di semua negara\n",
    "total_confirmed = int(df['Terjangkit'].sum())\n",
    "print('Jumlah korban terjangkit di semua negara adalah : ', total_confirmed)\n",
    "\n",
    "# Pembuatan variabel baru yang menampilkan jumlah korban meninggal di semua negara\n",
    "total_deaths =int(df['Meninggal'].sum())\n",
    "print('Jumlah korban meninggal di semua negara adalah : ', total_deaths)\n",
    "\n",
    "# Pembuatan variabel baru yang menampilkan persentase jumlah korban meninggal di semua negara\n",
    "total_deaths_percentage =float(total_deaths / total_confirmed * 100)\n",
    "\n",
    "# Manipulasi variabel agar hanya menampilkan 2 angka di belakang koma\n",
    "total_deaths_percentage = round(total_deaths_percentage, 2)\n",
    "print('Persentase jumlah korban meninggal di semua negara adalah : ', total_deaths_percentage)"
   ]
  },
  {
   "cell_type": "code",
   "execution_count": 1633,
   "metadata": {},
   "outputs": [
    {
     "data": {
      "text/plain": [
       "Negara\n",
       "US         3484238268\n",
       "India      2069388540\n",
       "Brazil     1441326608\n",
       "France     1101284102\n",
       "Germany     894782753\n",
       "Name: Terjangkit, dtype: int64"
      ]
     },
     "execution_count": 1633,
     "metadata": {},
     "output_type": "execute_result"
    }
   ],
   "source": [
    "# Pembuatan variabel baru yang menampilkan 5 negara dengan jumlah korban terjangkit terbesar\n",
    "highest_confirmed = df.sort_values(['Terjangkit'], ascending=False).head()\n",
    "highest_confirmed['Terjangkit']"
   ]
  },
  {
   "cell_type": "code",
   "execution_count": 1634,
   "metadata": {},
   "outputs": [
    {
     "data": {
      "text/plain": [
       "Negara\n",
       "South Korea                5621\n",
       "Mainland China           153212\n",
       "Saint Kitts and Nevis    161336\n",
       "Micronesia               177624\n",
       "Sao Tome and Principe    211031\n",
       "Name: Terjangkit, dtype: int64"
      ]
     },
     "execution_count": 1634,
     "metadata": {},
     "output_type": "execute_result"
    }
   ],
   "source": [
    "# Pembuatan variabel baru yang menampilkan 5 negara dengan jumlah korban terjangkit terkecil\n",
    "lowest_confirmed = df.sort_values(['Terjangkit'], ascending=True).head()\n",
    "lowest_confirmed['Terjangkit']"
   ]
  },
  {
   "cell_type": "code",
   "execution_count": 1635,
   "metadata": {},
   "outputs": [
    {
     "data": {
      "text/plain": [
       "Negara\n",
       "US        46947278\n",
       "Brazil    33680212\n",
       "India     26336681\n",
       "Mexico    17019135\n",
       "Russia    15123963\n",
       "Name: Meninggal, dtype: int64"
      ]
     },
     "execution_count": 1635,
     "metadata": {},
     "output_type": "execute_result"
    }
   ],
   "source": [
    "# Pembuatan variabel baru yang menampilkan 5 negara dengan jumlah korban meninggal terbesar\n",
    "highest_deaths = df.sort_values(['Meninggal'], ascending=False).head()\n",
    "highest_deaths['Meninggal']"
   ]
  },
  {
   "cell_type": "code",
   "execution_count": 1636,
   "metadata": {},
   "outputs": [
    {
     "data": {
      "text/plain": [
       "Negara\n",
       "South Korea                35\n",
       "Micronesia                452\n",
       "Saint Kitts and Nevis    1162\n",
       "Dominica                 2270\n",
       "Monaco                   2315\n",
       "Name: Meninggal, dtype: int64"
      ]
     },
     "execution_count": 1636,
     "metadata": {},
     "output_type": "execute_result"
    }
   ],
   "source": [
    "# Pembuatan variabel baru yang menampilkan 5 negara dengan jumlah korban meninggal terkecil\n",
    "lowest_deaths = df.sort_values(['Meninggal'], ascending=True).head()\n",
    "lowest_deaths['Meninggal']"
   ]
  },
  {
   "cell_type": "code",
   "execution_count": 1637,
   "metadata": {},
   "outputs": [
    {
     "data": {
      "text/plain": [
       "Negara\n",
       "Belgium    45.741682\n",
       "Yemen      18.906855\n",
       "Sudan       7.425737\n",
       "Mexico      6.219972\n",
       "Syria       5.936907\n",
       "Name: Persen, dtype: float64"
      ]
     },
     "execution_count": 1637,
     "metadata": {},
     "output_type": "execute_result"
    }
   ],
   "source": [
    "# Pembuatan variabel baru yang menampilkan 5 negara dengan persentase meninggal terbesar\n",
    "highest_percentage = df.sort_values(['Persen'], ascending=False).head()\n",
    "highest_percentage['Persen']"
   ]
  },
  {
   "cell_type": "code",
   "execution_count": 1638,
   "metadata": {},
   "outputs": [
    {
     "data": {
      "text/plain": [
       "Negara\n",
       "Iceland         0.091458\n",
       "Singapore       0.096776\n",
       "New Zealand     0.105807\n",
       "Brunei          0.123864\n",
       "Korea, South    0.132492\n",
       "Name: Persen, dtype: float64"
      ]
     },
     "execution_count": 1638,
     "metadata": {},
     "output_type": "execute_result"
    }
   ],
   "source": [
    "# Pembuatan variabel baru yang menampilkan 5 negara dengan persentase meninggal terkecil\n",
    "lowest_percentage = df.sort_values(['Persen'], ascending=True).head()\n",
    "lowest_percentage['Persen']"
   ]
  },
  {
   "cell_type": "code",
   "execution_count": 1639,
   "metadata": {},
   "outputs": [],
   "source": [
    "# Import matplotlib\n",
    "%matplotlib inline"
   ]
  },
  {
   "cell_type": "code",
   "execution_count": 1640,
   "metadata": {},
   "outputs": [
    {
     "data": {
      "text/plain": [
       "<AxesSubplot: title={'center': '5 negara  paling banyak terjangkit'}, xlabel='Negara'>"
      ]
     },
     "execution_count": 1640,
     "metadata": {},
     "output_type": "execute_result"
    },
    {
     "data": {
      "image/png": "[encoded data removed]",
      "text/plain": [
       "<Figure size 640x480 with 1 Axes>"
      ]
     },
     "metadata": {},
     "output_type": "display_data"
    }
   ],
   "source": [
    "# Visualisasi 5 negara dengan jumlah korban terjangkit terbesar\n",
    "highest_confirmed['Terjangkit'].plot(title= '5 negara  paling banyak terjangkit', kind='bar')\n"
   ]
  },
  {
   "cell_type": "code",
   "execution_count": 1641,
   "metadata": {},
   "outputs": [
    {
     "data": {
      "text/plain": [
       "<AxesSubplot: title={'center': '5 negara paling sedikit terjangkit'}, xlabel='Negara'>"
      ]
     },
     "execution_count": 1641,
     "metadata": {},
     "output_type": "execute_result"
    },
    {
     "data": {
      "image/png": "[encoded data removed]",
      "text/plain": [
       "<Figure size 640x480 with 1 Axes>"
      ]
     },
     "metadata": {},
     "output_type": "display_data"
    }
   ],
   "source": [
    "# Visualisasi 5 negara dengan jumlah korban terjangkit terkecil\n",
    "lowest_confirmed['Terjangkit'].plot(title='5 negara paling sedikit terjangkit', kind='bar')"
   ]
  },
  {
   "cell_type": "code",
   "execution_count": 1642,
   "metadata": {},
   "outputs": [
    {
     "data": {
      "text/plain": [
       "<AxesSubplot: title={'center': '5 negara paling banyak meninggal'}, xlabel='Negara'>"
      ]
     },
     "execution_count": 1642,
     "metadata": {},
     "output_type": "execute_result"
    },
    {
     "data": {
      "image/png": "[encoded data removed]",
      "text/plain": [
       "<Figure size 640x480 with 1 Axes>"
      ]
     },
     "metadata": {},
     "output_type": "display_data"
    }
   ],
   "source": [
    "# Visualisasi 5 negara dengan jumlah korban meninggal terbesar\n",
    "highest_deaths['Meninggal'].plot(title='5 negara paling banyak meninggal', kind='bar')"
   ]
  },
  {
   "cell_type": "code",
   "execution_count": 1643,
   "metadata": {},
   "outputs": [
    {
     "data": {
      "text/plain": [
       "<AxesSubplot: title={'center': '5 negara paling sedikit meninggal'}, xlabel='Negara'>"
      ]
     },
     "execution_count": 1643,
     "metadata": {},
     "output_type": "execute_result"
    },
    {
     "data": {
      "image/png": "[encoded data removed]",
      "text/plain": [
       "<Figure size 640x480 with 1 Axes>"
      ]
     },
     "metadata": {},
     "output_type": "display_data"
    }
   ],
   "source": [
    "# Visualisasi 5 negara dengan jumlah korban meninggal terkecil\n",
    "lowest_deaths['Meninggal'].plot(title= '5 negara paling sedikit meninggal', kind='bar')"
   ]
  },
  {
   "cell_type": "code",
   "execution_count": 1644,
   "metadata": {},
   "outputs": [
    {
     "data": {
      "text/plain": [
       "<AxesSubplot: title={'center': '5 negara paling banyak persentase meninggal'}, xlabel='Negara'>"
      ]
     },
     "execution_count": 1644,
     "metadata": {},
     "output_type": "execute_result"
    },
    {
     "data": {
      "image/png": "[encoded data removed]",
      "text/plain": [
       "<Figure size 640x480 with 1 Axes>"
      ]
     },
     "metadata": {},
     "output_type": "display_data"
    }
   ],
   "source": [
    "# Visualisasi 5 negara dengan persentase meninggal terbesar\n",
    "highest_percentage['Persen'].plot(title='5 negara paling banyak persentase meninggal', kind='bar')"
   ]
  },
  {
   "cell_type": "code",
   "execution_count": 1645,
   "metadata": {},
   "outputs": [
    {
     "data": {
      "text/plain": [
       "<AxesSubplot: title={'center': '5 negara paling sedikit persentase meninggal'}, xlabel='Negara'>"
      ]
     },
     "execution_count": 1645,
     "metadata": {},
     "output_type": "execute_result"
    },
    {
     "data": {
      "image/png": "[encoded data removed]",
      "text/plain": [
       "<Figure size 640x480 with 1 Axes>"
      ]
     },
     "metadata": {},
     "output_type": "display_data"
    }
   ],
   "source": [
    "# Visualisasi 5 negara dengan persentase meninggal terkecil\n",
    "lowest_percentage['Persen'].plot(title='5 negara paling sedikit persentase meninggal', kind='bar')"
   ]
  },
  {
   "attachments": {},
   "cell_type": "markdown",
   "metadata": {},
   "source": [
    "# 6. Pengambilan Kesimpulan\n",
    "\n",
    "Berdasarkan data yang ada, maka bisa disimpulkan bahwa :"
   ]
  },
  {
   "attachments": {},
   "cell_type": "markdown",
   "metadata": {},
   "source": [
    "1 . Jumlah korban terjangkit di semua negara adalah :"
   ]
  },
  {
   "cell_type": "code",
   "execution_count": 1646,
   "metadata": {},
   "outputs": [
    {
     "data": {
      "text/plain": [
       "21068411289"
      ]
     },
     "execution_count": 1646,
     "metadata": {},
     "output_type": "execute_result"
    }
   ],
   "source": [
    "total_confirmed"
   ]
  },
  {
   "attachments": {},
   "cell_type": "markdown",
   "metadata": {},
   "source": [
    "2 . Jumlah korban meninggal di semua negara adalah :"
   ]
  },
  {
   "cell_type": "code",
   "execution_count": 1647,
   "metadata": {},
   "outputs": [
    {
     "data": {
      "text/plain": [
       "297133528"
      ]
     },
     "execution_count": 1647,
     "metadata": {},
     "output_type": "execute_result"
    }
   ],
   "source": [
    "total_deaths"
   ]
  },
  {
   "attachments": {},
   "cell_type": "markdown",
   "metadata": {},
   "source": [
    "3 . Persentase jumlah korban meninggal di semua negara adalah :"
   ]
  },
  {
   "cell_type": "code",
   "execution_count": 1648,
   "metadata": {},
   "outputs": [
    {
     "data": {
      "text/plain": [
       "1.41"
      ]
     },
     "execution_count": 1648,
     "metadata": {},
     "output_type": "execute_result"
    }
   ],
   "source": [
    "total_deaths_percentage"
   ]
  },
  {
   "attachments": {},
   "cell_type": "markdown",
   "metadata": {},
   "source": [
    "4 . 5 Negara dengan jumlah terjangkit terbesar adalah :"
   ]
  },
  {
   "cell_type": "code",
   "execution_count": 1649,
   "metadata": {},
   "outputs": [
    {
     "data": {
      "text/plain": [
       "Index(['US', 'India', 'Brazil', 'France', 'Germany'], dtype='object', name='Negara')"
      ]
     },
     "execution_count": 1649,
     "metadata": {},
     "output_type": "execute_result"
    }
   ],
   "source": [
    "highest_confirmed.index"
   ]
  },
  {
   "attachments": {},
   "cell_type": "markdown",
   "metadata": {},
   "source": [
    "5 . 5 negara dengan jumlah terjangkit terkecil adalah :"
   ]
  },
  {
   "cell_type": "code",
   "execution_count": 1650,
   "metadata": {},
   "outputs": [
    {
     "data": {
      "text/plain": [
       "Index(['South Korea', 'Mainland China', 'Saint Kitts and Nevis', 'Micronesia',\n",
       "       'Sao Tome and Principe'],\n",
       "      dtype='object', name='Negara')"
      ]
     },
     "execution_count": 1650,
     "metadata": {},
     "output_type": "execute_result"
    }
   ],
   "source": [
    "lowest_confirmed.index"
   ]
  },
  {
   "attachments": {},
   "cell_type": "markdown",
   "metadata": {},
   "source": [
    "6 . 5 negara dengan jumlah kematian terbesar adalah :"
   ]
  },
  {
   "cell_type": "code",
   "execution_count": 1651,
   "metadata": {},
   "outputs": [
    {
     "data": {
      "text/plain": [
       "Index(['US', 'Brazil', 'India', 'Mexico', 'Russia'], dtype='object', name='Negara')"
      ]
     },
     "execution_count": 1651,
     "metadata": {},
     "output_type": "execute_result"
    }
   ],
   "source": [
    "highest_deaths.index"
   ]
  },
  {
   "attachments": {},
   "cell_type": "markdown",
   "metadata": {},
   "source": [
    "7 . 5 negara dengan jumlah kematian terkecil adalah :"
   ]
  },
  {
   "cell_type": "code",
   "execution_count": 1652,
   "metadata": {},
   "outputs": [
    {
     "data": {
      "text/plain": [
       "Index(['South Korea', 'Micronesia', 'Saint Kitts and Nevis', 'Dominica',\n",
       "       'Monaco'],\n",
       "      dtype='object', name='Negara')"
      ]
     },
     "execution_count": 1652,
     "metadata": {},
     "output_type": "execute_result"
    }
   ],
   "source": [
    "lowest_deaths.index"
   ]
  },
  {
   "attachments": {},
   "cell_type": "markdown",
   "metadata": {},
   "source": [
    "8 . 5 Negara dengan persentase meninggal terbesar adalah :"
   ]
  },
  {
   "cell_type": "code",
   "execution_count": 1653,
   "metadata": {},
   "outputs": [
    {
     "data": {
      "text/plain": [
       "Index(['Belgium', 'Yemen', 'Sudan', 'Mexico', 'Syria'], dtype='object', name='Negara')"
      ]
     },
     "execution_count": 1653,
     "metadata": {},
     "output_type": "execute_result"
    }
   ],
   "source": [
    "highest_percentage.index"
   ]
  },
  {
   "attachments": {},
   "cell_type": "markdown",
   "metadata": {},
   "source": [
    "9 . 5 Negara dengan persentase meninggal terkecil adalah :"
   ]
  },
  {
   "cell_type": "code",
   "execution_count": 1654,
   "metadata": {},
   "outputs": [
    {
     "data": {
      "text/plain": [
       "Index(['Iceland', 'Singapore', 'New Zealand', 'Brunei', 'Korea, South'], dtype='object', name='Negara')"
      ]
     },
     "execution_count": 1654,
     "metadata": {},
     "output_type": "execute_result"
    }
   ],
   "source": [
    "lowest_percentage.index"
   ]
  }
 ],
 "metadata": {
  "kernelspec": {
   "display_name": "Hacktiv8",
   "language": "python",
   "name": "python3"
  },
  "language_info": {
   "codemirror_mode": {
    "name": "ipython",
    "version": 3
   },
   "file_extension": ".py",
   "mimetype": "text/x-python",
   "name": "python",
   "nbconvert_exporter": "python",
   "pygments_lexer": "ipython3",
   "version": "3.9.16"
  },
  "orig_nbformat": 4,
  "vscode": {
   "interpreter": {
    "hash": "9ff602f9eccff03ee989db4d72cf9c9243de1b315591902102c988001ce0060e"
   }
  }
 },
 "nbformat": 4,
 "nbformat_minor": 2
}

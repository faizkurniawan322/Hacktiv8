{
 "cells": [
  {
   "attachments": {},
   "cell_type": "markdown",
   "metadata": {},
   "source": [
    "# 1. Perkenalan \n",
    "\n",
    "1.1 \\\n",
    "Nama : Faiz Kurniawan \\\n",
    "Batch : RMT 018 \\\n",
    "\\\n",
    "1.2 \\\n",
    "Latar Belakang\n",
    "<p style='text-align: justify;'> Covid-19 adalah penyakit menular yang disebabkan oleh virus SARS-CoV-2. Kebanyakan korban terjangkit akan mengalami gangguan pernafasan, dan akan sembuh dengan sendirinya tanpa penanganan intensif. Namun beberapa korban terjangkit yang memiliki penyakit bawaan seperti gangguan pernafasan, diabetes, atau kanker memiliki kemungkinan besar untuk mengalami sebuah komplikasi yang bisa berujung pada kematian. Cara terbaik mencegah dan menangani Covid-19 adalah dengan mengetahui bagaimana virus menyebar dan melindungi diri dari korban terjangkit lainnya, dan juga melakukan isolasi untuk mencegah terjadinya persebaran lebih lanjut.\n",
    " </p>\n",
    "\n",
    "\n",
    "\n",
    "1.3 \\\n",
    "Problem Statement\n",
    "<p style='text-align: justify;'> Berdasarkan latar belakang yang ada, peneliti ingin mengetahui data lebih lanjut mengenai Covid-19 di berbagai negara. Data-data seperti jumlah korban terjangkit, jumlah korban meninggal, jumlah korban yang sembuh, jumlah korban yang masih aktif dan persentase jumlah meninggal. Dengan adanya data tersebut, peneliti akan lebih mudah untuk menentukan negara mana saja yang efektif melakukan penanganan covid agar korban terjangkit tidak meninggal dan bisa sembuh. </p>\n",
    "\n",
    "\n",
    "\n",
    "\n"
   ]
  },
  {
   "attachments": {},
   "cell_type": "markdown",
   "metadata": {},
   "source": [
    "# 2. Import Pustaka "
   ]
  },
  {
   "cell_type": "code",
   "execution_count": 2032,
   "metadata": {},
   "outputs": [],
   "source": [
    "import pandas as pd"
   ]
  },
  {
   "attachments": {},
   "cell_type": "markdown",
   "metadata": {},
   "source": [
    "# 3. Data Loading"
   ]
  },
  {
   "cell_type": "code",
   "execution_count": 2033,
   "metadata": {},
   "outputs": [
    {
     "data": {
      "text/html": [
       "<div>\n",
       "<style scoped>\n",
       "    .dataframe tbody tr th:only-of-type {\n",
       "        vertical-align: middle;\n",
       "    }\n",
       "\n",
       "    .dataframe tbody tr th {\n",
       "        vertical-align: top;\n",
       "    }\n",
       "\n",
       "    .dataframe thead th {\n",
       "        text-align: right;\n",
       "    }\n",
       "</style>\n",
       "<table border=\"1\" class=\"dataframe\">\n",
       "  <thead>\n",
       "    <tr style=\"text-align: right;\">\n",
       "      <th></th>\n",
       "      <th>province_state</th>\n",
       "      <th>country_region</th>\n",
       "      <th>date</th>\n",
       "      <th>confirmed</th>\n",
       "      <th>deaths</th>\n",
       "      <th>recovered</th>\n",
       "      <th>active</th>\n",
       "    </tr>\n",
       "  </thead>\n",
       "  <tbody>\n",
       "    <tr>\n",
       "      <th>0</th>\n",
       "      <td>Florida</td>\n",
       "      <td>US</td>\n",
       "      <td>2021-04-07</td>\n",
       "      <td>5240.0</td>\n",
       "      <td>136.0</td>\n",
       "      <td>NaN</td>\n",
       "      <td>NaN</td>\n",
       "    </tr>\n",
       "    <tr>\n",
       "      <th>1</th>\n",
       "      <td>Florida</td>\n",
       "      <td>US</td>\n",
       "      <td>2021-04-07</td>\n",
       "      <td>2697.0</td>\n",
       "      <td>45.0</td>\n",
       "      <td>NaN</td>\n",
       "      <td>NaN</td>\n",
       "    </tr>\n",
       "    <tr>\n",
       "      <th>2</th>\n",
       "      <td>Florida</td>\n",
       "      <td>US</td>\n",
       "      <td>2021-04-07</td>\n",
       "      <td>39322.0</td>\n",
       "      <td>732.0</td>\n",
       "      <td>NaN</td>\n",
       "      <td>NaN</td>\n",
       "    </tr>\n",
       "    <tr>\n",
       "      <th>3</th>\n",
       "      <td>Florida</td>\n",
       "      <td>US</td>\n",
       "      <td>2021-04-07</td>\n",
       "      <td>3268.0</td>\n",
       "      <td>55.0</td>\n",
       "      <td>NaN</td>\n",
       "      <td>NaN</td>\n",
       "    </tr>\n",
       "    <tr>\n",
       "      <th>4</th>\n",
       "      <td>Georgia</td>\n",
       "      <td>US</td>\n",
       "      <td>2021-04-07</td>\n",
       "      <td>2261.0</td>\n",
       "      <td>68.0</td>\n",
       "      <td>NaN</td>\n",
       "      <td>NaN</td>\n",
       "    </tr>\n",
       "    <tr>\n",
       "      <th>...</th>\n",
       "      <td>...</td>\n",
       "      <td>...</td>\n",
       "      <td>...</td>\n",
       "      <td>...</td>\n",
       "      <td>...</td>\n",
       "      <td>...</td>\n",
       "      <td>...</td>\n",
       "    </tr>\n",
       "    <tr>\n",
       "      <th>4131547</th>\n",
       "      <td>Louisiana</td>\n",
       "      <td>US</td>\n",
       "      <td>2020-05-17</td>\n",
       "      <td>84.0</td>\n",
       "      <td>2.0</td>\n",
       "      <td>0.0</td>\n",
       "      <td>82.0</td>\n",
       "    </tr>\n",
       "    <tr>\n",
       "      <th>4131548</th>\n",
       "      <td>Iowa</td>\n",
       "      <td>US</td>\n",
       "      <td>2020-05-17</td>\n",
       "      <td>18.0</td>\n",
       "      <td>0.0</td>\n",
       "      <td>0.0</td>\n",
       "      <td>18.0</td>\n",
       "    </tr>\n",
       "    <tr>\n",
       "      <th>4131549</th>\n",
       "      <td>Alabama</td>\n",
       "      <td>US</td>\n",
       "      <td>2020-05-17</td>\n",
       "      <td>34.0</td>\n",
       "      <td>1.0</td>\n",
       "      <td>0.0</td>\n",
       "      <td>33.0</td>\n",
       "    </tr>\n",
       "    <tr>\n",
       "      <th>4131550</th>\n",
       "      <td>Texas</td>\n",
       "      <td>US</td>\n",
       "      <td>2020-05-17</td>\n",
       "      <td>18.0</td>\n",
       "      <td>0.0</td>\n",
       "      <td>0.0</td>\n",
       "      <td>18.0</td>\n",
       "    </tr>\n",
       "    <tr>\n",
       "      <th>4131551</th>\n",
       "      <td>Iowa</td>\n",
       "      <td>US</td>\n",
       "      <td>2020-05-17</td>\n",
       "      <td>2215.0</td>\n",
       "      <td>16.0</td>\n",
       "      <td>0.0</td>\n",
       "      <td>2199.0</td>\n",
       "    </tr>\n",
       "  </tbody>\n",
       "</table>\n",
       "<p>4131552 rows × 7 columns</p>\n",
       "</div>"
      ],
      "text/plain": [
       "        province_state country_region        date  confirmed  deaths  \\\n",
       "0              Florida             US  2021-04-07     5240.0   136.0   \n",
       "1              Florida             US  2021-04-07     2697.0    45.0   \n",
       "2              Florida             US  2021-04-07    39322.0   732.0   \n",
       "3              Florida             US  2021-04-07     3268.0    55.0   \n",
       "4              Georgia             US  2021-04-07     2261.0    68.0   \n",
       "...                ...            ...         ...        ...     ...   \n",
       "4131547      Louisiana             US  2020-05-17       84.0     2.0   \n",
       "4131548           Iowa             US  2020-05-17       18.0     0.0   \n",
       "4131549        Alabama             US  2020-05-17       34.0     1.0   \n",
       "4131550          Texas             US  2020-05-17       18.0     0.0   \n",
       "4131551           Iowa             US  2020-05-17     2215.0    16.0   \n",
       "\n",
       "         recovered  active  \n",
       "0              NaN     NaN  \n",
       "1              NaN     NaN  \n",
       "2              NaN     NaN  \n",
       "3              NaN     NaN  \n",
       "4              NaN     NaN  \n",
       "...            ...     ...  \n",
       "4131547        0.0    82.0  \n",
       "4131548        0.0    18.0  \n",
       "4131549        0.0    33.0  \n",
       "4131550        0.0    18.0  \n",
       "4131551        0.0  2199.0  \n",
       "\n",
       "[4131552 rows x 7 columns]"
      ]
     },
     "execution_count": 2033,
     "metadata": {},
     "output_type": "execute_result"
    }
   ],
   "source": [
    "# SELECT province_state, country_region, date, confirmed, deaths, recovered, active FROM `bigquery-public-data.covid19_jhu_csse.summary`\n",
    "# Import dataset ke variable df\n",
    "df = pd.read_csv(\"E:\\DataScience\\h8dsft_P0GC1_faiz_kurniawan.csv\")\n",
    "df"
   ]
  },
  {
   "cell_type": "code",
   "execution_count": 2034,
   "metadata": {},
   "outputs": [
    {
     "name": "stdout",
     "output_type": "stream",
     "text": [
      "<class 'pandas.core.frame.DataFrame'>\n",
      "RangeIndex: 4131552 entries, 0 to 4131551\n",
      "Data columns (total 7 columns):\n",
      " #   Column          Dtype  \n",
      "---  ------          -----  \n",
      " 0   province_state  object \n",
      " 1   country_region  object \n",
      " 2   date            object \n",
      " 3   confirmed       float64\n",
      " 4   deaths          float64\n",
      " 5   recovered       float64\n",
      " 6   active          float64\n",
      "dtypes: float64(4), object(3)\n",
      "memory usage: 220.6+ MB\n"
     ]
    }
   ],
   "source": [
    "# Menampilkan info dari dataset\n",
    "df.info()"
   ]
  },
  {
   "cell_type": "code",
   "execution_count": 2035,
   "metadata": {},
   "outputs": [
    {
     "data": {
      "text/html": [
       "<div>\n",
       "<style scoped>\n",
       "    .dataframe tbody tr th:only-of-type {\n",
       "        vertical-align: middle;\n",
       "    }\n",
       "\n",
       "    .dataframe tbody tr th {\n",
       "        vertical-align: top;\n",
       "    }\n",
       "\n",
       "    .dataframe thead th {\n",
       "        text-align: right;\n",
       "    }\n",
       "</style>\n",
       "<table border=\"1\" class=\"dataframe\">\n",
       "  <thead>\n",
       "    <tr style=\"text-align: right;\">\n",
       "      <th></th>\n",
       "      <th>confirmed</th>\n",
       "      <th>deaths</th>\n",
       "      <th>recovered</th>\n",
       "      <th>active</th>\n",
       "    </tr>\n",
       "  </thead>\n",
       "  <tbody>\n",
       "    <tr>\n",
       "      <th>count</th>\n",
       "      <td>4.131533e+06</td>\n",
       "      <td>4.131110e+06</td>\n",
       "      <td>1.435591e+06</td>\n",
       "      <td>1.427512e+06</td>\n",
       "    </tr>\n",
       "    <tr>\n",
       "      <th>mean</th>\n",
       "      <td>7.123718e+04</td>\n",
       "      <td>1.004514e+03</td>\n",
       "      <td>1.636175e+04</td>\n",
       "      <td>6.556527e+03</td>\n",
       "    </tr>\n",
       "    <tr>\n",
       "      <th>std</th>\n",
       "      <td>5.642347e+05</td>\n",
       "      <td>6.253519e+03</td>\n",
       "      <td>1.341763e+05</td>\n",
       "      <td>9.286123e+04</td>\n",
       "    </tr>\n",
       "    <tr>\n",
       "      <th>min</th>\n",
       "      <td>-3.028440e+05</td>\n",
       "      <td>-1.780000e+02</td>\n",
       "      <td>-8.544050e+05</td>\n",
       "      <td>-6.298082e+06</td>\n",
       "    </tr>\n",
       "    <tr>\n",
       "      <th>25%</th>\n",
       "      <td>7.610000e+02</td>\n",
       "      <td>1.000000e+01</td>\n",
       "      <td>0.000000e+00</td>\n",
       "      <td>5.500000e+01</td>\n",
       "    </tr>\n",
       "    <tr>\n",
       "      <th>50%</th>\n",
       "      <td>3.578000e+03</td>\n",
       "      <td>5.600000e+01</td>\n",
       "      <td>0.000000e+00</td>\n",
       "      <td>4.710000e+02</td>\n",
       "    </tr>\n",
       "    <tr>\n",
       "      <th>75%</th>\n",
       "      <td>1.546200e+04</td>\n",
       "      <td>2.160000e+02</td>\n",
       "      <td>0.000000e+00</td>\n",
       "      <td>2.248000e+03</td>\n",
       "    </tr>\n",
       "    <tr>\n",
       "      <th>max</th>\n",
       "      <td>3.849501e+07</td>\n",
       "      <td>6.246410e+05</td>\n",
       "      <td>6.399531e+06</td>\n",
       "      <td>1.087776e+07</td>\n",
       "    </tr>\n",
       "  </tbody>\n",
       "</table>\n",
       "</div>"
      ],
      "text/plain": [
       "          confirmed        deaths     recovered        active\n",
       "count  4.131533e+06  4.131110e+06  1.435591e+06  1.427512e+06\n",
       "mean   7.123718e+04  1.004514e+03  1.636175e+04  6.556527e+03\n",
       "std    5.642347e+05  6.253519e+03  1.341763e+05  9.286123e+04\n",
       "min   -3.028440e+05 -1.780000e+02 -8.544050e+05 -6.298082e+06\n",
       "25%    7.610000e+02  1.000000e+01  0.000000e+00  5.500000e+01\n",
       "50%    3.578000e+03  5.600000e+01  0.000000e+00  4.710000e+02\n",
       "75%    1.546200e+04  2.160000e+02  0.000000e+00  2.248000e+03\n",
       "max    3.849501e+07  6.246410e+05  6.399531e+06  1.087776e+07"
      ]
     },
     "execution_count": 2035,
     "metadata": {},
     "output_type": "execute_result"
    }
   ],
   "source": [
    "# Menampilkan deskripsi dari dataset\n",
    "df.describe()"
   ]
  },
  {
   "cell_type": "code",
   "execution_count": 2036,
   "metadata": {},
   "outputs": [
    {
     "data": {
      "text/html": [
       "<div>\n",
       "<style scoped>\n",
       "    .dataframe tbody tr th:only-of-type {\n",
       "        vertical-align: middle;\n",
       "    }\n",
       "\n",
       "    .dataframe tbody tr th {\n",
       "        vertical-align: top;\n",
       "    }\n",
       "\n",
       "    .dataframe thead th {\n",
       "        text-align: right;\n",
       "    }\n",
       "</style>\n",
       "<table border=\"1\" class=\"dataframe\">\n",
       "  <thead>\n",
       "    <tr style=\"text-align: right;\">\n",
       "      <th></th>\n",
       "      <th>province_state</th>\n",
       "      <th>country_region</th>\n",
       "      <th>date</th>\n",
       "      <th>confirmed</th>\n",
       "      <th>deaths</th>\n",
       "      <th>recovered</th>\n",
       "      <th>active</th>\n",
       "    </tr>\n",
       "  </thead>\n",
       "  <tbody>\n",
       "    <tr>\n",
       "      <th>0</th>\n",
       "      <td>Florida</td>\n",
       "      <td>US</td>\n",
       "      <td>2021-04-07</td>\n",
       "      <td>5240.0</td>\n",
       "      <td>136.0</td>\n",
       "      <td>NaN</td>\n",
       "      <td>NaN</td>\n",
       "    </tr>\n",
       "    <tr>\n",
       "      <th>1</th>\n",
       "      <td>Florida</td>\n",
       "      <td>US</td>\n",
       "      <td>2021-04-07</td>\n",
       "      <td>2697.0</td>\n",
       "      <td>45.0</td>\n",
       "      <td>NaN</td>\n",
       "      <td>NaN</td>\n",
       "    </tr>\n",
       "    <tr>\n",
       "      <th>2</th>\n",
       "      <td>Florida</td>\n",
       "      <td>US</td>\n",
       "      <td>2021-04-07</td>\n",
       "      <td>39322.0</td>\n",
       "      <td>732.0</td>\n",
       "      <td>NaN</td>\n",
       "      <td>NaN</td>\n",
       "    </tr>\n",
       "    <tr>\n",
       "      <th>3</th>\n",
       "      <td>Florida</td>\n",
       "      <td>US</td>\n",
       "      <td>2021-04-07</td>\n",
       "      <td>3268.0</td>\n",
       "      <td>55.0</td>\n",
       "      <td>NaN</td>\n",
       "      <td>NaN</td>\n",
       "    </tr>\n",
       "    <tr>\n",
       "      <th>4</th>\n",
       "      <td>Georgia</td>\n",
       "      <td>US</td>\n",
       "      <td>2021-04-07</td>\n",
       "      <td>2261.0</td>\n",
       "      <td>68.0</td>\n",
       "      <td>NaN</td>\n",
       "      <td>NaN</td>\n",
       "    </tr>\n",
       "  </tbody>\n",
       "</table>\n",
       "</div>"
      ],
      "text/plain": [
       "  province_state country_region        date  confirmed  deaths  recovered  \\\n",
       "0        Florida             US  2021-04-07     5240.0   136.0        NaN   \n",
       "1        Florida             US  2021-04-07     2697.0    45.0        NaN   \n",
       "2        Florida             US  2021-04-07    39322.0   732.0        NaN   \n",
       "3        Florida             US  2021-04-07     3268.0    55.0        NaN   \n",
       "4        Georgia             US  2021-04-07     2261.0    68.0        NaN   \n",
       "\n",
       "   active  \n",
       "0     NaN  \n",
       "1     NaN  \n",
       "2     NaN  \n",
       "3     NaN  \n",
       "4     NaN  "
      ]
     },
     "execution_count": 2036,
     "metadata": {},
     "output_type": "execute_result"
    }
   ],
   "source": [
    "# Menampilkan 5 data teratas dari dataset\n",
    "df.head()"
   ]
  },
  {
   "cell_type": "code",
   "execution_count": 2037,
   "metadata": {},
   "outputs": [
    {
     "data": {
      "text/html": [
       "<div>\n",
       "<style scoped>\n",
       "    .dataframe tbody tr th:only-of-type {\n",
       "        vertical-align: middle;\n",
       "    }\n",
       "\n",
       "    .dataframe tbody tr th {\n",
       "        vertical-align: top;\n",
       "    }\n",
       "\n",
       "    .dataframe thead th {\n",
       "        text-align: right;\n",
       "    }\n",
       "</style>\n",
       "<table border=\"1\" class=\"dataframe\">\n",
       "  <thead>\n",
       "    <tr style=\"text-align: right;\">\n",
       "      <th></th>\n",
       "      <th>province_state</th>\n",
       "      <th>country_region</th>\n",
       "      <th>date</th>\n",
       "      <th>confirmed</th>\n",
       "      <th>deaths</th>\n",
       "      <th>recovered</th>\n",
       "      <th>active</th>\n",
       "    </tr>\n",
       "  </thead>\n",
       "  <tbody>\n",
       "    <tr>\n",
       "      <th>4131547</th>\n",
       "      <td>Louisiana</td>\n",
       "      <td>US</td>\n",
       "      <td>2020-05-17</td>\n",
       "      <td>84.0</td>\n",
       "      <td>2.0</td>\n",
       "      <td>0.0</td>\n",
       "      <td>82.0</td>\n",
       "    </tr>\n",
       "    <tr>\n",
       "      <th>4131548</th>\n",
       "      <td>Iowa</td>\n",
       "      <td>US</td>\n",
       "      <td>2020-05-17</td>\n",
       "      <td>18.0</td>\n",
       "      <td>0.0</td>\n",
       "      <td>0.0</td>\n",
       "      <td>18.0</td>\n",
       "    </tr>\n",
       "    <tr>\n",
       "      <th>4131549</th>\n",
       "      <td>Alabama</td>\n",
       "      <td>US</td>\n",
       "      <td>2020-05-17</td>\n",
       "      <td>34.0</td>\n",
       "      <td>1.0</td>\n",
       "      <td>0.0</td>\n",
       "      <td>33.0</td>\n",
       "    </tr>\n",
       "    <tr>\n",
       "      <th>4131550</th>\n",
       "      <td>Texas</td>\n",
       "      <td>US</td>\n",
       "      <td>2020-05-17</td>\n",
       "      <td>18.0</td>\n",
       "      <td>0.0</td>\n",
       "      <td>0.0</td>\n",
       "      <td>18.0</td>\n",
       "    </tr>\n",
       "    <tr>\n",
       "      <th>4131551</th>\n",
       "      <td>Iowa</td>\n",
       "      <td>US</td>\n",
       "      <td>2020-05-17</td>\n",
       "      <td>2215.0</td>\n",
       "      <td>16.0</td>\n",
       "      <td>0.0</td>\n",
       "      <td>2199.0</td>\n",
       "    </tr>\n",
       "  </tbody>\n",
       "</table>\n",
       "</div>"
      ],
      "text/plain": [
       "        province_state country_region        date  confirmed  deaths  \\\n",
       "4131547      Louisiana             US  2020-05-17       84.0     2.0   \n",
       "4131548           Iowa             US  2020-05-17       18.0     0.0   \n",
       "4131549        Alabama             US  2020-05-17       34.0     1.0   \n",
       "4131550          Texas             US  2020-05-17       18.0     0.0   \n",
       "4131551           Iowa             US  2020-05-17     2215.0    16.0   \n",
       "\n",
       "         recovered  active  \n",
       "4131547        0.0    82.0  \n",
       "4131548        0.0    18.0  \n",
       "4131549        0.0    33.0  \n",
       "4131550        0.0    18.0  \n",
       "4131551        0.0  2199.0  "
      ]
     },
     "execution_count": 2037,
     "metadata": {},
     "output_type": "execute_result"
    }
   ],
   "source": [
    "# Menampilkan 5 data terbawah dari dataset\n",
    "df.tail()"
   ]
  },
  {
   "cell_type": "code",
   "execution_count": 2038,
   "metadata": {},
   "outputs": [
    {
     "data": {
      "text/html": [
       "<div>\n",
       "<style scoped>\n",
       "    .dataframe tbody tr th:only-of-type {\n",
       "        vertical-align: middle;\n",
       "    }\n",
       "\n",
       "    .dataframe tbody tr th {\n",
       "        vertical-align: top;\n",
       "    }\n",
       "\n",
       "    .dataframe thead th {\n",
       "        text-align: right;\n",
       "    }\n",
       "</style>\n",
       "<table border=\"1\" class=\"dataframe\">\n",
       "  <thead>\n",
       "    <tr style=\"text-align: right;\">\n",
       "      <th></th>\n",
       "      <th>province_state</th>\n",
       "      <th>country_region</th>\n",
       "      <th>date</th>\n",
       "      <th>confirmed</th>\n",
       "      <th>deaths</th>\n",
       "      <th>recovered</th>\n",
       "      <th>active</th>\n",
       "    </tr>\n",
       "  </thead>\n",
       "  <tbody>\n",
       "    <tr>\n",
       "      <th>3559015</th>\n",
       "      <td>Louisiana</td>\n",
       "      <td>US</td>\n",
       "      <td>2022-10-13</td>\n",
       "      <td>59545.0</td>\n",
       "      <td>805.0</td>\n",
       "      <td>NaN</td>\n",
       "      <td>NaN</td>\n",
       "    </tr>\n",
       "  </tbody>\n",
       "</table>\n",
       "</div>"
      ],
      "text/plain": [
       "        province_state country_region        date  confirmed  deaths  \\\n",
       "3559015      Louisiana             US  2022-10-13    59545.0   805.0   \n",
       "\n",
       "         recovered  active  \n",
       "3559015        NaN     NaN  "
      ]
     },
     "execution_count": 2038,
     "metadata": {},
     "output_type": "execute_result"
    }
   ],
   "source": [
    "# Menampilkan data acak dari dataset\n",
    "df.sample()"
   ]
  },
  {
   "cell_type": "code",
   "execution_count": 2039,
   "metadata": {},
   "outputs": [
    {
     "data": {
      "text/plain": [
       "province_state     185984\n",
       "country_region          1\n",
       "date                    0\n",
       "confirmed              19\n",
       "deaths                442\n",
       "recovered         2695961\n",
       "active            2704040\n",
       "dtype: int64"
      ]
     },
     "execution_count": 2039,
     "metadata": {},
     "output_type": "execute_result"
    }
   ],
   "source": [
    "# Menampilkan jumlah data kosong masing-masing kolom dari dataset \n",
    "df.isnull().sum()"
   ]
  },
  {
   "attachments": {},
   "cell_type": "markdown",
   "metadata": {},
   "source": [
    "# 4. Data Cleaning"
   ]
  },
  {
   "cell_type": "code",
   "execution_count": 2040,
   "metadata": {},
   "outputs": [
    {
     "data": {
      "text/html": [
       "<div>\n",
       "<style scoped>\n",
       "    .dataframe tbody tr th:only-of-type {\n",
       "        vertical-align: middle;\n",
       "    }\n",
       "\n",
       "    .dataframe tbody tr th {\n",
       "        vertical-align: top;\n",
       "    }\n",
       "\n",
       "    .dataframe thead th {\n",
       "        text-align: right;\n",
       "    }\n",
       "</style>\n",
       "<table border=\"1\" class=\"dataframe\">\n",
       "  <thead>\n",
       "    <tr style=\"text-align: right;\">\n",
       "      <th></th>\n",
       "      <th>province_state</th>\n",
       "      <th>country_region</th>\n",
       "      <th>date</th>\n",
       "      <th>confirmed</th>\n",
       "      <th>deaths</th>\n",
       "      <th>recovered</th>\n",
       "      <th>active</th>\n",
       "    </tr>\n",
       "  </thead>\n",
       "  <tbody>\n",
       "    <tr>\n",
       "      <th>0</th>\n",
       "      <td>Florida</td>\n",
       "      <td>US</td>\n",
       "      <td>2021-04-07</td>\n",
       "      <td>5240.0</td>\n",
       "      <td>136.0</td>\n",
       "      <td>NaN</td>\n",
       "      <td>NaN</td>\n",
       "    </tr>\n",
       "    <tr>\n",
       "      <th>1</th>\n",
       "      <td>Florida</td>\n",
       "      <td>US</td>\n",
       "      <td>2021-04-07</td>\n",
       "      <td>2697.0</td>\n",
       "      <td>45.0</td>\n",
       "      <td>NaN</td>\n",
       "      <td>NaN</td>\n",
       "    </tr>\n",
       "    <tr>\n",
       "      <th>2</th>\n",
       "      <td>Florida</td>\n",
       "      <td>US</td>\n",
       "      <td>2021-04-07</td>\n",
       "      <td>39322.0</td>\n",
       "      <td>732.0</td>\n",
       "      <td>NaN</td>\n",
       "      <td>NaN</td>\n",
       "    </tr>\n",
       "    <tr>\n",
       "      <th>3</th>\n",
       "      <td>Florida</td>\n",
       "      <td>US</td>\n",
       "      <td>2021-04-07</td>\n",
       "      <td>3268.0</td>\n",
       "      <td>55.0</td>\n",
       "      <td>NaN</td>\n",
       "      <td>NaN</td>\n",
       "    </tr>\n",
       "    <tr>\n",
       "      <th>4</th>\n",
       "      <td>Georgia</td>\n",
       "      <td>US</td>\n",
       "      <td>2021-04-07</td>\n",
       "      <td>2261.0</td>\n",
       "      <td>68.0</td>\n",
       "      <td>NaN</td>\n",
       "      <td>NaN</td>\n",
       "    </tr>\n",
       "    <tr>\n",
       "      <th>...</th>\n",
       "      <td>...</td>\n",
       "      <td>...</td>\n",
       "      <td>...</td>\n",
       "      <td>...</td>\n",
       "      <td>...</td>\n",
       "      <td>...</td>\n",
       "      <td>...</td>\n",
       "    </tr>\n",
       "    <tr>\n",
       "      <th>4131547</th>\n",
       "      <td>Louisiana</td>\n",
       "      <td>US</td>\n",
       "      <td>2020-05-17</td>\n",
       "      <td>84.0</td>\n",
       "      <td>2.0</td>\n",
       "      <td>0.0</td>\n",
       "      <td>82.0</td>\n",
       "    </tr>\n",
       "    <tr>\n",
       "      <th>4131548</th>\n",
       "      <td>Iowa</td>\n",
       "      <td>US</td>\n",
       "      <td>2020-05-17</td>\n",
       "      <td>18.0</td>\n",
       "      <td>0.0</td>\n",
       "      <td>0.0</td>\n",
       "      <td>18.0</td>\n",
       "    </tr>\n",
       "    <tr>\n",
       "      <th>4131549</th>\n",
       "      <td>Alabama</td>\n",
       "      <td>US</td>\n",
       "      <td>2020-05-17</td>\n",
       "      <td>34.0</td>\n",
       "      <td>1.0</td>\n",
       "      <td>0.0</td>\n",
       "      <td>33.0</td>\n",
       "    </tr>\n",
       "    <tr>\n",
       "      <th>4131550</th>\n",
       "      <td>Texas</td>\n",
       "      <td>US</td>\n",
       "      <td>2020-05-17</td>\n",
       "      <td>18.0</td>\n",
       "      <td>0.0</td>\n",
       "      <td>0.0</td>\n",
       "      <td>18.0</td>\n",
       "    </tr>\n",
       "    <tr>\n",
       "      <th>4131551</th>\n",
       "      <td>Iowa</td>\n",
       "      <td>US</td>\n",
       "      <td>2020-05-17</td>\n",
       "      <td>2215.0</td>\n",
       "      <td>16.0</td>\n",
       "      <td>0.0</td>\n",
       "      <td>2199.0</td>\n",
       "    </tr>\n",
       "  </tbody>\n",
       "</table>\n",
       "<p>4131552 rows × 7 columns</p>\n",
       "</div>"
      ],
      "text/plain": [
       "        province_state country_region        date  confirmed  deaths  \\\n",
       "0              Florida             US  2021-04-07     5240.0   136.0   \n",
       "1              Florida             US  2021-04-07     2697.0    45.0   \n",
       "2              Florida             US  2021-04-07    39322.0   732.0   \n",
       "3              Florida             US  2021-04-07     3268.0    55.0   \n",
       "4              Georgia             US  2021-04-07     2261.0    68.0   \n",
       "...                ...            ...         ...        ...     ...   \n",
       "4131547      Louisiana             US  2020-05-17       84.0     2.0   \n",
       "4131548           Iowa             US  2020-05-17       18.0     0.0   \n",
       "4131549        Alabama             US  2020-05-17       34.0     1.0   \n",
       "4131550          Texas             US  2020-05-17       18.0     0.0   \n",
       "4131551           Iowa             US  2020-05-17     2215.0    16.0   \n",
       "\n",
       "         recovered  active  \n",
       "0              NaN     NaN  \n",
       "1              NaN     NaN  \n",
       "2              NaN     NaN  \n",
       "3              NaN     NaN  \n",
       "4              NaN     NaN  \n",
       "...            ...     ...  \n",
       "4131547        0.0    82.0  \n",
       "4131548        0.0    18.0  \n",
       "4131549        0.0    33.0  \n",
       "4131550        0.0    18.0  \n",
       "4131551        0.0  2199.0  \n",
       "\n",
       "[4131552 rows x 7 columns]"
      ]
     },
     "execution_count": 2040,
     "metadata": {},
     "output_type": "execute_result"
    }
   ],
   "source": [
    "# Pembuatan variabel baru agar tidak merubah dataset asli\n",
    "covid_19 = df\n",
    "covid_19"
   ]
  },
  {
   "cell_type": "code",
   "execution_count": 2041,
   "metadata": {},
   "outputs": [
    {
     "data": {
      "text/html": [
       "<div>\n",
       "<style scoped>\n",
       "    .dataframe tbody tr th:only-of-type {\n",
       "        vertical-align: middle;\n",
       "    }\n",
       "\n",
       "    .dataframe tbody tr th {\n",
       "        vertical-align: top;\n",
       "    }\n",
       "\n",
       "    .dataframe thead th {\n",
       "        text-align: right;\n",
       "    }\n",
       "</style>\n",
       "<table border=\"1\" class=\"dataframe\">\n",
       "  <thead>\n",
       "    <tr style=\"text-align: right;\">\n",
       "      <th></th>\n",
       "      <th>province_state</th>\n",
       "      <th>country_region</th>\n",
       "      <th>date</th>\n",
       "      <th>confirmed</th>\n",
       "      <th>deaths</th>\n",
       "      <th>recovered</th>\n",
       "      <th>active</th>\n",
       "    </tr>\n",
       "  </thead>\n",
       "  <tbody>\n",
       "    <tr>\n",
       "      <th>0</th>\n",
       "      <td>Florida</td>\n",
       "      <td>US</td>\n",
       "      <td>2021-04-07</td>\n",
       "      <td>5240.0</td>\n",
       "      <td>136.0</td>\n",
       "      <td>0.0</td>\n",
       "      <td>0.0</td>\n",
       "    </tr>\n",
       "    <tr>\n",
       "      <th>1</th>\n",
       "      <td>Florida</td>\n",
       "      <td>US</td>\n",
       "      <td>2021-04-07</td>\n",
       "      <td>2697.0</td>\n",
       "      <td>45.0</td>\n",
       "      <td>0.0</td>\n",
       "      <td>0.0</td>\n",
       "    </tr>\n",
       "    <tr>\n",
       "      <th>2</th>\n",
       "      <td>Florida</td>\n",
       "      <td>US</td>\n",
       "      <td>2021-04-07</td>\n",
       "      <td>39322.0</td>\n",
       "      <td>732.0</td>\n",
       "      <td>0.0</td>\n",
       "      <td>0.0</td>\n",
       "    </tr>\n",
       "    <tr>\n",
       "      <th>3</th>\n",
       "      <td>Florida</td>\n",
       "      <td>US</td>\n",
       "      <td>2021-04-07</td>\n",
       "      <td>3268.0</td>\n",
       "      <td>55.0</td>\n",
       "      <td>0.0</td>\n",
       "      <td>0.0</td>\n",
       "    </tr>\n",
       "    <tr>\n",
       "      <th>4</th>\n",
       "      <td>Georgia</td>\n",
       "      <td>US</td>\n",
       "      <td>2021-04-07</td>\n",
       "      <td>2261.0</td>\n",
       "      <td>68.0</td>\n",
       "      <td>0.0</td>\n",
       "      <td>0.0</td>\n",
       "    </tr>\n",
       "    <tr>\n",
       "      <th>...</th>\n",
       "      <td>...</td>\n",
       "      <td>...</td>\n",
       "      <td>...</td>\n",
       "      <td>...</td>\n",
       "      <td>...</td>\n",
       "      <td>...</td>\n",
       "      <td>...</td>\n",
       "    </tr>\n",
       "    <tr>\n",
       "      <th>4131547</th>\n",
       "      <td>Louisiana</td>\n",
       "      <td>US</td>\n",
       "      <td>2020-05-17</td>\n",
       "      <td>84.0</td>\n",
       "      <td>2.0</td>\n",
       "      <td>0.0</td>\n",
       "      <td>82.0</td>\n",
       "    </tr>\n",
       "    <tr>\n",
       "      <th>4131548</th>\n",
       "      <td>Iowa</td>\n",
       "      <td>US</td>\n",
       "      <td>2020-05-17</td>\n",
       "      <td>18.0</td>\n",
       "      <td>0.0</td>\n",
       "      <td>0.0</td>\n",
       "      <td>18.0</td>\n",
       "    </tr>\n",
       "    <tr>\n",
       "      <th>4131549</th>\n",
       "      <td>Alabama</td>\n",
       "      <td>US</td>\n",
       "      <td>2020-05-17</td>\n",
       "      <td>34.0</td>\n",
       "      <td>1.0</td>\n",
       "      <td>0.0</td>\n",
       "      <td>33.0</td>\n",
       "    </tr>\n",
       "    <tr>\n",
       "      <th>4131550</th>\n",
       "      <td>Texas</td>\n",
       "      <td>US</td>\n",
       "      <td>2020-05-17</td>\n",
       "      <td>18.0</td>\n",
       "      <td>0.0</td>\n",
       "      <td>0.0</td>\n",
       "      <td>18.0</td>\n",
       "    </tr>\n",
       "    <tr>\n",
       "      <th>4131551</th>\n",
       "      <td>Iowa</td>\n",
       "      <td>US</td>\n",
       "      <td>2020-05-17</td>\n",
       "      <td>2215.0</td>\n",
       "      <td>16.0</td>\n",
       "      <td>0.0</td>\n",
       "      <td>2199.0</td>\n",
       "    </tr>\n",
       "  </tbody>\n",
       "</table>\n",
       "<p>4131552 rows × 7 columns</p>\n",
       "</div>"
      ],
      "text/plain": [
       "        province_state country_region        date  confirmed  deaths  \\\n",
       "0              Florida             US  2021-04-07     5240.0   136.0   \n",
       "1              Florida             US  2021-04-07     2697.0    45.0   \n",
       "2              Florida             US  2021-04-07    39322.0   732.0   \n",
       "3              Florida             US  2021-04-07     3268.0    55.0   \n",
       "4              Georgia             US  2021-04-07     2261.0    68.0   \n",
       "...                ...            ...         ...        ...     ...   \n",
       "4131547      Louisiana             US  2020-05-17       84.0     2.0   \n",
       "4131548           Iowa             US  2020-05-17       18.0     0.0   \n",
       "4131549        Alabama             US  2020-05-17       34.0     1.0   \n",
       "4131550          Texas             US  2020-05-17       18.0     0.0   \n",
       "4131551           Iowa             US  2020-05-17     2215.0    16.0   \n",
       "\n",
       "         recovered  active  \n",
       "0              0.0     0.0  \n",
       "1              0.0     0.0  \n",
       "2              0.0     0.0  \n",
       "3              0.0     0.0  \n",
       "4              0.0     0.0  \n",
       "...            ...     ...  \n",
       "4131547        0.0    82.0  \n",
       "4131548        0.0    18.0  \n",
       "4131549        0.0    33.0  \n",
       "4131550        0.0    18.0  \n",
       "4131551        0.0  2199.0  \n",
       "\n",
       "[4131552 rows x 7 columns]"
      ]
     },
     "execution_count": 2041,
     "metadata": {},
     "output_type": "execute_result"
    }
   ],
   "source": [
    "# Mengisi data NaN dengan value 0\n",
    "covid_19.fillna(0)"
   ]
  },
  {
   "cell_type": "code",
   "execution_count": 2042,
   "metadata": {},
   "outputs": [],
   "source": [
    "# Merubah kolom date menjadi tipe datetime\n",
    "covid_19['date'] = pd.to_datetime(covid_19['date'])"
   ]
  },
  {
   "cell_type": "code",
   "execution_count": 2043,
   "metadata": {},
   "outputs": [
    {
     "data": {
      "text/html": [
       "<div>\n",
       "<style scoped>\n",
       "    .dataframe tbody tr th:only-of-type {\n",
       "        vertical-align: middle;\n",
       "    }\n",
       "\n",
       "    .dataframe tbody tr th {\n",
       "        vertical-align: top;\n",
       "    }\n",
       "\n",
       "    .dataframe thead th {\n",
       "        text-align: right;\n",
       "    }\n",
       "</style>\n",
       "<table border=\"1\" class=\"dataframe\">\n",
       "  <thead>\n",
       "    <tr style=\"text-align: right;\">\n",
       "      <th></th>\n",
       "      <th>province_state</th>\n",
       "      <th>country_region</th>\n",
       "      <th>date</th>\n",
       "      <th>confirmed</th>\n",
       "      <th>deaths</th>\n",
       "      <th>recovered</th>\n",
       "      <th>active</th>\n",
       "      <th>Persen</th>\n",
       "    </tr>\n",
       "  </thead>\n",
       "  <tbody>\n",
       "    <tr>\n",
       "      <th>0</th>\n",
       "      <td>Florida</td>\n",
       "      <td>US</td>\n",
       "      <td>2021-04-07</td>\n",
       "      <td>5240.0</td>\n",
       "      <td>136.0</td>\n",
       "      <td>NaN</td>\n",
       "      <td>NaN</td>\n",
       "      <td>2.595420</td>\n",
       "    </tr>\n",
       "    <tr>\n",
       "      <th>1</th>\n",
       "      <td>Florida</td>\n",
       "      <td>US</td>\n",
       "      <td>2021-04-07</td>\n",
       "      <td>2697.0</td>\n",
       "      <td>45.0</td>\n",
       "      <td>NaN</td>\n",
       "      <td>NaN</td>\n",
       "      <td>1.668521</td>\n",
       "    </tr>\n",
       "    <tr>\n",
       "      <th>2</th>\n",
       "      <td>Florida</td>\n",
       "      <td>US</td>\n",
       "      <td>2021-04-07</td>\n",
       "      <td>39322.0</td>\n",
       "      <td>732.0</td>\n",
       "      <td>NaN</td>\n",
       "      <td>NaN</td>\n",
       "      <td>1.861553</td>\n",
       "    </tr>\n",
       "    <tr>\n",
       "      <th>3</th>\n",
       "      <td>Florida</td>\n",
       "      <td>US</td>\n",
       "      <td>2021-04-07</td>\n",
       "      <td>3268.0</td>\n",
       "      <td>55.0</td>\n",
       "      <td>NaN</td>\n",
       "      <td>NaN</td>\n",
       "      <td>1.682987</td>\n",
       "    </tr>\n",
       "    <tr>\n",
       "      <th>4</th>\n",
       "      <td>Georgia</td>\n",
       "      <td>US</td>\n",
       "      <td>2021-04-07</td>\n",
       "      <td>2261.0</td>\n",
       "      <td>68.0</td>\n",
       "      <td>NaN</td>\n",
       "      <td>NaN</td>\n",
       "      <td>3.007519</td>\n",
       "    </tr>\n",
       "    <tr>\n",
       "      <th>...</th>\n",
       "      <td>...</td>\n",
       "      <td>...</td>\n",
       "      <td>...</td>\n",
       "      <td>...</td>\n",
       "      <td>...</td>\n",
       "      <td>...</td>\n",
       "      <td>...</td>\n",
       "      <td>...</td>\n",
       "    </tr>\n",
       "    <tr>\n",
       "      <th>4131547</th>\n",
       "      <td>Louisiana</td>\n",
       "      <td>US</td>\n",
       "      <td>2020-05-17</td>\n",
       "      <td>84.0</td>\n",
       "      <td>2.0</td>\n",
       "      <td>0.0</td>\n",
       "      <td>82.0</td>\n",
       "      <td>2.380952</td>\n",
       "    </tr>\n",
       "    <tr>\n",
       "      <th>4131548</th>\n",
       "      <td>Iowa</td>\n",
       "      <td>US</td>\n",
       "      <td>2020-05-17</td>\n",
       "      <td>18.0</td>\n",
       "      <td>0.0</td>\n",
       "      <td>0.0</td>\n",
       "      <td>18.0</td>\n",
       "      <td>0.000000</td>\n",
       "    </tr>\n",
       "    <tr>\n",
       "      <th>4131549</th>\n",
       "      <td>Alabama</td>\n",
       "      <td>US</td>\n",
       "      <td>2020-05-17</td>\n",
       "      <td>34.0</td>\n",
       "      <td>1.0</td>\n",
       "      <td>0.0</td>\n",
       "      <td>33.0</td>\n",
       "      <td>2.941176</td>\n",
       "    </tr>\n",
       "    <tr>\n",
       "      <th>4131550</th>\n",
       "      <td>Texas</td>\n",
       "      <td>US</td>\n",
       "      <td>2020-05-17</td>\n",
       "      <td>18.0</td>\n",
       "      <td>0.0</td>\n",
       "      <td>0.0</td>\n",
       "      <td>18.0</td>\n",
       "      <td>0.000000</td>\n",
       "    </tr>\n",
       "    <tr>\n",
       "      <th>4131551</th>\n",
       "      <td>Iowa</td>\n",
       "      <td>US</td>\n",
       "      <td>2020-05-17</td>\n",
       "      <td>2215.0</td>\n",
       "      <td>16.0</td>\n",
       "      <td>0.0</td>\n",
       "      <td>2199.0</td>\n",
       "      <td>0.722348</td>\n",
       "    </tr>\n",
       "  </tbody>\n",
       "</table>\n",
       "<p>4131552 rows × 8 columns</p>\n",
       "</div>"
      ],
      "text/plain": [
       "        province_state country_region       date  confirmed  deaths  \\\n",
       "0              Florida             US 2021-04-07     5240.0   136.0   \n",
       "1              Florida             US 2021-04-07     2697.0    45.0   \n",
       "2              Florida             US 2021-04-07    39322.0   732.0   \n",
       "3              Florida             US 2021-04-07     3268.0    55.0   \n",
       "4              Georgia             US 2021-04-07     2261.0    68.0   \n",
       "...                ...            ...        ...        ...     ...   \n",
       "4131547      Louisiana             US 2020-05-17       84.0     2.0   \n",
       "4131548           Iowa             US 2020-05-17       18.0     0.0   \n",
       "4131549        Alabama             US 2020-05-17       34.0     1.0   \n",
       "4131550          Texas             US 2020-05-17       18.0     0.0   \n",
       "4131551           Iowa             US 2020-05-17     2215.0    16.0   \n",
       "\n",
       "         recovered  active    Persen  \n",
       "0              NaN     NaN  2.595420  \n",
       "1              NaN     NaN  1.668521  \n",
       "2              NaN     NaN  1.861553  \n",
       "3              NaN     NaN  1.682987  \n",
       "4              NaN     NaN  3.007519  \n",
       "...            ...     ...       ...  \n",
       "4131547        0.0    82.0  2.380952  \n",
       "4131548        0.0    18.0  0.000000  \n",
       "4131549        0.0    33.0  2.941176  \n",
       "4131550        0.0    18.0  0.000000  \n",
       "4131551        0.0  2199.0  0.722348  \n",
       "\n",
       "[4131552 rows x 8 columns]"
      ]
     },
     "execution_count": 2043,
     "metadata": {},
     "output_type": "execute_result"
    }
   ],
   "source": [
    "# Pembuatan kolom baru yakni persentase meninggal\n",
    "covid_19['Persen'] = covid_19['deaths'] / covid_19['confirmed'] * 100\n",
    "covid_19"
   ]
  },
  {
   "cell_type": "code",
   "execution_count": 2044,
   "metadata": {},
   "outputs": [
    {
     "data": {
      "text/html": [
       "<div>\n",
       "<style scoped>\n",
       "    .dataframe tbody tr th:only-of-type {\n",
       "        vertical-align: middle;\n",
       "    }\n",
       "\n",
       "    .dataframe tbody tr th {\n",
       "        vertical-align: top;\n",
       "    }\n",
       "\n",
       "    .dataframe thead th {\n",
       "        text-align: right;\n",
       "    }\n",
       "</style>\n",
       "<table border=\"1\" class=\"dataframe\">\n",
       "  <thead>\n",
       "    <tr style=\"text-align: right;\">\n",
       "      <th></th>\n",
       "      <th>Provinsi</th>\n",
       "      <th>Negara</th>\n",
       "      <th>Tanggal</th>\n",
       "      <th>Terjangkit</th>\n",
       "      <th>Meninggal</th>\n",
       "      <th>Sembuh</th>\n",
       "      <th>Aktif</th>\n",
       "      <th>Persen</th>\n",
       "    </tr>\n",
       "  </thead>\n",
       "  <tbody>\n",
       "    <tr>\n",
       "      <th>0</th>\n",
       "      <td>Florida</td>\n",
       "      <td>US</td>\n",
       "      <td>2021-04-07</td>\n",
       "      <td>5240.0</td>\n",
       "      <td>136.0</td>\n",
       "      <td>NaN</td>\n",
       "      <td>NaN</td>\n",
       "      <td>2.595420</td>\n",
       "    </tr>\n",
       "    <tr>\n",
       "      <th>1</th>\n",
       "      <td>Florida</td>\n",
       "      <td>US</td>\n",
       "      <td>2021-04-07</td>\n",
       "      <td>2697.0</td>\n",
       "      <td>45.0</td>\n",
       "      <td>NaN</td>\n",
       "      <td>NaN</td>\n",
       "      <td>1.668521</td>\n",
       "    </tr>\n",
       "    <tr>\n",
       "      <th>2</th>\n",
       "      <td>Florida</td>\n",
       "      <td>US</td>\n",
       "      <td>2021-04-07</td>\n",
       "      <td>39322.0</td>\n",
       "      <td>732.0</td>\n",
       "      <td>NaN</td>\n",
       "      <td>NaN</td>\n",
       "      <td>1.861553</td>\n",
       "    </tr>\n",
       "    <tr>\n",
       "      <th>3</th>\n",
       "      <td>Florida</td>\n",
       "      <td>US</td>\n",
       "      <td>2021-04-07</td>\n",
       "      <td>3268.0</td>\n",
       "      <td>55.0</td>\n",
       "      <td>NaN</td>\n",
       "      <td>NaN</td>\n",
       "      <td>1.682987</td>\n",
       "    </tr>\n",
       "    <tr>\n",
       "      <th>4</th>\n",
       "      <td>Georgia</td>\n",
       "      <td>US</td>\n",
       "      <td>2021-04-07</td>\n",
       "      <td>2261.0</td>\n",
       "      <td>68.0</td>\n",
       "      <td>NaN</td>\n",
       "      <td>NaN</td>\n",
       "      <td>3.007519</td>\n",
       "    </tr>\n",
       "    <tr>\n",
       "      <th>...</th>\n",
       "      <td>...</td>\n",
       "      <td>...</td>\n",
       "      <td>...</td>\n",
       "      <td>...</td>\n",
       "      <td>...</td>\n",
       "      <td>...</td>\n",
       "      <td>...</td>\n",
       "      <td>...</td>\n",
       "    </tr>\n",
       "    <tr>\n",
       "      <th>4131547</th>\n",
       "      <td>Louisiana</td>\n",
       "      <td>US</td>\n",
       "      <td>2020-05-17</td>\n",
       "      <td>84.0</td>\n",
       "      <td>2.0</td>\n",
       "      <td>0.0</td>\n",
       "      <td>82.0</td>\n",
       "      <td>2.380952</td>\n",
       "    </tr>\n",
       "    <tr>\n",
       "      <th>4131548</th>\n",
       "      <td>Iowa</td>\n",
       "      <td>US</td>\n",
       "      <td>2020-05-17</td>\n",
       "      <td>18.0</td>\n",
       "      <td>0.0</td>\n",
       "      <td>0.0</td>\n",
       "      <td>18.0</td>\n",
       "      <td>0.000000</td>\n",
       "    </tr>\n",
       "    <tr>\n",
       "      <th>4131549</th>\n",
       "      <td>Alabama</td>\n",
       "      <td>US</td>\n",
       "      <td>2020-05-17</td>\n",
       "      <td>34.0</td>\n",
       "      <td>1.0</td>\n",
       "      <td>0.0</td>\n",
       "      <td>33.0</td>\n",
       "      <td>2.941176</td>\n",
       "    </tr>\n",
       "    <tr>\n",
       "      <th>4131550</th>\n",
       "      <td>Texas</td>\n",
       "      <td>US</td>\n",
       "      <td>2020-05-17</td>\n",
       "      <td>18.0</td>\n",
       "      <td>0.0</td>\n",
       "      <td>0.0</td>\n",
       "      <td>18.0</td>\n",
       "      <td>0.000000</td>\n",
       "    </tr>\n",
       "    <tr>\n",
       "      <th>4131551</th>\n",
       "      <td>Iowa</td>\n",
       "      <td>US</td>\n",
       "      <td>2020-05-17</td>\n",
       "      <td>2215.0</td>\n",
       "      <td>16.0</td>\n",
       "      <td>0.0</td>\n",
       "      <td>2199.0</td>\n",
       "      <td>0.722348</td>\n",
       "    </tr>\n",
       "  </tbody>\n",
       "</table>\n",
       "<p>4131552 rows × 8 columns</p>\n",
       "</div>"
      ],
      "text/plain": [
       "          Provinsi Negara    Tanggal  Terjangkit  Meninggal  Sembuh   Aktif  \\\n",
       "0          Florida     US 2021-04-07      5240.0      136.0     NaN     NaN   \n",
       "1          Florida     US 2021-04-07      2697.0       45.0     NaN     NaN   \n",
       "2          Florida     US 2021-04-07     39322.0      732.0     NaN     NaN   \n",
       "3          Florida     US 2021-04-07      3268.0       55.0     NaN     NaN   \n",
       "4          Georgia     US 2021-04-07      2261.0       68.0     NaN     NaN   \n",
       "...            ...    ...        ...         ...        ...     ...     ...   \n",
       "4131547  Louisiana     US 2020-05-17        84.0        2.0     0.0    82.0   \n",
       "4131548       Iowa     US 2020-05-17        18.0        0.0     0.0    18.0   \n",
       "4131549    Alabama     US 2020-05-17        34.0        1.0     0.0    33.0   \n",
       "4131550      Texas     US 2020-05-17        18.0        0.0     0.0    18.0   \n",
       "4131551       Iowa     US 2020-05-17      2215.0       16.0     0.0  2199.0   \n",
       "\n",
       "           Persen  \n",
       "0        2.595420  \n",
       "1        1.668521  \n",
       "2        1.861553  \n",
       "3        1.682987  \n",
       "4        3.007519  \n",
       "...           ...  \n",
       "4131547  2.380952  \n",
       "4131548  0.000000  \n",
       "4131549  2.941176  \n",
       "4131550  0.000000  \n",
       "4131551  0.722348  \n",
       "\n",
       "[4131552 rows x 8 columns]"
      ]
     },
     "execution_count": 2044,
     "metadata": {},
     "output_type": "execute_result"
    }
   ],
   "source": [
    "# Penggantian nama kolom menjadi Bahasa Indonesia\n",
    "covid_19.rename(columns={\"province_state\": \"Provinsi\",\n",
    "                    \"country_region\" : \"Negara\",\n",
    "                    \"date\" : \"Tanggal\",\n",
    "                    \"confirmed\" : \"Terjangkit\",\n",
    "                    \"deaths\": \"Meninggal\",\n",
    "                    \"recovered\": \"Sembuh\",\n",
    "                    \"active\": \"Aktif\"\n",
    "                    }, inplace=True)\n",
    "\n",
    "covid_19"
   ]
  },
  {
   "attachments": {},
   "cell_type": "markdown",
   "metadata": {},
   "source": [
    "# 5. Eksplorasi Data"
   ]
  },
  {
   "cell_type": "code",
   "execution_count": 2045,
   "metadata": {},
   "outputs": [
    {
     "data": {
      "text/html": [
       "<div>\n",
       "<style scoped>\n",
       "    .dataframe tbody tr th:only-of-type {\n",
       "        vertical-align: middle;\n",
       "    }\n",
       "\n",
       "    .dataframe tbody tr th {\n",
       "        vertical-align: top;\n",
       "    }\n",
       "\n",
       "    .dataframe thead th {\n",
       "        text-align: right;\n",
       "    }\n",
       "</style>\n",
       "<table border=\"1\" class=\"dataframe\">\n",
       "  <thead>\n",
       "    <tr style=\"text-align: right;\">\n",
       "      <th></th>\n",
       "      <th>Negara</th>\n",
       "      <th>Terjangkit</th>\n",
       "      <th>Meninggal</th>\n",
       "      <th>Sembuh</th>\n",
       "      <th>Aktif</th>\n",
       "      <th>Persen</th>\n",
       "    </tr>\n",
       "  </thead>\n",
       "  <tbody>\n",
       "    <tr>\n",
       "      <th>0</th>\n",
       "      <td>US</td>\n",
       "      <td>5240.0</td>\n",
       "      <td>136.0</td>\n",
       "      <td>NaN</td>\n",
       "      <td>NaN</td>\n",
       "      <td>2.595420</td>\n",
       "    </tr>\n",
       "    <tr>\n",
       "      <th>1</th>\n",
       "      <td>US</td>\n",
       "      <td>2697.0</td>\n",
       "      <td>45.0</td>\n",
       "      <td>NaN</td>\n",
       "      <td>NaN</td>\n",
       "      <td>1.668521</td>\n",
       "    </tr>\n",
       "    <tr>\n",
       "      <th>2</th>\n",
       "      <td>US</td>\n",
       "      <td>39322.0</td>\n",
       "      <td>732.0</td>\n",
       "      <td>NaN</td>\n",
       "      <td>NaN</td>\n",
       "      <td>1.861553</td>\n",
       "    </tr>\n",
       "    <tr>\n",
       "      <th>3</th>\n",
       "      <td>US</td>\n",
       "      <td>3268.0</td>\n",
       "      <td>55.0</td>\n",
       "      <td>NaN</td>\n",
       "      <td>NaN</td>\n",
       "      <td>1.682987</td>\n",
       "    </tr>\n",
       "    <tr>\n",
       "      <th>4</th>\n",
       "      <td>US</td>\n",
       "      <td>2261.0</td>\n",
       "      <td>68.0</td>\n",
       "      <td>NaN</td>\n",
       "      <td>NaN</td>\n",
       "      <td>3.007519</td>\n",
       "    </tr>\n",
       "    <tr>\n",
       "      <th>...</th>\n",
       "      <td>...</td>\n",
       "      <td>...</td>\n",
       "      <td>...</td>\n",
       "      <td>...</td>\n",
       "      <td>...</td>\n",
       "      <td>...</td>\n",
       "    </tr>\n",
       "    <tr>\n",
       "      <th>4131547</th>\n",
       "      <td>US</td>\n",
       "      <td>84.0</td>\n",
       "      <td>2.0</td>\n",
       "      <td>0.0</td>\n",
       "      <td>82.0</td>\n",
       "      <td>2.380952</td>\n",
       "    </tr>\n",
       "    <tr>\n",
       "      <th>4131548</th>\n",
       "      <td>US</td>\n",
       "      <td>18.0</td>\n",
       "      <td>0.0</td>\n",
       "      <td>0.0</td>\n",
       "      <td>18.0</td>\n",
       "      <td>0.000000</td>\n",
       "    </tr>\n",
       "    <tr>\n",
       "      <th>4131549</th>\n",
       "      <td>US</td>\n",
       "      <td>34.0</td>\n",
       "      <td>1.0</td>\n",
       "      <td>0.0</td>\n",
       "      <td>33.0</td>\n",
       "      <td>2.941176</td>\n",
       "    </tr>\n",
       "    <tr>\n",
       "      <th>4131550</th>\n",
       "      <td>US</td>\n",
       "      <td>18.0</td>\n",
       "      <td>0.0</td>\n",
       "      <td>0.0</td>\n",
       "      <td>18.0</td>\n",
       "      <td>0.000000</td>\n",
       "    </tr>\n",
       "    <tr>\n",
       "      <th>4131551</th>\n",
       "      <td>US</td>\n",
       "      <td>2215.0</td>\n",
       "      <td>16.0</td>\n",
       "      <td>0.0</td>\n",
       "      <td>2199.0</td>\n",
       "      <td>0.722348</td>\n",
       "    </tr>\n",
       "  </tbody>\n",
       "</table>\n",
       "<p>4131552 rows × 6 columns</p>\n",
       "</div>"
      ],
      "text/plain": [
       "        Negara  Terjangkit  Meninggal  Sembuh   Aktif    Persen\n",
       "0           US      5240.0      136.0     NaN     NaN  2.595420\n",
       "1           US      2697.0       45.0     NaN     NaN  1.668521\n",
       "2           US     39322.0      732.0     NaN     NaN  1.861553\n",
       "3           US      3268.0       55.0     NaN     NaN  1.682987\n",
       "4           US      2261.0       68.0     NaN     NaN  3.007519\n",
       "...        ...         ...        ...     ...     ...       ...\n",
       "4131547     US        84.0        2.0     0.0    82.0  2.380952\n",
       "4131548     US        18.0        0.0     0.0    18.0  0.000000\n",
       "4131549     US        34.0        1.0     0.0    33.0  2.941176\n",
       "4131550     US        18.0        0.0     0.0    18.0  0.000000\n",
       "4131551     US      2215.0       16.0     0.0  2199.0  0.722348\n",
       "\n",
       "[4131552 rows x 6 columns]"
      ]
     },
     "execution_count": 2045,
     "metadata": {},
     "output_type": "execute_result"
    }
   ],
   "source": [
    "# Pembuatan variable baru untuk mempermudah visualisasi\n",
    "country = covid_19.drop(columns=[\"Provinsi\", 'Tanggal'])\n",
    "country"
   ]
  },
  {
   "cell_type": "code",
   "execution_count": 2046,
   "metadata": {},
   "outputs": [
    {
     "data": {
      "text/plain": [
       "<pandas.core.groupby.generic.DataFrameGroupBy object at 0x00000248AE87E760>"
      ]
     },
     "execution_count": 2046,
     "metadata": {},
     "output_type": "execute_result"
    }
   ],
   "source": [
    "# Grouping kolom Negara untuk mendapatkan data total per negara alih-alih harian\n",
    "country = covid_19.groupby('Negara', sort=True)\n",
    "country"
   ]
  },
  {
   "cell_type": "code",
   "execution_count": 2047,
   "metadata": {},
   "outputs": [
    {
     "name": "stderr",
     "output_type": "stream",
     "text": [
      "C:\\Users\\kaboe\\AppData\\Local\\Temp\\ipykernel_9344\\3298760105.py:2: FutureWarning: The default value of numeric_only in DataFrameGroupBy.sum is deprecated. In a future version, numeric_only will default to False. Either specify numeric_only or select only columns which should be valid for the function.\n",
      "  country = country.sum()\n"
     ]
    },
    {
     "data": {
      "text/html": [
       "<div>\n",
       "<style scoped>\n",
       "    .dataframe tbody tr th:only-of-type {\n",
       "        vertical-align: middle;\n",
       "    }\n",
       "\n",
       "    .dataframe tbody tr th {\n",
       "        vertical-align: top;\n",
       "    }\n",
       "\n",
       "    .dataframe thead th {\n",
       "        text-align: right;\n",
       "    }\n",
       "</style>\n",
       "<table border=\"1\" class=\"dataframe\">\n",
       "  <thead>\n",
       "    <tr style=\"text-align: right;\">\n",
       "      <th></th>\n",
       "      <th>Terjangkit</th>\n",
       "      <th>Meninggal</th>\n",
       "      <th>Sembuh</th>\n",
       "      <th>Aktif</th>\n",
       "      <th>Persen</th>\n",
       "    </tr>\n",
       "    <tr>\n",
       "      <th>Negara</th>\n",
       "      <th></th>\n",
       "      <th></th>\n",
       "      <th></th>\n",
       "      <th></th>\n",
       "      <th></th>\n",
       "    </tr>\n",
       "  </thead>\n",
       "  <tbody>\n",
       "    <tr>\n",
       "      <th>Azerbaijan</th>\n",
       "      <td>1.0</td>\n",
       "      <td>0.0</td>\n",
       "      <td>0.0</td>\n",
       "      <td>0.0</td>\n",
       "      <td>0.000000</td>\n",
       "    </tr>\n",
       "    <tr>\n",
       "      <th>Afghanistan</th>\n",
       "      <td>123035440.0</td>\n",
       "      <td>5159337.0</td>\n",
       "      <td>18289621.0</td>\n",
       "      <td>5585812.0</td>\n",
       "      <td>4199.665660</td>\n",
       "    </tr>\n",
       "    <tr>\n",
       "      <th>Albania</th>\n",
       "      <td>174475186.0</td>\n",
       "      <td>2366644.0</td>\n",
       "      <td>22652652.0</td>\n",
       "      <td>5460191.0</td>\n",
       "      <td>1991.111061</td>\n",
       "    </tr>\n",
       "    <tr>\n",
       "      <th>Algeria</th>\n",
       "      <td>173784296.0</td>\n",
       "      <td>4674202.0</td>\n",
       "      <td>25670233.0</td>\n",
       "      <td>10646044.0</td>\n",
       "      <td>3689.009182</td>\n",
       "    </tr>\n",
       "    <tr>\n",
       "      <th>Andorra</th>\n",
       "      <td>22967561.0</td>\n",
       "      <td>121745.0</td>\n",
       "      <td>3085649.0</td>\n",
       "      <td>196668.0</td>\n",
       "      <td>1594.753446</td>\n",
       "    </tr>\n",
       "    <tr>\n",
       "      <th>...</th>\n",
       "      <td>...</td>\n",
       "      <td>...</td>\n",
       "      <td>...</td>\n",
       "      <td>...</td>\n",
       "      <td>...</td>\n",
       "    </tr>\n",
       "    <tr>\n",
       "      <th>Winter Olympics 2022</th>\n",
       "      <td>193377.0</td>\n",
       "      <td>0.0</td>\n",
       "      <td>0.0</td>\n",
       "      <td>0.0</td>\n",
       "      <td>0.000000</td>\n",
       "    </tr>\n",
       "    <tr>\n",
       "      <th>Yemen</th>\n",
       "      <td>7487425.0</td>\n",
       "      <td>1444498.0</td>\n",
       "      <td>774885.0</td>\n",
       "      <td>324218.0</td>\n",
       "      <td>21672.749800</td>\n",
       "    </tr>\n",
       "    <tr>\n",
       "      <th>Zambia</th>\n",
       "      <td>184648034.0</td>\n",
       "      <td>2497957.0</td>\n",
       "      <td>21852796.0</td>\n",
       "      <td>1478591.0</td>\n",
       "      <td>1662.973969</td>\n",
       "    </tr>\n",
       "    <tr>\n",
       "      <th>Zimbabwe</th>\n",
       "      <td>131686285.0</td>\n",
       "      <td>3273837.0</td>\n",
       "      <td>8779035.0</td>\n",
       "      <td>1571595.0</td>\n",
       "      <td>3617.761825</td>\n",
       "    </tr>\n",
       "    <tr>\n",
       "      <th>occupied Palestinian territory</th>\n",
       "      <td>25.0</td>\n",
       "      <td>0.0</td>\n",
       "      <td>0.0</td>\n",
       "      <td>0.0</td>\n",
       "      <td>0.000000</td>\n",
       "    </tr>\n",
       "  </tbody>\n",
       "</table>\n",
       "<p>252 rows × 5 columns</p>\n",
       "</div>"
      ],
      "text/plain": [
       "                                 Terjangkit  Meninggal      Sembuh  \\\n",
       "Negara                                                               \n",
       " Azerbaijan                             1.0        0.0         0.0   \n",
       "Afghanistan                     123035440.0  5159337.0  18289621.0   \n",
       "Albania                         174475186.0  2366644.0  22652652.0   \n",
       "Algeria                         173784296.0  4674202.0  25670233.0   \n",
       "Andorra                          22967561.0   121745.0   3085649.0   \n",
       "...                                     ...        ...         ...   \n",
       "Winter Olympics 2022               193377.0        0.0         0.0   \n",
       "Yemen                             7487425.0  1444498.0    774885.0   \n",
       "Zambia                          184648034.0  2497957.0  21852796.0   \n",
       "Zimbabwe                        131686285.0  3273837.0   8779035.0   \n",
       "occupied Palestinian territory         25.0        0.0         0.0   \n",
       "\n",
       "                                     Aktif        Persen  \n",
       "Negara                                                    \n",
       " Azerbaijan                            0.0      0.000000  \n",
       "Afghanistan                      5585812.0   4199.665660  \n",
       "Albania                          5460191.0   1991.111061  \n",
       "Algeria                         10646044.0   3689.009182  \n",
       "Andorra                           196668.0   1594.753446  \n",
       "...                                    ...           ...  \n",
       "Winter Olympics 2022                   0.0      0.000000  \n",
       "Yemen                             324218.0  21672.749800  \n",
       "Zambia                           1478591.0   1662.973969  \n",
       "Zimbabwe                         1571595.0   3617.761825  \n",
       "occupied Palestinian territory         0.0      0.000000  \n",
       "\n",
       "[252 rows x 5 columns]"
      ]
     },
     "execution_count": 2047,
     "metadata": {},
     "output_type": "execute_result"
    }
   ],
   "source": [
    "# Penjumlahan value confirmed, deaths, recovered, dan active\n",
    "country = country.sum()\n",
    "country"
   ]
  },
  {
   "cell_type": "code",
   "execution_count": 2048,
   "metadata": {},
   "outputs": [
    {
     "data": {
      "text/html": [
       "<div>\n",
       "<style scoped>\n",
       "    .dataframe tbody tr th:only-of-type {\n",
       "        vertical-align: middle;\n",
       "    }\n",
       "\n",
       "    .dataframe tbody tr th {\n",
       "        vertical-align: top;\n",
       "    }\n",
       "\n",
       "    .dataframe thead th {\n",
       "        text-align: right;\n",
       "    }\n",
       "</style>\n",
       "<table border=\"1\" class=\"dataframe\">\n",
       "  <thead>\n",
       "    <tr style=\"text-align: right;\">\n",
       "      <th></th>\n",
       "      <th>Provinsi</th>\n",
       "      <th>Terjangkit</th>\n",
       "      <th>Meninggal</th>\n",
       "      <th>Sembuh</th>\n",
       "      <th>Aktif</th>\n",
       "      <th>Persen</th>\n",
       "    </tr>\n",
       "  </thead>\n",
       "  <tbody>\n",
       "    <tr>\n",
       "      <th>0</th>\n",
       "      <td>Florida</td>\n",
       "      <td>5240.0</td>\n",
       "      <td>136.0</td>\n",
       "      <td>NaN</td>\n",
       "      <td>NaN</td>\n",
       "      <td>2.595420</td>\n",
       "    </tr>\n",
       "    <tr>\n",
       "      <th>1</th>\n",
       "      <td>Florida</td>\n",
       "      <td>2697.0</td>\n",
       "      <td>45.0</td>\n",
       "      <td>NaN</td>\n",
       "      <td>NaN</td>\n",
       "      <td>1.668521</td>\n",
       "    </tr>\n",
       "    <tr>\n",
       "      <th>2</th>\n",
       "      <td>Florida</td>\n",
       "      <td>39322.0</td>\n",
       "      <td>732.0</td>\n",
       "      <td>NaN</td>\n",
       "      <td>NaN</td>\n",
       "      <td>1.861553</td>\n",
       "    </tr>\n",
       "    <tr>\n",
       "      <th>3</th>\n",
       "      <td>Florida</td>\n",
       "      <td>3268.0</td>\n",
       "      <td>55.0</td>\n",
       "      <td>NaN</td>\n",
       "      <td>NaN</td>\n",
       "      <td>1.682987</td>\n",
       "    </tr>\n",
       "    <tr>\n",
       "      <th>4</th>\n",
       "      <td>Georgia</td>\n",
       "      <td>2261.0</td>\n",
       "      <td>68.0</td>\n",
       "      <td>NaN</td>\n",
       "      <td>NaN</td>\n",
       "      <td>3.007519</td>\n",
       "    </tr>\n",
       "    <tr>\n",
       "      <th>...</th>\n",
       "      <td>...</td>\n",
       "      <td>...</td>\n",
       "      <td>...</td>\n",
       "      <td>...</td>\n",
       "      <td>...</td>\n",
       "      <td>...</td>\n",
       "    </tr>\n",
       "    <tr>\n",
       "      <th>4131547</th>\n",
       "      <td>Louisiana</td>\n",
       "      <td>84.0</td>\n",
       "      <td>2.0</td>\n",
       "      <td>0.0</td>\n",
       "      <td>82.0</td>\n",
       "      <td>2.380952</td>\n",
       "    </tr>\n",
       "    <tr>\n",
       "      <th>4131548</th>\n",
       "      <td>Iowa</td>\n",
       "      <td>18.0</td>\n",
       "      <td>0.0</td>\n",
       "      <td>0.0</td>\n",
       "      <td>18.0</td>\n",
       "      <td>0.000000</td>\n",
       "    </tr>\n",
       "    <tr>\n",
       "      <th>4131549</th>\n",
       "      <td>Alabama</td>\n",
       "      <td>34.0</td>\n",
       "      <td>1.0</td>\n",
       "      <td>0.0</td>\n",
       "      <td>33.0</td>\n",
       "      <td>2.941176</td>\n",
       "    </tr>\n",
       "    <tr>\n",
       "      <th>4131550</th>\n",
       "      <td>Texas</td>\n",
       "      <td>18.0</td>\n",
       "      <td>0.0</td>\n",
       "      <td>0.0</td>\n",
       "      <td>18.0</td>\n",
       "      <td>0.000000</td>\n",
       "    </tr>\n",
       "    <tr>\n",
       "      <th>4131551</th>\n",
       "      <td>Iowa</td>\n",
       "      <td>2215.0</td>\n",
       "      <td>16.0</td>\n",
       "      <td>0.0</td>\n",
       "      <td>2199.0</td>\n",
       "      <td>0.722348</td>\n",
       "    </tr>\n",
       "  </tbody>\n",
       "</table>\n",
       "<p>4131552 rows × 6 columns</p>\n",
       "</div>"
      ],
      "text/plain": [
       "          Provinsi  Terjangkit  Meninggal  Sembuh   Aktif    Persen\n",
       "0          Florida      5240.0      136.0     NaN     NaN  2.595420\n",
       "1          Florida      2697.0       45.0     NaN     NaN  1.668521\n",
       "2          Florida     39322.0      732.0     NaN     NaN  1.861553\n",
       "3          Florida      3268.0       55.0     NaN     NaN  1.682987\n",
       "4          Georgia      2261.0       68.0     NaN     NaN  3.007519\n",
       "...            ...         ...        ...     ...     ...       ...\n",
       "4131547  Louisiana        84.0        2.0     0.0    82.0  2.380952\n",
       "4131548       Iowa        18.0        0.0     0.0    18.0  0.000000\n",
       "4131549    Alabama        34.0        1.0     0.0    33.0  2.941176\n",
       "4131550      Texas        18.0        0.0     0.0    18.0  0.000000\n",
       "4131551       Iowa      2215.0       16.0     0.0  2199.0  0.722348\n",
       "\n",
       "[4131552 rows x 6 columns]"
      ]
     },
     "execution_count": 2048,
     "metadata": {},
     "output_type": "execute_result"
    }
   ],
   "source": [
    "# Pembuatan variable baru untuk mempermudah visualisasi\n",
    "province = covid_19.drop(columns=[\"Negara\", 'Tanggal'])\n",
    "province"
   ]
  },
  {
   "cell_type": "code",
   "execution_count": 2049,
   "metadata": {},
   "outputs": [
    {
     "data": {
      "text/plain": [
       "<pandas.core.groupby.generic.DataFrameGroupBy object at 0x00000248AE8F7280>"
      ]
     },
     "execution_count": 2049,
     "metadata": {},
     "output_type": "execute_result"
    }
   ],
   "source": [
    "# Grouping kolom Provinsi untuk mendapatkan data total per provinsi alih-alih harian\n",
    "province = covid_19.groupby('Provinsi', sort=True)\n",
    "province"
   ]
  },
  {
   "cell_type": "code",
   "execution_count": 2050,
   "metadata": {},
   "outputs": [
    {
     "name": "stderr",
     "output_type": "stream",
     "text": [
      "C:\\Users\\kaboe\\AppData\\Local\\Temp\\ipykernel_9344\\248872883.py:2: FutureWarning: The default value of numeric_only in DataFrameGroupBy.sum is deprecated. In a future version, numeric_only will default to False. Either specify numeric_only or select only columns which should be valid for the function.\n",
      "  province = province.sum()\n"
     ]
    },
    {
     "data": {
      "text/html": [
       "<div>\n",
       "<style scoped>\n",
       "    .dataframe tbody tr th:only-of-type {\n",
       "        vertical-align: middle;\n",
       "    }\n",
       "\n",
       "    .dataframe tbody tr th {\n",
       "        vertical-align: top;\n",
       "    }\n",
       "\n",
       "    .dataframe thead th {\n",
       "        text-align: right;\n",
       "    }\n",
       "</style>\n",
       "<table border=\"1\" class=\"dataframe\">\n",
       "  <thead>\n",
       "    <tr style=\"text-align: right;\">\n",
       "      <th></th>\n",
       "      <th>Terjangkit</th>\n",
       "      <th>Meninggal</th>\n",
       "      <th>Sembuh</th>\n",
       "      <th>Aktif</th>\n",
       "      <th>Persen</th>\n",
       "    </tr>\n",
       "    <tr>\n",
       "      <th>Provinsi</th>\n",
       "      <th></th>\n",
       "      <th></th>\n",
       "      <th></th>\n",
       "      <th></th>\n",
       "      <th></th>\n",
       "    </tr>\n",
       "  </thead>\n",
       "  <tbody>\n",
       "    <tr>\n",
       "      <th>Montreal, QC</th>\n",
       "      <td>17.0</td>\n",
       "      <td>0.0</td>\n",
       "      <td>0.0</td>\n",
       "      <td>0.0</td>\n",
       "      <td>0.000000</td>\n",
       "    </tr>\n",
       "    <tr>\n",
       "      <th>Norfolk County, MA</th>\n",
       "      <td>7.0</td>\n",
       "      <td>0.0</td>\n",
       "      <td>0.0</td>\n",
       "      <td>0.0</td>\n",
       "      <td>0.000000</td>\n",
       "    </tr>\n",
       "    <tr>\n",
       "      <th>Abruzzo</th>\n",
       "      <td>209205918.0</td>\n",
       "      <td>2329821.0</td>\n",
       "      <td>12705268.0</td>\n",
       "      <td>2623325.0</td>\n",
       "      <td>3810.578446</td>\n",
       "    </tr>\n",
       "    <tr>\n",
       "      <th>Acre</th>\n",
       "      <td>87766565.0</td>\n",
       "      <td>1491218.0</td>\n",
       "      <td>17707533.0</td>\n",
       "      <td>2497341.0</td>\n",
       "      <td>1865.198421</td>\n",
       "    </tr>\n",
       "    <tr>\n",
       "      <th>Adygea Republic</th>\n",
       "      <td>26570534.0</td>\n",
       "      <td>513119.0</td>\n",
       "      <td>3610183.0</td>\n",
       "      <td>378804.0</td>\n",
       "      <td>1612.721308</td>\n",
       "    </tr>\n",
       "    <tr>\n",
       "      <th>...</th>\n",
       "      <td>...</td>\n",
       "      <td>...</td>\n",
       "      <td>...</td>\n",
       "      <td>...</td>\n",
       "      <td>...</td>\n",
       "    </tr>\n",
       "    <tr>\n",
       "      <th>Zaporizhia Oblast</th>\n",
       "      <td>125955563.0</td>\n",
       "      <td>3218210.0</td>\n",
       "      <td>17027274.0</td>\n",
       "      <td>3442840.0</td>\n",
       "      <td>2262.094862</td>\n",
       "    </tr>\n",
       "    <tr>\n",
       "      <th>Zeeland</th>\n",
       "      <td>75800245.0</td>\n",
       "      <td>253947.0</td>\n",
       "      <td>0.0</td>\n",
       "      <td>5427137.0</td>\n",
       "      <td>1154.485982</td>\n",
       "    </tr>\n",
       "    <tr>\n",
       "      <th>Zhejiang</th>\n",
       "      <td>2496510.0</td>\n",
       "      <td>1083.0</td>\n",
       "      <td>684930.0</td>\n",
       "      <td>6492.0</td>\n",
       "      <td>63.188832</td>\n",
       "    </tr>\n",
       "    <tr>\n",
       "      <th>Zhytomyr Oblast</th>\n",
       "      <td>109422182.0</td>\n",
       "      <td>2082841.0</td>\n",
       "      <td>15081760.0</td>\n",
       "      <td>2255819.0</td>\n",
       "      <td>1856.333722</td>\n",
       "    </tr>\n",
       "    <tr>\n",
       "      <th>Zuid-Holland</th>\n",
       "      <td>812793333.0</td>\n",
       "      <td>3867161.0</td>\n",
       "      <td>0.0</td>\n",
       "      <td>82310945.0</td>\n",
       "      <td>1276.950655</td>\n",
       "    </tr>\n",
       "  </tbody>\n",
       "</table>\n",
       "<p>759 rows × 5 columns</p>\n",
       "</div>"
      ],
      "text/plain": [
       "                      Terjangkit  Meninggal      Sembuh       Aktif  \\\n",
       "Provinsi                                                              \n",
       " Montreal, QC               17.0        0.0         0.0         0.0   \n",
       " Norfolk County, MA          7.0        0.0         0.0         0.0   \n",
       "Abruzzo              209205918.0  2329821.0  12705268.0   2623325.0   \n",
       "Acre                  87766565.0  1491218.0  17707533.0   2497341.0   \n",
       "Adygea Republic       26570534.0   513119.0   3610183.0    378804.0   \n",
       "...                          ...        ...         ...         ...   \n",
       "Zaporizhia Oblast    125955563.0  3218210.0  17027274.0   3442840.0   \n",
       "Zeeland               75800245.0   253947.0         0.0   5427137.0   \n",
       "Zhejiang               2496510.0     1083.0    684930.0      6492.0   \n",
       "Zhytomyr Oblast      109422182.0  2082841.0  15081760.0   2255819.0   \n",
       "Zuid-Holland         812793333.0  3867161.0         0.0  82310945.0   \n",
       "\n",
       "                          Persen  \n",
       "Provinsi                          \n",
       " Montreal, QC           0.000000  \n",
       " Norfolk County, MA     0.000000  \n",
       "Abruzzo              3810.578446  \n",
       "Acre                 1865.198421  \n",
       "Adygea Republic      1612.721308  \n",
       "...                          ...  \n",
       "Zaporizhia Oblast    2262.094862  \n",
       "Zeeland              1154.485982  \n",
       "Zhejiang               63.188832  \n",
       "Zhytomyr Oblast      1856.333722  \n",
       "Zuid-Holland         1276.950655  \n",
       "\n",
       "[759 rows x 5 columns]"
      ]
     },
     "execution_count": 2050,
     "metadata": {},
     "output_type": "execute_result"
    }
   ],
   "source": [
    "# Penjumlahan value confirmed, deaths, recovered, dan active\n",
    "province = province.sum()\n",
    "province"
   ]
  },
  {
   "cell_type": "code",
   "execution_count": 2051,
   "metadata": {},
   "outputs": [
    {
     "name": "stdout",
     "output_type": "stream",
     "text": [
      "Jumlah korban terjangkit di semua negara adalah :  294318757313\n",
      "Jumlah korban meninggal di semua negara adalah :  4149756286\n",
      "Jumlah korban yang sembuh di semua negara adalah :  23488787084\n",
      "Jumlah korban yang masih aktif di semua negara adalah :  9359520796\n",
      "Persentase jumlah korban meninggal di semua negara adalah :  1.41\n"
     ]
    }
   ],
   "source": [
    "# Pembuatan variabel baru yang menampilkan jumlah korban terjangkit di semua negara\n",
    "total_confirmed = int(country['Terjangkit'].sum())\n",
    "print('Jumlah korban terjangkit di semua negara adalah : ', total_confirmed)\n",
    "\n",
    "# Pembuatan variabel baru yang menampilkan jumlah korban meninggal di semua negara\n",
    "total_deaths =int(country['Meninggal'].sum())\n",
    "print('Jumlah korban meninggal di semua negara adalah : ', total_deaths)\n",
    "\n",
    "# Pembuatan variabel baru yang menampilkan jumlah korban yang sembuh di semua negara\n",
    "total_recovered =int(country['Sembuh'].sum())\n",
    "print('Jumlah korban yang sembuh di semua negara adalah : ', total_recovered)\n",
    "\n",
    "# Pembuatan variabel baru yang menampilkan jumlah korban yang masih aktif di semua negara\n",
    "total_active =int(country['Aktif'].sum())\n",
    "print('Jumlah korban yang masih aktif di semua negara adalah : ', total_active)\n",
    "\n",
    "# Pembuatan variabel baru yang menampilkan persentase jumlah korban meninggal di semua negara\n",
    "total_deaths_percentage =float(total_deaths / total_confirmed * 100)\n",
    "\n",
    "# Manipulasi variabel agar hanya menampilkan 2 angka di belakang koma\n",
    "total_deaths_percentage = round(total_deaths_percentage, 2)\n",
    "print('Persentase jumlah korban meninggal di semua negara adalah : ', total_deaths_percentage)"
   ]
  },
  {
   "cell_type": "code",
   "execution_count": 2052,
   "metadata": {},
   "outputs": [
    {
     "data": {
      "text/plain": [
       "Negara\n",
       "US         5.032048e+10\n",
       "India      2.765461e+10\n",
       "Brazil     1.995663e+10\n",
       "France     1.479110e+10\n",
       "Germany    1.248247e+10\n",
       "Name: Terjangkit, dtype: float64"
      ]
     },
     "execution_count": 2052,
     "metadata": {},
     "output_type": "execute_result"
    }
   ],
   "source": [
    "# Pembuatan variabel baru yang menampilkan 5 negara dengan jumlah korban terjangkit terbesar\n",
    "highest_country_confirmed = country.sort_values(['Terjangkit'], ascending=False).head()\n",
    "highest_country_confirmed['Terjangkit']"
   ]
  },
  {
   "cell_type": "code",
   "execution_count": 2053,
   "metadata": {},
   "outputs": [
    {
     "data": {
      "text/plain": [
       "Negara\n",
       " Azerbaijan        1.0\n",
       "Channel Islands    1.0\n",
       "East Timor         1.0\n",
       "Ivory Coast        1.0\n",
       "North Ireland      1.0\n",
       "Name: Terjangkit, dtype: float64"
      ]
     },
     "execution_count": 2053,
     "metadata": {},
     "output_type": "execute_result"
    }
   ],
   "source": [
    "# Pembuatan variabel baru yang menampilkan 5 negara dengan jumlah korban terjangkit terkecil\n",
    "lowest_country_confirmed = country.sort_values(['Terjangkit'], ascending=True).head()\n",
    "lowest_country_confirmed['Terjangkit']"
   ]
  },
  {
   "cell_type": "code",
   "execution_count": 2054,
   "metadata": {},
   "outputs": [
    {
     "data": {
      "text/plain": [
       "Negara\n",
       "US        676883202.0\n",
       "Brazil    464970772.0\n",
       "India     347387853.0\n",
       "Mexico    230099369.0\n",
       "Russia    208182958.0\n",
       "Name: Meninggal, dtype: float64"
      ]
     },
     "execution_count": 2054,
     "metadata": {},
     "output_type": "execute_result"
    }
   ],
   "source": [
    "# Pembuatan variabel baru yang menampilkan 5 negara dengan jumlah korban meninggal terbesar\n",
    "highest_country_deaths = country.sort_values(['Meninggal'], ascending=False).head()\n",
    "highest_country_deaths['Meninggal']"
   ]
  },
  {
   "cell_type": "code",
   "execution_count": 2055,
   "metadata": {},
   "outputs": [
    {
     "data": {
      "text/plain": [
       "Negara\n",
       " Azerbaijan    0.0\n",
       "Macao SAR      0.0\n",
       "Jersey         0.0\n",
       "Ivory Coast    0.0\n",
       "Holy See       0.0\n",
       "Name: Meninggal, dtype: float64"
      ]
     },
     "execution_count": 2055,
     "metadata": {},
     "output_type": "execute_result"
    }
   ],
   "source": [
    "# Pembuatan variabel baru yang menampilkan 5 negara dengan jumlah korban meninggal terkecil\n",
    "lowest_country_deaths = country.sort_values(['Meninggal'], ascending=True).head()\n",
    "lowest_country_deaths['Meninggal']"
   ]
  },
  {
   "cell_type": "code",
   "execution_count": 2056,
   "metadata": {},
   "outputs": [
    {
     "data": {
      "text/plain": [
       "Negara\n",
       "Mexico          266389.244402\n",
       "Korea, North    173800.000000\n",
       "Russia          163312.829788\n",
       "Belgium          79021.382108\n",
       "Italy            68700.029556\n",
       "Name: Persen, dtype: float64"
      ]
     },
     "execution_count": 2056,
     "metadata": {},
     "output_type": "execute_result"
    }
   ],
   "source": [
    "# Pembuatan variabel baru yang menampilkan 5 negara dengan persentase meninggal terbesar\n",
    "highest_country_percentage = country.sort_values(['Persen'], ascending=False).head()\n",
    "highest_country_percentage['Persen']"
   ]
  },
  {
   "cell_type": "code",
   "execution_count": 2057,
   "metadata": {},
   "outputs": [
    {
     "data": {
      "text/plain": [
       "Negara\n",
       " Azerbaijan    0.0\n",
       "Macau          0.0\n",
       "Macao SAR      0.0\n",
       "Jersey         0.0\n",
       "Ivory Coast    0.0\n",
       "Name: Persen, dtype: float64"
      ]
     },
     "execution_count": 2057,
     "metadata": {},
     "output_type": "execute_result"
    }
   ],
   "source": [
    "# Pembuatan variabel baru yang menampilkan 5 negara dengan persentase meninggal terkecil\n",
    "lowest_country_percentage = country.sort_values(['Persen'], ascending=True).head()\n",
    "lowest_country_percentage['Persen']"
   ]
  },
  {
   "cell_type": "code",
   "execution_count": 2058,
   "metadata": {},
   "outputs": [],
   "source": [
    "# Import matplotlib\n",
    "%matplotlib inline"
   ]
  },
  {
   "cell_type": "code",
   "execution_count": 2059,
   "metadata": {},
   "outputs": [
    {
     "data": {
      "text/plain": [
       "<AxesSubplot: title={'center': 'Jumlah terjangkit'}, xlabel='Tanggal'>"
      ]
     },
     "execution_count": 2059,
     "metadata": {},
     "output_type": "execute_result"
    },
    {
     "data": {
      "image/png": "[encoded data removed]",
      "text/plain": [
       "<Figure size 640x480 with 1 Axes>"
      ]
     },
     "metadata": {},
     "output_type": "display_data"
    }
   ],
   "source": [
    "# Grouping Tanggal untuk menyatukan value per harinya\n",
    "tanggal = covid_19.groupby(by='Tanggal')['Terjangkit'].sum()\n",
    "# Visualisasi jumlah korban terjangkit dari waktu ke waktu\n",
    "tanggal.plot(title=\"Jumlah terjangkit\")"
   ]
  },
  {
   "cell_type": "code",
   "execution_count": 2060,
   "metadata": {},
   "outputs": [
    {
     "data": {
      "text/plain": [
       "<AxesSubplot: title={'center': '5 negara  paling banyak terjangkit'}, xlabel='Negara'>"
      ]
     },
     "execution_count": 2060,
     "metadata": {},
     "output_type": "execute_result"
    },
    {
     "data": {
      "image/png": "[encoded data removed]",
      "text/plain": [
       "<Figure size 640x480 with 1 Axes>"
      ]
     },
     "metadata": {},
     "output_type": "display_data"
    }
   ],
   "source": [
    "# Visualisasi 5 negara dengan jumlah korban terjangkit terbesar\n",
    "highest_country_confirmed['Terjangkit'].plot(title= '5 negara  paling banyak terjangkit', kind='bar')\n"
   ]
  },
  {
   "cell_type": "code",
   "execution_count": 2061,
   "metadata": {},
   "outputs": [
    {
     "data": {
      "text/plain": [
       "<AxesSubplot: title={'center': '5 negara paling sedikit terjangkit'}, xlabel='Negara'>"
      ]
     },
     "execution_count": 2061,
     "metadata": {},
     "output_type": "execute_result"
    },
    {
     "data": {
      "image/png": "[encoded data removed]",
      "text/plain": [
       "<Figure size 640x480 with 1 Axes>"
      ]
     },
     "metadata": {},
     "output_type": "display_data"
    }
   ],
   "source": [
    "# Visualisasi 5 negara dengan jumlah korban terjangkit terkecil\n",
    "lowest_country_confirmed['Terjangkit'].plot(title='5 negara paling sedikit terjangkit', kind='bar')"
   ]
  },
  {
   "cell_type": "code",
   "execution_count": 2062,
   "metadata": {},
   "outputs": [
    {
     "name": "stderr",
     "output_type": "stream",
     "text": [
      "C:\\Users\\kaboe\\AppData\\Roaming\\Python\\Python39\\site-packages\\IPython\\core\\displayhook.py:275: UserWarning: Output cache limit (currently 1000 entries) hit.\n",
      "Flushing oldest 200 entries.\n",
      "  warn('Output cache limit (currently {sz} entries) hit.\\n'\n"
     ]
    },
    {
     "data": {
      "text/plain": [
       "<AxesSubplot: title={'center': '5 negara paling banyak meninggal'}, xlabel='Negara'>"
      ]
     },
     "execution_count": 2062,
     "metadata": {},
     "output_type": "execute_result"
    },
    {
     "data": {
      "image/png": "[encoded data removed]",
      "text/plain": [
       "<Figure size 640x480 with 1 Axes>"
      ]
     },
     "metadata": {},
     "output_type": "display_data"
    }
   ],
   "source": [
    "# Visualisasi 5 negara dengan jumlah korban meninggal terbesar\n",
    "highest_country_deaths['Meninggal'].plot(title='5 negara paling banyak meninggal', kind='bar')"
   ]
  },
  {
   "cell_type": "code",
   "execution_count": 2063,
   "metadata": {},
   "outputs": [
    {
     "data": {
      "text/plain": [
       "<AxesSubplot: title={'center': '5 negara paling sedikit meninggal'}, xlabel='Negara'>"
      ]
     },
     "execution_count": 2063,
     "metadata": {},
     "output_type": "execute_result"
    },
    {
     "data": {
      "image/png": "[encoded data removed]",
      "text/plain": [
       "<Figure size 640x480 with 1 Axes>"
      ]
     },
     "metadata": {},
     "output_type": "display_data"
    }
   ],
   "source": [
    "# Visualisasi 5 negara dengan jumlah korban meninggal terkecil\n",
    "lowest_country_deaths['Meninggal'].plot(title= '5 negara paling sedikit meninggal', kind='bar')"
   ]
  },
  {
   "cell_type": "code",
   "execution_count": 2064,
   "metadata": {},
   "outputs": [
    {
     "data": {
      "text/plain": [
       "<AxesSubplot: title={'center': '5 negara paling banyak persentase meninggal'}, xlabel='Negara'>"
      ]
     },
     "execution_count": 2064,
     "metadata": {},
     "output_type": "execute_result"
    },
    {
     "data": {
      "image/png": "[encoded data removed]",
      "text/plain": [
       "<Figure size 640x480 with 1 Axes>"
      ]
     },
     "metadata": {},
     "output_type": "display_data"
    }
   ],
   "source": [
    "# Visualisasi 5 negara dengan persentase meninggal terbesar\n",
    "highest_country_percentage['Persen'].plot(title='5 negara paling banyak persentase meninggal', kind='bar')"
   ]
  },
  {
   "cell_type": "code",
   "execution_count": 2065,
   "metadata": {},
   "outputs": [
    {
     "data": {
      "text/plain": [
       "<AxesSubplot: title={'center': '5 negara paling sedikit persentase meninggal'}, xlabel='Negara'>"
      ]
     },
     "execution_count": 2065,
     "metadata": {},
     "output_type": "execute_result"
    },
    {
     "data": {
      "image/png": "[encoded data removed]",
      "text/plain": [
       "<Figure size 640x480 with 1 Axes>"
      ]
     },
     "metadata": {},
     "output_type": "display_data"
    }
   ],
   "source": [
    "# Visualisasi 5 negara dengan persentase meninggal terkecil\n",
    "lowest_country_percentage['Persen'].plot(title='5 negara paling sedikit persentase meninggal', kind='bar')"
   ]
  },
  {
   "cell_type": "code",
   "execution_count": 2066,
   "metadata": {},
   "outputs": [
    {
     "data": {
      "text/plain": [
       "Provinsi\n",
       "England        9.500288e+09\n",
       "California     5.739875e+09\n",
       "Maharashtra    5.244856e+09\n",
       "Texas          4.283106e+09\n",
       "Kerala         3.769046e+09\n",
       "Name: Terjangkit, dtype: float64"
      ]
     },
     "execution_count": 2066,
     "metadata": {},
     "output_type": "execute_result"
    }
   ],
   "source": [
    "# Pembuatan variabel baru yang menampilkan 5 provinsi dengan jumlah korban terjangkit terbesar\n",
    "highest_province_confirmed = province.sort_values(['Terjangkit'], ascending=False).head()\n",
    "highest_province_confirmed['Terjangkit']"
   ]
  },
  {
   "cell_type": "code",
   "execution_count": 2067,
   "metadata": {},
   "outputs": [
    {
     "data": {
      "text/plain": [
       "Provinsi\n",
       "External territories     0.0\n",
       "Recovered                0.0\n",
       "Montgomery County, TX    0.0\n",
       "Jervis Bay Territory     0.0\n",
       "Carver County, MN        1.0\n",
       "Name: Terjangkit, dtype: float64"
      ]
     },
     "execution_count": 2067,
     "metadata": {},
     "output_type": "execute_result"
    }
   ],
   "source": [
    "# Pembuatan variabel baru yang menampilkan 5 provinsi dengan jumlah korban terjangkit terkecil\n",
    "lowest_province_confirmed = province.sort_values(['Terjangkit'], ascending=True).head()\n",
    "lowest_province_confirmed['Terjangkit']"
   ]
  },
  {
   "cell_type": "code",
   "execution_count": 2068,
   "metadata": {},
   "outputs": [
    {
     "data": {
      "text/plain": [
       "Provinsi\n",
       "Sao Paulo      116487053.0\n",
       "England        114125939.0\n",
       "Maharashtra    102556305.0\n",
       "California      62383744.0\n",
       "Lima            62018167.0\n",
       "Name: Meninggal, dtype: float64"
      ]
     },
     "execution_count": 2068,
     "metadata": {},
     "output_type": "execute_result"
    }
   ],
   "source": [
    "# Pembuatan variabel baru yang menampilkan 5 provinsi dengan jumlah korban meninggal terbesar\n",
    "highest_province_deaths = province.sort_values(['Meninggal'], ascending=False).head()\n",
    "highest_province_deaths['Meninggal']"
   ]
  },
  {
   "cell_type": "code",
   "execution_count": 2069,
   "metadata": {},
   "outputs": [
    {
     "data": {
      "text/plain": [
       "Provinsi\n",
       " Montreal, QC               0.0\n",
       "San Francisco County, CA    0.0\n",
       "External territories        0.0\n",
       "San Diego County, CA        0.0\n",
       "Fairfax County, VA          0.0\n",
       "Name: Meninggal, dtype: float64"
      ]
     },
     "execution_count": 2069,
     "metadata": {},
     "output_type": "execute_result"
    }
   ],
   "source": [
    "# Pembuatan variabel baru yang menampilkan 5 provinsi dengan jumlah korban meninggal terkecil\n",
    "lowest_province_deaths = province.sort_values(['Meninggal'], ascending=True).head()\n",
    "lowest_province_deaths['Meninggal']"
   ]
  },
  {
   "cell_type": "code",
   "execution_count": 2070,
   "metadata": {},
   "outputs": [
    {
     "data": {
      "text/plain": [
       "Provinsi\n",
       "Georgia         425084.324329\n",
       "Michigan        218326.637312\n",
       "Mississippi     211119.913781\n",
       "Pennsylvania    172493.059776\n",
       "Arkansas        141704.961410\n",
       "Name: Persen, dtype: float64"
      ]
     },
     "execution_count": 2070,
     "metadata": {},
     "output_type": "execute_result"
    }
   ],
   "source": [
    "# Pembuatan variabel baru yang menampilkan 5 provinsi dengan persentase meninggal terbesar\n",
    "highest_province_percentage = province.sort_values(['Persen'], ascending=False).head()\n",
    "highest_province_percentage['Persen']"
   ]
  },
  {
   "cell_type": "code",
   "execution_count": 2071,
   "metadata": {},
   "outputs": [
    {
     "data": {
      "text/plain": [
       "Provinsi\n",
       " Montreal, QC                                   0.0\n",
       "El Paso County, CO                              0.0\n",
       "Saint Helena, Ascension and Tristan da Cunha    0.0\n",
       "External territories                            0.0\n",
       "Fairfax County, VA                              0.0\n",
       "Name: Persen, dtype: float64"
      ]
     },
     "execution_count": 2071,
     "metadata": {},
     "output_type": "execute_result"
    }
   ],
   "source": [
    "# Pembuatan variabel baru yang menampilkan 5 provinsi dengan persentase meninggal terkecil\n",
    "lowest_province_percentage = province.sort_values(['Persen'], ascending=True).head()\n",
    "lowest_province_percentage['Persen']"
   ]
  },
  {
   "cell_type": "code",
   "execution_count": 2072,
   "metadata": {},
   "outputs": [
    {
     "data": {
      "text/plain": [
       "<AxesSubplot: title={'center': '5 provinsi  paling banyak terjangkit'}, xlabel='Provinsi'>"
      ]
     },
     "execution_count": 2072,
     "metadata": {},
     "output_type": "execute_result"
    },
    {
     "data": {
      "image/png": "[encoded data removed]",
      "text/plain": [
       "<Figure size 640x480 with 1 Axes>"
      ]
     },
     "metadata": {},
     "output_type": "display_data"
    }
   ],
   "source": [
    "# Visualisasi 5 provinsi dengan jumlah korban terjangkit terbesar\n",
    "highest_province_confirmed['Terjangkit'].plot(title= '5 provinsi  paling banyak terjangkit', kind='bar')"
   ]
  },
  {
   "cell_type": "code",
   "execution_count": 2073,
   "metadata": {},
   "outputs": [
    {
     "data": {
      "text/plain": [
       "<AxesSubplot: title={'center': '5 negara  paling sedikit terjangkit'}, xlabel='Provinsi'>"
      ]
     },
     "execution_count": 2073,
     "metadata": {},
     "output_type": "execute_result"
    },
    {
     "data": {
      "image/png": "[encoded data removed]",
      "text/plain": [
       "<Figure size 640x480 with 1 Axes>"
      ]
     },
     "metadata": {},
     "output_type": "display_data"
    }
   ],
   "source": [
    "# Visualisasi 5 provinsi dengan jumlah korban terjangkit terkecil\n",
    "lowest_province_confirmed['Terjangkit'].plot(title= '5 negara  paling sedikit terjangkit', kind='bar')"
   ]
  },
  {
   "cell_type": "code",
   "execution_count": 2074,
   "metadata": {},
   "outputs": [
    {
     "data": {
      "text/plain": [
       "<AxesSubplot: title={'center': '5 provinsi paling banyak meninggal'}, xlabel='Provinsi'>"
      ]
     },
     "execution_count": 2074,
     "metadata": {},
     "output_type": "execute_result"
    },
    {
     "data": {
      "image/png": "[encoded data removed]",
      "text/plain": [
       "<Figure size 640x480 with 1 Axes>"
      ]
     },
     "metadata": {},
     "output_type": "display_data"
    }
   ],
   "source": [
    "# Visualisasi 5 provinsi dengan jumlah korban meninggal terbesar\n",
    "highest_province_deaths['Meninggal'].plot(title='5 provinsi paling banyak meninggal', kind='bar')"
   ]
  },
  {
   "cell_type": "code",
   "execution_count": 2075,
   "metadata": {},
   "outputs": [
    {
     "data": {
      "text/plain": [
       "<AxesSubplot: title={'center': '5 provinsi paling sedikit meninggal'}, xlabel='Provinsi'>"
      ]
     },
     "execution_count": 2075,
     "metadata": {},
     "output_type": "execute_result"
    },
    {
     "data": {
      "image/png": "[encoded data removed]",
      "text/plain": [
       "<Figure size 640x480 with 1 Axes>"
      ]
     },
     "metadata": {},
     "output_type": "display_data"
    }
   ],
   "source": [
    "# Visualisasi 5 provinsi dengan jumlah korban meninggal terkecil\n",
    "lowest_province_deaths['Meninggal'].plot(title='5 provinsi paling sedikit meninggal', kind='bar')"
   ]
  },
  {
   "cell_type": "code",
   "execution_count": 2076,
   "metadata": {},
   "outputs": [
    {
     "data": {
      "text/plain": [
       "<AxesSubplot: title={'center': '5 negara paling banyak persentase meninggal'}, xlabel='Provinsi'>"
      ]
     },
     "execution_count": 2076,
     "metadata": {},
     "output_type": "execute_result"
    },
    {
     "data": {
      "image/png": "[encoded data removed]",
      "text/plain": [
       "<Figure size 640x480 with 1 Axes>"
      ]
     },
     "metadata": {},
     "output_type": "display_data"
    }
   ],
   "source": [
    "# Visualisasi 5 provinsi dengan persentase meninggal terbesar\n",
    "highest_province_percentage['Persen'].plot(title='5 negara paling banyak persentase meninggal', kind='bar')"
   ]
  },
  {
   "cell_type": "code",
   "execution_count": 2077,
   "metadata": {},
   "outputs": [
    {
     "data": {
      "text/plain": [
       "<AxesSubplot: title={'center': '5 negara paling sedikit persentase meninggal'}, xlabel='Provinsi'>"
      ]
     },
     "execution_count": 2077,
     "metadata": {},
     "output_type": "execute_result"
    },
    {
     "data": {
      "image/png": "[encoded data removed]",
      "text/plain": [
       "<Figure size 640x480 with 1 Axes>"
      ]
     },
     "metadata": {},
     "output_type": "display_data"
    }
   ],
   "source": [
    "# Visualisasi 5 provinsi dengan persentase meninggal terkecil\n",
    "lowest_province_percentage['Persen'].plot(title='5 negara paling sedikit persentase meninggal', kind='bar')"
   ]
  },
  {
   "attachments": {},
   "cell_type": "markdown",
   "metadata": {},
   "source": [
    "# 6. Pengambilan Kesimpulan\n",
    "\n",
    "Berdasarkan data yang ada, maka bisa disimpulkan bahwa :"
   ]
  },
  {
   "attachments": {},
   "cell_type": "markdown",
   "metadata": {},
   "source": [
    "1 . Jumlah korban terjangkit di semua negara adalah :"
   ]
  },
  {
   "cell_type": "code",
   "execution_count": 2078,
   "metadata": {},
   "outputs": [
    {
     "data": {
      "text/plain": [
       "294318757313"
      ]
     },
     "execution_count": 2078,
     "metadata": {},
     "output_type": "execute_result"
    }
   ],
   "source": [
    "total_confirmed"
   ]
  },
  {
   "attachments": {},
   "cell_type": "markdown",
   "metadata": {},
   "source": [
    "2 . Jumlah korban meninggal di semua negara adalah :"
   ]
  },
  {
   "cell_type": "code",
   "execution_count": 2079,
   "metadata": {},
   "outputs": [
    {
     "data": {
      "text/plain": [
       "4149756286"
      ]
     },
     "execution_count": 2079,
     "metadata": {},
     "output_type": "execute_result"
    }
   ],
   "source": [
    "total_deaths"
   ]
  },
  {
   "attachments": {},
   "cell_type": "markdown",
   "metadata": {},
   "source": [
    "3 . Persentase jumlah korban meninggal di semua negara adalah :"
   ]
  },
  {
   "cell_type": "code",
   "execution_count": 2080,
   "metadata": {},
   "outputs": [
    {
     "data": {
      "text/plain": [
       "1.41"
      ]
     },
     "execution_count": 2080,
     "metadata": {},
     "output_type": "execute_result"
    }
   ],
   "source": [
    "total_deaths_percentage"
   ]
  },
  {
   "attachments": {},
   "cell_type": "markdown",
   "metadata": {},
   "source": [
    "4 . 5 negara dengan jumlah terjangkit terbesar adalah :"
   ]
  },
  {
   "cell_type": "code",
   "execution_count": 2081,
   "metadata": {},
   "outputs": [
    {
     "data": {
      "text/plain": [
       "Index(['US', 'India', 'Brazil', 'France', 'Germany'], dtype='object', name='Negara')"
      ]
     },
     "execution_count": 2081,
     "metadata": {},
     "output_type": "execute_result"
    }
   ],
   "source": [
    "highest_country_confirmed.index"
   ]
  },
  {
   "attachments": {},
   "cell_type": "markdown",
   "metadata": {},
   "source": [
    "5 . 5 negara dengan jumlah terjangkit terkecil adalah :"
   ]
  },
  {
   "cell_type": "code",
   "execution_count": 2082,
   "metadata": {},
   "outputs": [
    {
     "data": {
      "text/plain": [
       "Index([' Azerbaijan', 'Channel Islands', 'East Timor', 'Ivory Coast',\n",
       "       'North Ireland'],\n",
       "      dtype='object', name='Negara')"
      ]
     },
     "execution_count": 2082,
     "metadata": {},
     "output_type": "execute_result"
    }
   ],
   "source": [
    "lowest_country_confirmed.index"
   ]
  },
  {
   "attachments": {},
   "cell_type": "markdown",
   "metadata": {},
   "source": [
    "6 . 5 negara dengan jumlah kematian terbesar adalah :"
   ]
  },
  {
   "cell_type": "code",
   "execution_count": 2083,
   "metadata": {},
   "outputs": [
    {
     "data": {
      "text/plain": [
       "Index(['US', 'Brazil', 'India', 'Mexico', 'Russia'], dtype='object', name='Negara')"
      ]
     },
     "execution_count": 2083,
     "metadata": {},
     "output_type": "execute_result"
    }
   ],
   "source": [
    "highest_country_deaths.index"
   ]
  },
  {
   "attachments": {},
   "cell_type": "markdown",
   "metadata": {},
   "source": [
    "7 . 5 negara dengan jumlah kematian terkecil adalah :"
   ]
  },
  {
   "cell_type": "code",
   "execution_count": 2084,
   "metadata": {},
   "outputs": [
    {
     "data": {
      "text/plain": [
       "Index([' Azerbaijan', 'Macao SAR', 'Jersey', 'Ivory Coast', 'Holy See'], dtype='object', name='Negara')"
      ]
     },
     "execution_count": 2084,
     "metadata": {},
     "output_type": "execute_result"
    }
   ],
   "source": [
    "lowest_country_deaths.index"
   ]
  },
  {
   "attachments": {},
   "cell_type": "markdown",
   "metadata": {},
   "source": [
    "8 . 5 negara dengan persentase meninggal terbesar adalah :"
   ]
  },
  {
   "cell_type": "code",
   "execution_count": 2085,
   "metadata": {},
   "outputs": [
    {
     "data": {
      "text/plain": [
       "Index(['Mexico', 'Korea, North', 'Russia', 'Belgium', 'Italy'], dtype='object', name='Negara')"
      ]
     },
     "execution_count": 2085,
     "metadata": {},
     "output_type": "execute_result"
    }
   ],
   "source": [
    "highest_country_percentage.index"
   ]
  },
  {
   "attachments": {},
   "cell_type": "markdown",
   "metadata": {},
   "source": [
    "9 . 5 negara dengan persentase meninggal terkecil adalah :"
   ]
  },
  {
   "cell_type": "code",
   "execution_count": 2086,
   "metadata": {},
   "outputs": [
    {
     "data": {
      "text/plain": [
       "Index([' Azerbaijan', 'Macau', 'Macao SAR', 'Jersey', 'Ivory Coast'], dtype='object', name='Negara')"
      ]
     },
     "execution_count": 2086,
     "metadata": {},
     "output_type": "execute_result"
    }
   ],
   "source": [
    "lowest_country_percentage.index"
   ]
  },
  {
   "attachments": {},
   "cell_type": "markdown",
   "metadata": {},
   "source": [
    "10 . 5 provinsi dengan jumlah terjangkit terbesar adalah :"
   ]
  },
  {
   "cell_type": "code",
   "execution_count": 2087,
   "metadata": {},
   "outputs": [
    {
     "data": {
      "text/plain": [
       "Index(['England', 'California', 'Maharashtra', 'Texas', 'Kerala'], dtype='object', name='Provinsi')"
      ]
     },
     "execution_count": 2087,
     "metadata": {},
     "output_type": "execute_result"
    }
   ],
   "source": [
    "highest_province_confirmed.index"
   ]
  },
  {
   "attachments": {},
   "cell_type": "markdown",
   "metadata": {},
   "source": [
    "11 . 5 provinsi dengan jumlah terjangkit terkecil adalah :"
   ]
  },
  {
   "cell_type": "code",
   "execution_count": 2088,
   "metadata": {},
   "outputs": [
    {
     "data": {
      "text/plain": [
       "Index(['External territories', 'Recovered', 'Montgomery County, TX',\n",
       "       'Jervis Bay Territory', 'Carver County, MN'],\n",
       "      dtype='object', name='Provinsi')"
      ]
     },
     "execution_count": 2088,
     "metadata": {},
     "output_type": "execute_result"
    }
   ],
   "source": [
    "lowest_province_confirmed.index"
   ]
  },
  {
   "attachments": {},
   "cell_type": "markdown",
   "metadata": {},
   "source": [
    "12 . 5 provinsi dengan jumlah kematian terbesar adalah :"
   ]
  },
  {
   "cell_type": "code",
   "execution_count": 2089,
   "metadata": {},
   "outputs": [
    {
     "data": {
      "text/plain": [
       "Index(['Sao Paulo', 'England', 'Maharashtra', 'California', 'Lima'], dtype='object', name='Provinsi')"
      ]
     },
     "execution_count": 2089,
     "metadata": {},
     "output_type": "execute_result"
    }
   ],
   "source": [
    "highest_province_deaths.index"
   ]
  },
  {
   "attachments": {},
   "cell_type": "markdown",
   "metadata": {},
   "source": [
    "13 . 5 provinsi dengan jumlah kematian terkecil adalah :"
   ]
  },
  {
   "cell_type": "code",
   "execution_count": 2090,
   "metadata": {},
   "outputs": [
    {
     "data": {
      "text/plain": [
       "Index([' Montreal, QC', 'San Francisco County, CA', 'External territories',\n",
       "       'San Diego County, CA', 'Fairfax County, VA'],\n",
       "      dtype='object', name='Provinsi')"
      ]
     },
     "execution_count": 2090,
     "metadata": {},
     "output_type": "execute_result"
    }
   ],
   "source": [
    "lowest_province_deaths.index"
   ]
  },
  {
   "attachments": {},
   "cell_type": "markdown",
   "metadata": {},
   "source": [
    "14 . 5 provinsi dengan persentase meninggal terbesar adalah :"
   ]
  },
  {
   "cell_type": "code",
   "execution_count": 2091,
   "metadata": {},
   "outputs": [
    {
     "data": {
      "text/plain": [
       "Index(['Georgia', 'Michigan', 'Mississippi', 'Pennsylvania', 'Arkansas'], dtype='object', name='Provinsi')"
      ]
     },
     "execution_count": 2091,
     "metadata": {},
     "output_type": "execute_result"
    }
   ],
   "source": [
    "highest_province_percentage.index"
   ]
  },
  {
   "attachments": {},
   "cell_type": "markdown",
   "metadata": {},
   "source": [
    "15 . 5 provinsi dengan persentase meninggal terkecil adalah :"
   ]
  },
  {
   "cell_type": "code",
   "execution_count": 2092,
   "metadata": {},
   "outputs": [
    {
     "data": {
      "text/plain": [
       "Index([' Montreal, QC', 'El Paso County, CO',\n",
       "       'Saint Helena, Ascension and Tristan da Cunha', 'External territories',\n",
       "       'Fairfax County, VA'],\n",
       "      dtype='object', name='Provinsi')"
      ]
     },
     "execution_count": 2092,
     "metadata": {},
     "output_type": "execute_result"
    }
   ],
   "source": [
    "lowest_province_percentage.index"
   ]
  },
  {
   "attachments": {},
   "cell_type": "markdown",
   "metadata": {},
   "source": [
    "Kesimpulan\n",
    "\n",
    "<p style='text-align: justify;'> Data yang ada tidak bisa menjadi acuan secara akurat apakah suatu negara menjadi alasan utama kenapa korban bisa sembuh, dikarenakan Covid-19 bisa sembuh dengan sendirinya tanpa adanya intervensi dari negara. Sehingga data persentase kematian tidak bisa menjadi satu-satunya acuan, namun bisa menjadi data pendukung yang memberikan gambaran kasar apakah negara tersebut berusaha untuk menangani korban terjangkit agar tidak meninggal dan bisa sembuh</p>"
   ]
  }
 ],
 "metadata": {
  "kernelspec": {
   "display_name": "Hacktiv8",
   "language": "python",
   "name": "python3"
  },
  "language_info": {
   "codemirror_mode": {
    "name": "ipython",
    "version": 3
   },
   "file_extension": ".py",
   "mimetype": "text/x-python",
   "name": "python",
   "nbconvert_exporter": "python",
   "pygments_lexer": "ipython3",
   "version": "3.9.16 (main, Jan 11 2023, 16:16:36) [MSC v.1916 64 bit (AMD64)]"
  },
  "orig_nbformat": 4,
  "vscode": {
   "interpreter": {
    "hash": "9ff602f9eccff03ee989db4d72cf9c9243de1b315591902102c988001ce0060e"
   }
  }
 },
 "nbformat": 4,
 "nbformat_minor": 2
}
